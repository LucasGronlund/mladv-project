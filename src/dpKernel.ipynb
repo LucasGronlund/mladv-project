{
 "cells": [
  {
   "cell_type": "markdown",
   "metadata": {},
   "source": [
    "# The recursive ssk kernel using Def. 2 and the efficient calculation approach.\n"
   ]
  },
  {
   "cell_type": "code",
   "execution_count": 1,
   "metadata": {},
   "outputs": [],
   "source": [
    "## Imports\n",
    "\n",
    "import fetch_data as fd\n",
    "import numpy as np\n",
    "import itertools as it\n",
    "import tqdm\n",
    "from math import sqrt\n",
    "import kernel as k\n",
    "import MostFrequentFeatures as mff"
   ]
  },
  {
   "cell_type": "code",
   "execution_count": 2,
   "metadata": {},
   "outputs": [],
   "source": [
    "## Methods\n",
    "\n",
    "def k_prime(s,t,n,l):\n",
    "\n",
    "    #-------------------------------------------------------------------------------------#\n",
    "    # Basically what's happening here is that we are succesively looping through both of  #\n",
    "    # the strings and updating the kernel matrix accordingly while refering to previously #\n",
    "    # computed values. This will give us time complexity O(n|s||t|) in the end.           #\n",
    "    #-------------------------------------------------------------------------------------#\n",
    "    \n",
    "    \n",
    "    #Variables:\n",
    "    #\n",
    "    #s is a string\n",
    "    #t is a string\n",
    "    #n is the length of the substring\n",
    "    #l is the lambda value\n",
    "    #kp is refering to k'\n",
    "    #kpp is refering to k'' \n",
    "    \n",
    "    #start by creating the empty matrices.\n",
    "    kp = np.zeros([n,len(s)+1,len(t)+1]);\n",
    "    kpp = np.zeros([n,len(s)+1,len(t)+1]);\n",
    "    \n",
    "    #initialize\n",
    "    kp[0][:][:] = 1;\n",
    "    \n",
    "    for i in range(1,n):\n",
    "        for j in range(i,len(s)):\n",
    "            for k in range(i,len(t)+1):\n",
    "\n",
    "                #check whether 'x occurs in u' as described in the paper\n",
    "                if(s[j-1]!=t[k-1]):\n",
    "                    kpp[i][j][k]=l*kpp[i][j][k-1];\n",
    "                #if not, do the other calcs.\n",
    "                else:\n",
    "                    kpp[i][j][k]=l*(kpp[i][j][k-1]+l*kp[i-1][j-1][k-1]);\n",
    "                \n",
    "                #finally calculate kp\n",
    "                kp[i][j][k-1]=l*kp[i][j-1][k-1]+kpp[i][j][k-1];\n",
    "                \n",
    "    return kp;\n",
    "\n",
    "\n",
    "def k(s,t,n,l,kp):\n",
    "    \n",
    "    #--------------------------------------------------#\n",
    "    # This takes in an already computed k_prime kernel #\n",
    "    # and calculates the overall kernel as per the     #\n",
    "    # paper. The last part of Def. 2                   #\n",
    "    #--------------------------------------------------#\n",
    "\n",
    "    #Variables:\n",
    "    #\n",
    "    #s is a string\n",
    "    #t is a string\n",
    "    #n is the length of the substring\n",
    "    #l is the lambda value\n",
    "    #kp is refering to k'\n",
    "    #ksum is refering to the kernel value.\n",
    "    \n",
    "    ksum = 0;\n",
    "    \n",
    "    #Loop over all values in the computed k_prime matrix and \n",
    "    #pick out the values where x = j, as mentioned in the paper.\n",
    "    #\n",
    "    #There is no recursion necessary here since we already did it\n",
    "    #when computing k_prime, the last 'layer' of k_prime\n",
    "    #contains all the necessary values.\n",
    "    \n",
    "    for i in range(kp.shape[1]-1):\n",
    "        for j in range(kp.shape[2]-1):\n",
    "            if(s[i]==t[j]):\n",
    "                ksum += kp[n-1][i][j];\n",
    "                \n",
    "    return l**2*ksum;\n",
    "\n",
    "def get_normed_kernel_values(s,t,n,l):\n",
    "    \n",
    "    #------------------------------------------------------#\n",
    "    # This returns the normalized values for the kernel    # \n",
    "    # using the normalization mentioned in the paper.      #\n",
    "    # s is a string.                                       #\n",
    "    # t is a string.                                       #\n",
    "    # n is the substring length                            #           \n",
    "    # l is the lambda value, the 'weight'                  #\n",
    "    #------------------------------------------------------#\n",
    "    \n",
    "    kstP = k_prime(s,t,n,l);\n",
    "    kssP = k_prime(s,s,n,l);\n",
    "    kttP = k_prime(t,t,n,l);\n",
    "\n",
    "    kst = k(s,t,n,l,kstP)\n",
    "    kss = k(s,s,n,l,kssP);\n",
    "    ktt = k(t,t,n,l,kttP);\n",
    "    \n",
    "    return(kst/sqrt(kss*ktt))"
   ]
  },
  {
   "cell_type": "markdown",
   "metadata": {},
   "source": [
    "## Below are some testing cases. The same as for the naive implementation just for sanity checks."
   ]
  },
  {
   "cell_type": "code",
   "execution_count": 269,
   "metadata": {},
   "outputs": [
    {
     "name": "stdout",
     "output_type": "stream",
     "text": [
      "K_2: 0.57981369829289153\n",
      "K_3: 0.47845478625579563\n",
      "K_4: 0.43887050844308401\n",
      "K_5: 0.40574516353732781\n",
      "K_6: 0.36915601201963888\n"
     ]
    }
   ],
   "source": [
    "testData = [\"science is organized knowledge\",\"wisdom is organized life\"]\n",
    "#testData = [\"scat\",\"scat\"]\n",
    "#testData = [\"cat\",\"car\",\"bat\",\"bar\"]\n",
    "\n",
    "l=0.5;\n",
    "\n",
    "\n",
    "n=2;\n",
    "print(\"K_2: \" + repr(get_normed_kernel_values(testData[0],testData[1],n,l)))\n",
    "\n",
    "\n",
    "n=3;\n",
    "print(\"K_3: \" + repr(get_normed_kernel_values(testData[0],testData[1],n,l)))\n",
    "\n",
    "\n",
    "n=4;\n",
    "print(\"K_4: \" + repr(get_normed_kernel_values(testData[0],testData[1],n,l)))\n",
    "\n",
    "\n",
    "n=5;\n",
    "print(\"K_5: \" + repr(get_normed_kernel_values(testData[0],testData[1],n,l)))\n",
    "\n",
    "n=6;\n",
    "print(\"K_6: \" + repr(get_normed_kernel_values(testData[0],testData[1],n,l)))"
   ]
  },
  {
   "cell_type": "code",
   "execution_count": 3,
   "metadata": {},
   "outputs": [],
   "source": [
    "testData = [\"science is organized knowledge\",\"wisdom is organized life\"]"
   ]
  },
  {
   "cell_type": "code",
   "execution_count": 4,
   "metadata": {},
   "outputs": [],
   "source": [
    "#Set params\n",
    "n = 3;  #how long the substrings should be.\n",
    "lmda = 0.5; #The penalty (weight) paramter"
   ]
  },
  {
   "cell_type": "code",
   "execution_count": 5,
   "metadata": {},
   "outputs": [
    {
     "name": "stdout",
     "output_type": "stream",
     "text": [
      "done with features\n",
      "done with occurance\n"
     ]
    }
   ],
   "source": [
    "S = 500;\n",
    "\n",
    "topFeatures, topFeatureScores = mff.mostFrequentFeatures(testData,n,S)"
   ]
  },
  {
   "cell_type": "code",
   "execution_count": 6,
   "metadata": {},
   "outputs": [
    {
     "ename": "AttributeError",
     "evalue": "'function' object has no attribute 'approximative_kernel'",
     "output_type": "error",
     "traceback": [
      "\u001b[1;31m---------------------------------------------------------------------------\u001b[0m",
      "\u001b[1;31mAttributeError\u001b[0m                            Traceback (most recent call last)",
      "\u001b[1;32m<ipython-input-6-43916bda5ec7>\u001b[0m in \u001b[0;36m<module>\u001b[1;34m()\u001b[0m\n\u001b[1;32m----> 1\u001b[1;33m \u001b[0mKtrain_approx\u001b[0m \u001b[1;33m=\u001b[0m \u001b[0mk\u001b[0m\u001b[1;33m.\u001b[0m\u001b[0mapproximative_kernel\u001b[0m\u001b[1;33m(\u001b[0m\u001b[0mtestData\u001b[0m\u001b[1;33m,\u001b[0m\u001b[0mtestData\u001b[0m\u001b[1;33m,\u001b[0m\u001b[0mtopFeatures\u001b[0m\u001b[1;33m,\u001b[0m\u001b[0mn\u001b[0m\u001b[1;33m,\u001b[0m\u001b[0mlmda\u001b[0m\u001b[1;33m)\u001b[0m\u001b[1;33m\u001b[0m\u001b[0m\n\u001b[0m",
      "\u001b[1;31mAttributeError\u001b[0m: 'function' object has no attribute 'approximative_kernel'"
     ]
    }
   ],
   "source": [
    "Ktrain_approx = k.approximative_kernel(testData,testData,topFeatures,n,lmda)"
   ]
  },
  {
   "cell_type": "code",
   "execution_count": 11,
   "metadata": {},
   "outputs": [
    {
     "name": "stderr",
     "output_type": "stream",
     "text": [
      "  0%|                                                    | 0/2 [00:00<?, ?it/s]\n",
      "  0%|                                                    | 0/1 [00:00<?, ?it/s]\n",
      "100%|███████████████████████████████████████████| 1/1 [00:00<00:00, 199.82it/s]\n",
      "0it [00:00, ?it/s]\n",
      "100%|███████████████████████████████████████████| 2/2 [00:00<00:00, 153.71it/s]\n"
     ]
    }
   ],
   "source": [
    "Ktrain = k.recursive_kernel(testData,testData,n,lmda)"
   ]
  },
  {
   "cell_type": "code",
   "execution_count": 12,
   "metadata": {},
   "outputs": [
    {
     "name": "stdout",
     "output_type": "stream",
     "text": [
      "[[ 1.          0.47845479]\n",
      " [ 0.47845479  1.        ]]\n"
     ]
    }
   ],
   "source": [
    "print(Ktrain)"
   ]
  },
  {
   "cell_type": "code",
   "execution_count": 16,
   "metadata": {},
   "outputs": [
    {
     "name": "stdout",
     "output_type": "stream",
     "text": [
      "[[ 1.19004262  0.29709408]\n",
      " [ 0.29709408  1.19164726]]\n"
     ]
    }
   ],
   "source": [
    "print(Ktrain_approx)"
   ]
  }
 ],
 "metadata": {
  "kernelspec": {
   "display_name": "Python 3",
   "language": "python",
   "name": "python3"
  },
  "language_info": {
   "codemirror_mode": {
    "name": "ipython",
    "version": 3
   },
   "file_extension": ".py",
   "mimetype": "text/x-python",
   "name": "python",
   "nbconvert_exporter": "python",
   "pygments_lexer": "ipython3",
   "version": "3.5.4"
  }
 },
 "nbformat": 4,
 "nbformat_minor": 2
}
