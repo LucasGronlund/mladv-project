{
 "cells": [
  {
   "cell_type": "markdown",
   "metadata": {},
   "source": [
    "# The purpose of this notebook is to show results in a formatted way.\n",
    "\n",
    "This will make use of precomputed kernels, so no heavy computation will be done in this notebook.\n",
    "\n",
    "I will add placeholders to methods/functions that hopefully should be avaiable when the project is almost done.\n",
    "\n",
    "The assumption here is that we will only display results for the approximated kernels."
   ]
  },
  {
   "cell_type": "code",
   "execution_count": 1,
   "metadata": {},
   "outputs": [],
   "source": [
    "# Imports\n",
    "\n",
    "import fetch_data as fd\n",
    "import numpy as np\n",
    "import os\n",
    "from MostFrequentFeatures import mostFrequentFeatures\n",
    "import itertools as it\n",
    "import loadData as ld\n",
    "import pandas as pd\n",
    "import kernel"
   ]
  },
  {
   "cell_type": "code",
   "execution_count": 2,
   "metadata": {},
   "outputs": [
    {
     "name": "stdout",
     "output_type": "stream",
     "text": [
      "done with features\n",
      "done with occurance\n",
      "531441\n"
     ]
    },
    {
     "ename": "TypeError",
     "evalue": "object of type 'numpy.float64' has no len()",
     "output_type": "error",
     "traceback": [
      "\u001b[1;31m---------------------------------------------------------------------------\u001b[0m",
      "\u001b[1;31mTypeError\u001b[0m                                 Traceback (most recent call last)",
      "\u001b[1;32m<ipython-input-2-3302f966e33a>\u001b[0m in \u001b[0;36m<module>\u001b[1;34m()\u001b[0m\n\u001b[0;32m      5\u001b[0m \u001b[0mf\u001b[0m\u001b[1;33m,\u001b[0m\u001b[0ms\u001b[0m \u001b[1;33m=\u001b[0m \u001b[0mmostFrequentFeatures\u001b[0m\u001b[1;33m(\u001b[0m\u001b[0mtestData\u001b[0m\u001b[1;33m,\u001b[0m\u001b[0mn\u001b[0m\u001b[1;33m,\u001b[0m\u001b[1;36m5000\u001b[0m\u001b[1;33m)\u001b[0m\u001b[1;33m\u001b[0m\u001b[0m\n\u001b[0;32m      6\u001b[0m \u001b[0mprint\u001b[0m\u001b[1;33m(\u001b[0m\u001b[0mlen\u001b[0m\u001b[1;33m(\u001b[0m\u001b[0mf\u001b[0m\u001b[1;33m)\u001b[0m\u001b[1;33m)\u001b[0m\u001b[1;33m\u001b[0m\u001b[0m\n\u001b[1;32m----> 7\u001b[1;33m \u001b[0mprint\u001b[0m\u001b[1;33m(\u001b[0m\u001b[1;34m\"K_2: \"\u001b[0m \u001b[1;33m+\u001b[0m \u001b[0mrepr\u001b[0m\u001b[1;33m(\u001b[0m\u001b[0mkernel\u001b[0m\u001b[1;33m.\u001b[0m\u001b[0mapproximative_kernel\u001b[0m\u001b[1;33m(\u001b[0m\u001b[1;33m[\u001b[0m\u001b[0mtestData\u001b[0m\u001b[1;33m[\u001b[0m\u001b[1;36m0\u001b[0m\u001b[1;33m]\u001b[0m\u001b[1;33m]\u001b[0m\u001b[1;33m,\u001b[0m\u001b[1;33m[\u001b[0m\u001b[0mtestData\u001b[0m\u001b[1;33m[\u001b[0m\u001b[1;36m1\u001b[0m\u001b[1;33m]\u001b[0m\u001b[1;33m]\u001b[0m\u001b[1;33m,\u001b[0m\u001b[0mf\u001b[0m\u001b[1;33m,\u001b[0m\u001b[0mn\u001b[0m\u001b[1;33m,\u001b[0m\u001b[0ml\u001b[0m\u001b[1;33m)\u001b[0m\u001b[1;33m)\u001b[0m\u001b[1;33m)\u001b[0m\u001b[1;33m\u001b[0m\u001b[0m\n\u001b[0m",
      "\u001b[1;32m~\\Documents\\Skolan\\mladv\\Project\\mladv-project\\src\\kernel.py\u001b[0m in \u001b[0;36mapproximative_kernel\u001b[1;34m(x, z, s, n, l)\u001b[0m\n\u001b[0;32m    203\u001b[0m \u001b[1;32mdef\u001b[0m \u001b[0mapproximative_kernel\u001b[0m\u001b[1;33m(\u001b[0m\u001b[0mx\u001b[0m\u001b[1;33m,\u001b[0m\u001b[0mz\u001b[0m\u001b[1;33m,\u001b[0m\u001b[0ms\u001b[0m\u001b[1;33m,\u001b[0m\u001b[0mn\u001b[0m\u001b[1;33m,\u001b[0m\u001b[0ml\u001b[0m\u001b[1;33m)\u001b[0m\u001b[1;33m:\u001b[0m\u001b[1;33m\u001b[0m\u001b[0m\n\u001b[0;32m    204\u001b[0m     \u001b[0mN\u001b[0m \u001b[1;33m=\u001b[0m \u001b[0mlen\u001b[0m\u001b[1;33m(\u001b[0m\u001b[0mx\u001b[0m\u001b[1;33m)\u001b[0m\u001b[1;33m\u001b[0m\u001b[0m\n\u001b[1;32m--> 205\u001b[1;33m     \u001b[0mkss\u001b[0m \u001b[1;33m=\u001b[0m \u001b[1;33m[\u001b[0m \u001b[0m_k\u001b[0m\u001b[1;33m(\u001b[0m\u001b[0mi\u001b[0m\u001b[1;33m,\u001b[0m\u001b[0mi\u001b[0m\u001b[1;33m,\u001b[0m\u001b[0mn\u001b[0m\u001b[1;33m,\u001b[0m\u001b[0ml\u001b[0m\u001b[1;33m,\u001b[0m\u001b[0m_k_prime\u001b[0m\u001b[1;33m(\u001b[0m\u001b[0mi\u001b[0m\u001b[1;33m,\u001b[0m\u001b[0mi\u001b[0m\u001b[1;33m,\u001b[0m\u001b[0mn\u001b[0m\u001b[1;33m,\u001b[0m\u001b[0ml\u001b[0m\u001b[1;33m)\u001b[0m\u001b[1;33m)\u001b[0m \u001b[1;32mfor\u001b[0m \u001b[0mi\u001b[0m \u001b[1;32min\u001b[0m \u001b[0ms\u001b[0m\u001b[1;33m]\u001b[0m\u001b[1;33m\u001b[0m\u001b[0m\n\u001b[0m\u001b[0;32m    206\u001b[0m     \u001b[0mkxx\u001b[0m \u001b[1;33m=\u001b[0m \u001b[1;33m[\u001b[0m \u001b[0m_k\u001b[0m\u001b[1;33m(\u001b[0m\u001b[0mi\u001b[0m\u001b[1;33m,\u001b[0m\u001b[0mi\u001b[0m\u001b[1;33m,\u001b[0m\u001b[0mn\u001b[0m\u001b[1;33m,\u001b[0m\u001b[0ml\u001b[0m\u001b[1;33m,\u001b[0m\u001b[0m_k_prime\u001b[0m\u001b[1;33m(\u001b[0m\u001b[0mi\u001b[0m\u001b[1;33m,\u001b[0m\u001b[0mi\u001b[0m\u001b[1;33m,\u001b[0m\u001b[0mn\u001b[0m\u001b[1;33m,\u001b[0m\u001b[0ml\u001b[0m\u001b[1;33m)\u001b[0m\u001b[1;33m)\u001b[0m \u001b[1;32mfor\u001b[0m \u001b[0mi\u001b[0m \u001b[1;32min\u001b[0m \u001b[0mx\u001b[0m\u001b[1;33m]\u001b[0m\u001b[1;33m\u001b[0m\u001b[0m\n\u001b[0;32m    207\u001b[0m     \u001b[1;32mif\u001b[0m \u001b[0mN\u001b[0m \u001b[1;33m==\u001b[0m \u001b[0mlen\u001b[0m\u001b[1;33m(\u001b[0m\u001b[0mz\u001b[0m\u001b[1;33m)\u001b[0m\u001b[1;33m+\u001b[0m\u001b[1;36m1\u001b[0m\u001b[1;33m:\u001b[0m\u001b[1;33m\u001b[0m\u001b[0m\n",
      "\u001b[1;32m~\\Documents\\Skolan\\mladv\\Project\\mladv-project\\src\\kernel.py\u001b[0m in \u001b[0;36m<listcomp>\u001b[1;34m(.0)\u001b[0m\n\u001b[0;32m    203\u001b[0m \u001b[1;32mdef\u001b[0m \u001b[0mapproximative_kernel\u001b[0m\u001b[1;33m(\u001b[0m\u001b[0mx\u001b[0m\u001b[1;33m,\u001b[0m\u001b[0mz\u001b[0m\u001b[1;33m,\u001b[0m\u001b[0ms\u001b[0m\u001b[1;33m,\u001b[0m\u001b[0mn\u001b[0m\u001b[1;33m,\u001b[0m\u001b[0ml\u001b[0m\u001b[1;33m)\u001b[0m\u001b[1;33m:\u001b[0m\u001b[1;33m\u001b[0m\u001b[0m\n\u001b[0;32m    204\u001b[0m     \u001b[0mN\u001b[0m \u001b[1;33m=\u001b[0m \u001b[0mlen\u001b[0m\u001b[1;33m(\u001b[0m\u001b[0mx\u001b[0m\u001b[1;33m)\u001b[0m\u001b[1;33m\u001b[0m\u001b[0m\n\u001b[1;32m--> 205\u001b[1;33m     \u001b[0mkss\u001b[0m \u001b[1;33m=\u001b[0m \u001b[1;33m[\u001b[0m \u001b[0m_k\u001b[0m\u001b[1;33m(\u001b[0m\u001b[0mi\u001b[0m\u001b[1;33m,\u001b[0m\u001b[0mi\u001b[0m\u001b[1;33m,\u001b[0m\u001b[0mn\u001b[0m\u001b[1;33m,\u001b[0m\u001b[0ml\u001b[0m\u001b[1;33m,\u001b[0m\u001b[0m_k_prime\u001b[0m\u001b[1;33m(\u001b[0m\u001b[0mi\u001b[0m\u001b[1;33m,\u001b[0m\u001b[0mi\u001b[0m\u001b[1;33m,\u001b[0m\u001b[0mn\u001b[0m\u001b[1;33m,\u001b[0m\u001b[0ml\u001b[0m\u001b[1;33m)\u001b[0m\u001b[1;33m)\u001b[0m \u001b[1;32mfor\u001b[0m \u001b[0mi\u001b[0m \u001b[1;32min\u001b[0m \u001b[0ms\u001b[0m\u001b[1;33m]\u001b[0m\u001b[1;33m\u001b[0m\u001b[0m\n\u001b[0m\u001b[0;32m    206\u001b[0m     \u001b[0mkxx\u001b[0m \u001b[1;33m=\u001b[0m \u001b[1;33m[\u001b[0m \u001b[0m_k\u001b[0m\u001b[1;33m(\u001b[0m\u001b[0mi\u001b[0m\u001b[1;33m,\u001b[0m\u001b[0mi\u001b[0m\u001b[1;33m,\u001b[0m\u001b[0mn\u001b[0m\u001b[1;33m,\u001b[0m\u001b[0ml\u001b[0m\u001b[1;33m,\u001b[0m\u001b[0m_k_prime\u001b[0m\u001b[1;33m(\u001b[0m\u001b[0mi\u001b[0m\u001b[1;33m,\u001b[0m\u001b[0mi\u001b[0m\u001b[1;33m,\u001b[0m\u001b[0mn\u001b[0m\u001b[1;33m,\u001b[0m\u001b[0ml\u001b[0m\u001b[1;33m)\u001b[0m\u001b[1;33m)\u001b[0m \u001b[1;32mfor\u001b[0m \u001b[0mi\u001b[0m \u001b[1;32min\u001b[0m \u001b[0mx\u001b[0m\u001b[1;33m]\u001b[0m\u001b[1;33m\u001b[0m\u001b[0m\n\u001b[0;32m    207\u001b[0m     \u001b[1;32mif\u001b[0m \u001b[0mN\u001b[0m \u001b[1;33m==\u001b[0m \u001b[0mlen\u001b[0m\u001b[1;33m(\u001b[0m\u001b[0mz\u001b[0m\u001b[1;33m)\u001b[0m\u001b[1;33m+\u001b[0m\u001b[1;36m1\u001b[0m\u001b[1;33m:\u001b[0m\u001b[1;33m\u001b[0m\u001b[0m\n",
      "\u001b[1;32m~\\Documents\\Skolan\\mladv\\Project\\mladv-project\\src\\kernel.py\u001b[0m in \u001b[0;36m_k_prime\u001b[1;34m(s, t, n, l)\u001b[0m\n\u001b[0;32m     92\u001b[0m \u001b[1;33m\u001b[0m\u001b[0m\n\u001b[0;32m     93\u001b[0m     \u001b[1;31m#start by creating the empty matrices.\u001b[0m\u001b[1;33m\u001b[0m\u001b[1;33m\u001b[0m\u001b[0m\n\u001b[1;32m---> 94\u001b[1;33m     \u001b[0mkp\u001b[0m \u001b[1;33m=\u001b[0m \u001b[0mnp\u001b[0m\u001b[1;33m.\u001b[0m\u001b[0mzeros\u001b[0m\u001b[1;33m(\u001b[0m\u001b[1;33m[\u001b[0m\u001b[0mn\u001b[0m\u001b[1;33m,\u001b[0m\u001b[0mlen\u001b[0m\u001b[1;33m(\u001b[0m\u001b[0ms\u001b[0m\u001b[1;33m)\u001b[0m\u001b[1;33m+\u001b[0m\u001b[1;36m1\u001b[0m\u001b[1;33m,\u001b[0m\u001b[0mlen\u001b[0m\u001b[1;33m(\u001b[0m\u001b[0mt\u001b[0m\u001b[1;33m)\u001b[0m\u001b[1;33m+\u001b[0m\u001b[1;36m1\u001b[0m\u001b[1;33m]\u001b[0m\u001b[1;33m)\u001b[0m\u001b[1;33m;\u001b[0m\u001b[1;33m\u001b[0m\u001b[0m\n\u001b[0m\u001b[0;32m     95\u001b[0m     \u001b[0mkpp\u001b[0m \u001b[1;33m=\u001b[0m \u001b[0mnp\u001b[0m\u001b[1;33m.\u001b[0m\u001b[0mzeros\u001b[0m\u001b[1;33m(\u001b[0m\u001b[1;33m[\u001b[0m\u001b[0mn\u001b[0m\u001b[1;33m,\u001b[0m\u001b[0mlen\u001b[0m\u001b[1;33m(\u001b[0m\u001b[0ms\u001b[0m\u001b[1;33m)\u001b[0m\u001b[1;33m+\u001b[0m\u001b[1;36m1\u001b[0m\u001b[1;33m,\u001b[0m\u001b[0mlen\u001b[0m\u001b[1;33m(\u001b[0m\u001b[0mt\u001b[0m\u001b[1;33m)\u001b[0m\u001b[1;33m+\u001b[0m\u001b[1;36m1\u001b[0m\u001b[1;33m]\u001b[0m\u001b[1;33m)\u001b[0m\u001b[1;33m;\u001b[0m\u001b[1;33m\u001b[0m\u001b[0m\n\u001b[0;32m     96\u001b[0m \u001b[1;33m\u001b[0m\u001b[0m\n",
      "\u001b[1;31mTypeError\u001b[0m: object of type 'numpy.float64' has no len()"
     ]
    }
   ],
   "source": [
    "testData = [\"science is organized knowledge\",\"wisdom is organized life\"]\n",
    "\n",
    "l=0.5;\n",
    "n=4;\n",
    "f,s = mostFrequentFeatures(testData,n,5000)\n",
    "print(f)\n",
    "print(\"K_2: \" + repr(kernel.approximative_kernel([testData[0]],[testData[1]],f,n,l)))"
   ]
  },
  {
   "cell_type": "code",
   "execution_count": 54,
   "metadata": {},
   "outputs": [
    {
     "name": "stdout",
     "output_type": "stream",
     "text": [
      "[0 1 2 3 4 5]\n",
      "3\n",
      "hjej\n",
      "\n",
      "\n"
     ]
    }
   ],
   "source": [
    "# Load all relevant data, such as frobenius values vs nr. of features used.\n",
    "\n",
    "values = np.array([0,1,2,3,4,5])\n",
    "values = np.asarray(np.array([0,1,2,3,4,5]))\n",
    "\n",
    "print(values)\n",
    "tobedeleted = np.array([False, True, False, True, False, True])\n",
    "print(np.sum(tobedeleted))\n",
    "#tobedeleted = np.array([0, 1, 0, 1, 0, 1])\n",
    "# So index 3, 5 and 1 are True so they will be deleted.\n",
    "values_deleted = values[~tobedeleted]\n",
    "#that just gives you what you want.\n",
    "print(\"hjej\")\n",
    "print(\"\\033[F\")\n",
    "print(\"\\033[K\")"
   ]
  },
  {
   "cell_type": "code",
   "execution_count": 11,
   "metadata": {},
   "outputs": [
    {
     "name": "stdout",
     "output_type": "stream",
     "text": [
      "['al laboratories inc lt bmd th qtr net shr cts vs cts net vs revs mln vs mln mths shr cts vs cts net vs revs mln vs mln note net qtr yr adjusted reflect retroactive effect three two stock splits distributed shareholders july august net includes results operations parmed pharmaceuticals inc acquired may ', 'hemotec inc lt hemo th qtr net shr one ct vs two cts net vs sales vs year shr four cts vs cts net vs sales vs note net includes tax credits dlrs vs dlrs quarter credit dlrs vs provision dlrs year ', 'gencorp st qtr shr cts vs cts gencorp st qtr shr cts vs cts ', 'spar sees sees strong five year growth lt spar aerospace ltd reporting sharply lower profit said anticipated solid profit revenue growth next five years looking longer term spar confident continuing concentration advanced robotics satellite based communications electro optical defense systems lead significant growth revenues earnings next five years company said also forecast higher sales due increased order backlog revenues last year fell mln dlrs mln profit fell mln dlrs mln spar added lower development costs communications group return normal operations gears transmissions aviation services remove serious drain profits year attributed reduced earnings communications group losses resulting continued heavy investment new products market development four month strike toronto plants delays receipt authorization customers start work new programs ', 'bank b c revises share payout estimate bank british columbia said revised estimate shareholder distributions last november sale bank assets hongkong bank canada cts dlrs share cts dlrs share bank said estimate could rise dlrs dlrs share full pension surplus obtained said know distributions would made earlier reported operating profit first quarter ended january fell dlrs mln dlrs previous year full year ended october bank posted operating loss mln dlrs year earlier profit mln dlrs bank also posted mln dlr extraordinary loss fiscal bank british columbia sold assets last november hongkong bank canada unit lt hongkong shanghai banking corp hong kong mln dlrs said efforts wind bank affairs proceeding quickly possible bank said expected report positive earnings future periods barring unforeseen circumstances loan losses bank previously said figured move sell assets rose mln dlrs fiscal year earlier mln dlrs bank said mln dlrs total represented downward adjustments portfolio syndicated sovereign risk loans required sale hongkong bank since november bank confined activities winding affairs bank british columbia said ', ' lt onyx petroleum exploration co ltd year loss shr loss dlrs vs profit cts net loss vs profit revs vs note shr net dlr writedown oil gas property values ', 'pennwalt corp lt psm qtly dividend qtly div cts vs cts prior payable may one record april three ', 'newport pharmaceuticals lt nwph rd qtr loss period ended january shr loss six cts vs profit one ct net loss vs profit revs vs avg shrs vs nine mths shre loss nine cts vs loss five cts net loss vs loss revs vs avg shrs vs note full name newport pharmaceuticals international inc ', ' lt sensormatic canada ltd year net shr cts vs cts net vs revs vs ', 'american city lt ambj sets initial preferred div american city business journals inc said declared initial dividend cts share recent issue mln shares convertible exchangeable preferred stock dividend payable march shareholders record march american city said adding future dividends paid quarterly basis preferred stock issued february ', 'reagan says u needs lessen oil imports president reagan said united states must lessen reliance imported oil president reagan said nationally televised news conference rising u reliance foreign oil problem administration studying study reagan said increased strategic petroleum reserve said reagan said administration already proposed deregulating natural gas eliminating windfall profits tax crude oil production however complained congress yet approved measures department energy earlier week released report warned rising u reliance foreign oil imports time domestic production declining suggested options administration consider made specific recommendations ', 'bp says plans close swedish refinery british petroleum co plc lt bp l said plans close refinery gothenburg despite forecasts swedish finance ministry committee might planning move committee said refinery future looked bleak swedish petroleum industry competitiveness expected worsen unless invested effects possible tightening rules sulphur content bp said unit sweden lt ok petroleum ab pct stake performed well technically financially including first quarter current restrictions sulphur emissions known future plans sweden export markets cause serious problems said statement refinery started annual capacity mln tonnes ', 'dupont lt dd unit raises crude oil prices conoco inc subsidiary dupont corp said increasing contract prices crude oil cts one dlr barrel effective today conoco said increase brings price u benchmark crude west texas intermediate dlrs barrel one dlr south louisiana sweet also one dlr dlrs west texas sour cts dlrs barrel conoco last company raise prices following series increases initiated last week sun co lt sun reversed posted price cuts made end february ', 'u k oil revenue forecast fall u k government forecasts oil revenues fall four billion stg fiscal year billion billion forecast came treasury financial statement budget report issued chancellor exchequer nigel lawson annual budget statement parliament government assuming price oil average dlrs barrel line earlier forecasts oil revenue calculation based exchange rate remaining close current levels treasury document said treasury said oil revenue shortfall reflect oil price fall north sea corporation tax paid time lag statement calculated one dlr barrel difference oil prices year change revenue mln stg current fiscal year mln stg full year oil production forecast fall slightly according statement change one mln tonnes production would alter revenue mln stg mln stg full year added total general government receipts estimated billion stg billion budget forecasts autumn statement forecasts despite shortfall billlion oil receipts additional non north sea corporation tax billion stg vat mln stg account bulk overshoot total general government receipts forecast rise billion stg fiscal among main items besides diminishing oil revenues projected income tax billion stg billion current year non north sea corporation tax forecast bring billion stg revised billion vat revenue amount billion compared upwardly revised estimated billion fiscal year general government expenditure coming fiscal year expected total billion stg revised billion current year repayment mln public corporations market overseas borrowings forecast bring total public sector borrowing requirement billion stg year revised billion treasury said ', 'brazil cancels oil purchase saudi arabia brazil state oil company petrobras cancelled mln dlr crude oil purchase saudi arabia saudis refused accept credit guarantees bank brazil petrobras official said export director carlos santana told press conference saudis first suppliers oil impose conditions brazil decision halt interest payment commercial debts last month shipment mln barrels represents two days oil consumption brazil santana said saudis change minds decide respect terms contract petrobras lift order cancel shipment santana said saudis accept brazil terms monday petrobras negotiate elsewhere petrobras saudi arabia traditional client since accept conditions much better us market prices less buying iraq china advantage said iraq china barter deals brazil importing brazilian goods exchange oil saudis buy nothing brazil said santana said despite strike threat oil industry workers two week stoppage brazilian seamen petrobras oil stocks reasonably balanced saudi arabia brazil second biggest oil supplier average bpd iraq main supplier bpd china comes third bpd saudis wish stop trade relationship fine sure getting dozens offers elsewhere santana added ', 'study group urges increased u oil reserves study group said united states increase strategic petroleum reserve one mln barrels one way deal present future impact low oil prices domestic oil industry u policy raise strategic reserve mln barrels present mln help protect economy overseas embargo sharp price rise aspen institute humanistic studies private group also called new research oil exploration development techniques predicted prices would remain dlrs barrel several years rise mid imports pct u consumption said instead moves increasing oil reserves exploration development research would help guard mitigate risks increased imports ', 'api says distillate stocks bbls gasoline mln crude mln api says distillate stocks bbls gasoline mln crude mln ', 'u energy industry said better health u oil gas industry better health year ago according testimony given texas railroad commission annual state industry hearing today commission regulates state oil gas industry heard testimony number high level company executives reflecting belief recent industry downturn bottomed attitude expressed today far great deal optimistic last year commissioner james e jim nugent told reuters reflects executives belief seeing bottom economic cycle added reasonable breaks industry begin move energy industry hard hit sharp drop oil prices fell around dlrs barrel late low dlrs mid prices since steadied around dlrs barrel time number company executives testified nation domestic exploration production segment still hurting need government help production costs considerably higher united states areas middle east prices fell many domestic producers forced shut operations currently oil rigs operating united states compared average nearly citing study released yesterday department energy many said falling production domestic oil coupled increasing u demand leading growing dependency imports particularly politically volatile middle east u petroleum production responded lower prices increasing pct barrels per day bpd said j simon general manager supply department exxon corp lt xon nation largest oil company time simon said u oil production declined bpd first decline several years net petroleum imports pct mln bpd noting oil prices expected remain dlrs barrel depending opec ability control production simon said demand expected remain levels leading significant amount spare worldwide production capacity excess mln bpd said surplus capacity would lead continued volatility called governmental regulatory policies support domestic petroleum industry citing costs recently imposed federal government tax code changes superfund legislation simon called repeal windfall profits tax total decontrol natural gas improved access federal lands oil gas exploration simon mention oil import fee many industry called way building nation domestic operations imports reach level national security might compromised yesterday report energy department said imports could make pct u demand adding persian gulf producers provide much pct free world total oil consumption date arguing oil political tool every nation earth frank pitts chairman lt pitts oil co today called variable oil import fee among measures treacherous foothold middle east irreversible national security compromised royce wisenbaker chairman wisenbaker production co agreed saying like many federal government programs set good intentions would probably turn shambles wisenbaker added optimistic future us managed hold worst said roger hemminghaus president diamond shamrock refining marketing co said enthusiastic future adding expected increase profitability midyear ', 'bp lt bp plan hike standard lt srd bid british petroleum co plc intend raise price planned dlr per share offer publicly held pct standard oil co bp managing director david simon said seen progressive bidding game told reporters news conference bp owns pct standard stock simon said bp carefully considered amount planned bid quoted oil analyst would identify saying bp careful evaluation means company going raise offer think increase would totally wrong think price fair much early speculate ligigation said let wait see offer runs another official declined speculate circumstances bp might raise bid bp official said dlrs share offer times standard cash flow pct independent evaluation company assets including value oil natural gas liquids natural gas reserves said price royal dutch shell group lt rd lt sc paid publicly held shell oil co shares times cash flow bp official also said dlr bid pct premium standard stock price past year bp group treasurer rodney chase said half much two third billion dlrs bp needs offer come existing sources rest financed new debt bp draw cash operating companies around world also arranging five billion dlr line credit explained company debt equity ratio rise percentage points current pct offer completed chase said ratio back pct within months added chase also said pct standard oil publicly held shares held financial institutions simon said standard board informed offer march nine considering since time said bp expect regulatory problems would delay completion acquisition informed washington intentions already integral part ownership u oil reserves pointed simon said good chance current world oil prices dlrs barrel could maintained stable market due mostly changes policy saudi arabia opec members control oil production think signals current conditions favorable sometime simon said hopes greater stability see prices going much higher added ', 'creditors seek swift rescue package japan line group creditor banks hopes work rescue package japan line ltd lt jlit one world largest tanker operators end japan business year march spokesman industrial bank japan ltd lt ibjt ibj said japan line cumulative debt billion yen end september exceeded shareholders equities reserves totalling billion december japan line asked banks shelve repayment billion yen outstanding loans billion loans subsidiaries japan line said yen steep rise world shipping recession hit company hard japanese daily asahi shimbun said today ibj three banks plan abandon total billion yen loans japan line group creditor banks plans buy seven billion yen new japan line shares spokesman ibj japan line largest creditor said package may write part outstanding loans worked long commenting article said details package yet settled ']"
     ]
    },
    {
     "name": "stdout",
     "output_type": "stream",
     "text": [
      "\n"
     ]
    }
   ],
   "source": []
  },
  {
   "cell_type": "code",
   "execution_count": 8,
   "metadata": {},
   "outputs": [
    {
     "name": "stdout",
     "output_type": "stream",
     "text": [
      "aid s\n"
     ]
    }
   ],
   "source": []
  },
  {
   "cell_type": "code",
   "execution_count": 5,
   "metadata": {},
   "outputs": [
    {
     "name": "stdout",
     "output_type": "stream",
     "text": [
      "china daily says vermin eat pct grain stocks survey provinces seven cities showed vermin consume seven pct china grain stocks china daily said also said year mln tonnes pct china fruit output left rot mln tonnes pct vegetables paper blamed waste inadequate storage bad preservation methods said government launched national programme reduce waste calling improved technology storage preservation greater production additives paper gave details \n"
     ]
    }
   ],
   "source": [
    "cwd = os.getcwd()+'\\..\\data\\clean_data';\n",
    "\n",
    "txt=np.loadtxt(cwd+'\\cleanedTestData.csv',delimiter=\",\",dtype=str)\n",
    "#txt = np.genfromtxt(cwd+'\\cleanedTestLabels.csv', dtype= None)\n",
    "\n",
    "#f,s = mostFrequentFeatures(txt,,100)"
   ]
  },
  {
   "cell_type": "code",
   "execution_count": 39,
   "metadata": {},
   "outputs": [
    {
     "name": "stdout",
     "output_type": "stream",
     "text": [
      "729\n"
     ]
    }
   ],
   "source": [
    "alphabet = 'abcdefghijklmnopqrstuvwxyz '\n",
    "tempFeatures = it.product(alphabet,repeat = 2)\n",
    "print(len(list(tempFeatures)))"
   ]
  },
  {
   "cell_type": "code",
   "execution_count": 45,
   "metadata": {},
   "outputs": [
    {
     "name": "stdout",
     "output_type": "stream",
     "text": [
      "['s ', 'd ', ' s', 't ', 'e ', 'in', 'er', 're', 'n ', ' c', 'on', 'es', 'ar', ' p', 'an', 'r ', 'te', ' m', 'st', 'ed', 'y ', 'co', 'en', 'ti', 'al', ' a', 'nt', ' d', ' r', 'or', 'l ', 'ng', 'de', 'at', 'ne', ' t', 'ai', ' l', 'se', ' b', 'io', 'ct', 'sa', 'ra', 'id', 'ro', ' f', 'g ', 'ea', ' e', 'ri', 'pr', ' i', 'me', 'rs', 'it', 'ou', 've', 'li', 'ma', 'ce', 'ec', 'le', 'ta', 'ic', 'ts', 'et', 'tr', ' o', 'is', 'nd', 'll', 'il', 'nc', ' n', 'as', 'ur', 'om', 'pe', 'pa', 'di', 'la', 'rt', 'si', 'to', 'fi', ' w', ' g', 'sh', 'el', 'lo', 'na', 'ss', 'po', 'ha', 'ns', 'ch', 'ge', 'ml', 'ln']\n"
     ]
    }
   ],
   "source": [
    "print(f)"
   ]
  },
  {
   "cell_type": "code",
   "execution_count": 46,
   "metadata": {},
   "outputs": [],
   "source": [
    "test = os.path.join(cwd,'test.csv')\n",
    "np.savetxt(test, f, delimiter=\",\",fmt='%s')"
   ]
  }
 ],
 "metadata": {
  "kernelspec": {
   "display_name": "Python 3",
   "language": "python",
   "name": "python3"
  },
  "language_info": {
   "codemirror_mode": {
    "name": "ipython",
    "version": 3
   },
   "file_extension": ".py",
   "mimetype": "text/x-python",
   "name": "python",
   "nbconvert_exporter": "python",
   "pygments_lexer": "ipython3",
   "version": "3.5.4"
  }
 },
 "nbformat": 4,
 "nbformat_minor": 2
}
