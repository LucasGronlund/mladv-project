{
 "cells": [
  {
   "cell_type": "markdown",
   "metadata": {},
   "source": [
    "# The purpose of this notebook is to show results in a formatted way.\n",
    "\n",
    "This will make use of precomputed kernels, so no heavy computation will be done in this notebook.\n",
    "\n",
    "I will add placeholders to methods/functions that hopefully should be avaiable when the project is almost done.\n",
    "\n",
    "The assumption here is that we will only display results for the approximated kernels."
   ]
  },
  {
   "cell_type": "code",
   "execution_count": 1,
   "metadata": {},
   "outputs": [],
   "source": [
    "# Imports\n",
    "\n",
    "import fetch_data as fd\n",
    "import numpy as np\n",
    "import os\n",
    "from MostFrequentFeatures import mostFrequentFeatures\n",
    "import itertools as it\n",
    "import loadData as ld"
   ]
  },
  {
   "cell_type": "code",
   "execution_count": 2,
   "metadata": {},
   "outputs": [
    {
     "data": {
      "text/plain": [
       "array([ 'asian exporters fear damage u japan rift mounting trade friction u japan raised fears among many asia exporting nations row could inflict far reaching economic damage businessmen officials said told reuter correspondents asian capitals u move japan might boost protectionist sentiment u lead curbs american imports products exporters said conflict would hurt long run short term tokyo loss might gain u said impose mln dlrs tariffs imports japanese electronics goods april retaliation japan alleged failure stick pact sell semiconductors world markets cost unofficial japanese estimates put impact tariffs billion dlrs spokesmen major electronics firms said would virtually halt exports products hit new taxes able business said spokesman leading japanese electronics firm matsushita electric industrial co ltd lt mc tariffs remain place length time beyond months mean complete erosion exports goods subject tariffs u said tom murtha stock analyst tokyo office broker lt james capel co taiwan businessmen officials also worried aware seriousness u threat japan serves warning us said senior taiwanese trade official asked named taiwan trade trade surplus billion dlrs last year pct u surplus helped swell taiwan foreign exchange reserves billion dlrs among world largest must quickly open markets remove trade barriers cut import tariffs allow imports u products want defuse problems possible u retaliation said paul sheen chairman textile exporters lt taiwan safe group senior official south korea trade promotion association said trade dispute u japan might also lead pressure south korea whose chief exports similar japan last year south korea trade surplus billion dlrs u billion dlrs malaysia trade officers businessmen said tough curbs japan might allow hard hit producers semiconductors third countries expand sales u hong kong newspapers alleged japan selling cost semiconductors electronics manufacturers share view businessmen said short term commercial advantage would outweighed u pressure block imports short term view said lawrence mills director general federation hong kong industry whole purpose prevent imports one day extended sources much serious hong kong disadvantage action restraining trade said u last year hong kong biggest export market accounting pct domestically produced exports australian government awaiting outcome trade talks u japan interest concern industry minister john button said canberra last friday kind deterioration trade relations two countries major trading partners serious matter button said said australia concerns centred coal beef australia two largest exports japan also significant u exports country meanwhile u japanese diplomatic manoeuvres solve trade stand continue japan ruling liberal democratic party yesterday outlined package economic measures boost japanese economy measures proposed include large supplementary budget record public works spending first half financial year also call stepped spending emergency measure stimulate economy despite prime minister yasuhiro nakasone avowed fiscal reform program deputy u trade representative michael smith makoto kuroda japan deputy minister international trade industry miti due meet washington week effort end dispute ',\n",
       "       'china daily says vermin eat pct grain stocks survey provinces seven cities showed vermin consume seven pct china grain stocks china daily said also said year mln tonnes pct china fruit output left rot mln tonnes pct vegetables paper blamed waste inadequate storage bad preservation methods said government launched national programme reduce waste calling improved technology storage preservation greater production additives paper gave details ',\n",
       "       'japan revise long term energy demand downwards ministry international trade industry miti revise long term energy supply demand outlook august meet forecast downtrend japanese energy demand ministry officials said miti expected lower projection primary energy supplies year mln kilolitres kl mln said decision follows emergence structural changes japanese industry following rise value yen decline domestic electric power demand miti planning work revised energy supply demand outlook deliberations committee meetings agency natural resources energy officials said said miti also review breakdown energy supply sources including oil nuclear coal natural gas nuclear energy provided bulk japan electric power fiscal year ended march supplying estimated pct kilowatt hour basis followed oil pct liquefied natural gas pct noted ',\n",
       "       ...,\n",
       "       'japan india conference cuts gulf war risk charges japan india pakistan gulf japan shipping conference said would cut extra risk insurance surcharges shipments iranian iraqi ports minimum three pct pct october said surcharges shipments break bulk cargoes non iraqi arab ports would reduced pct conference spokesman declined say move taken time heightened tension gulf ',\n",
       "       'soviet industrial growth trade slower soviet union industrial output growing slower pace foreign trade fallen central statistical office figures show figures communist party newspaper pravda show industrial production rose pct first nine months pct period foreign trade period fell pct period exports fell pct imports dropped pct foreign trade nine months totalled billion roubles separate import export figures given one factor affecting industrial growth introduction new quality control plan western economists said last year calculations industrial output included goods irrespective quality new plan introduced line soviet leader mikhail gorbachev drive modernise economy special inspectors right reject goods consider standard pravda said mln roubles worth defective goods rejected nine month period figures also showed october cooperative enterprises employing people employed private sector pravda said without giving comparative figures promotion cooperative private sectors economy important part modernisation campaign measures introduced recently allow setting small shops private basis labour productivity rose pct first nine months pct growth january september western economists said treat soviet productivity figures caution broadly based west measures worker output given period pravda said mln people soviet union october january september period mln people employed rise pct period last year average earnings roubles month roubles year ago ',\n",
       "       'six killed south african gold mine accident six black miners killed two injured rock fall three km underground south african gold mine owners said sunday lt rand mines properties ltd one south africa big six mining companies said statement accident occurred saturday morning lt east rand proprietary mines ltd mine boksburg km east johannesburg company spokesman could elaborate short statement '],\n",
       "      dtype='<U4447')"
      ]
     },
     "execution_count": 2,
     "metadata": {},
     "output_type": "execute_result"
    }
   ],
   "source": [
    "txt = ld.getData('cleanedTestData.csv')"
   ]
  },
  {
   "cell_type": "code",
   "execution_count": 44,
   "metadata": {},
   "outputs": [],
   "source": [
    "cwd = os.getcwd()+'\\..\\data\\clean_data';\n",
    "\n",
    "txt=np.loadtxt(cwd+'\\cleanedTrainingData.csv',delimiter=\",\",dtype=str)\n",
    "\n",
    "f,s = mostFrequentFeatures(txt,2,100)"
   ]
  },
  {
   "cell_type": "code",
   "execution_count": 39,
   "metadata": {},
   "outputs": [
    {
     "name": "stdout",
     "output_type": "stream",
     "text": [
      "729\n"
     ]
    }
   ],
   "source": [
    "alphabet = 'abcdefghijklmnopqrstuvwxyz '\n",
    "tempFeatures = it.product(alphabet,repeat = 2)\n",
    "print(len(list(tempFeatures)))"
   ]
  },
  {
   "cell_type": "code",
   "execution_count": 45,
   "metadata": {},
   "outputs": [
    {
     "name": "stdout",
     "output_type": "stream",
     "text": [
      "['s ', 'd ', ' s', 't ', 'e ', 'in', 'er', 're', 'n ', ' c', 'on', 'es', 'ar', ' p', 'an', 'r ', 'te', ' m', 'st', 'ed', 'y ', 'co', 'en', 'ti', 'al', ' a', 'nt', ' d', ' r', 'or', 'l ', 'ng', 'de', 'at', 'ne', ' t', 'ai', ' l', 'se', ' b', 'io', 'ct', 'sa', 'ra', 'id', 'ro', ' f', 'g ', 'ea', ' e', 'ri', 'pr', ' i', 'me', 'rs', 'it', 'ou', 've', 'li', 'ma', 'ce', 'ec', 'le', 'ta', 'ic', 'ts', 'et', 'tr', ' o', 'is', 'nd', 'll', 'il', 'nc', ' n', 'as', 'ur', 'om', 'pe', 'pa', 'di', 'la', 'rt', 'si', 'to', 'fi', ' w', ' g', 'sh', 'el', 'lo', 'na', 'ss', 'po', 'ha', 'ns', 'ch', 'ge', 'ml', 'ln']\n"
     ]
    }
   ],
   "source": [
    "print(f)"
   ]
  },
  {
   "cell_type": "code",
   "execution_count": 46,
   "metadata": {},
   "outputs": [],
   "source": [
    "test = os.path.join(cwd,'test.csv')\n",
    "np.savetxt(test, f, delimiter=\",\",fmt='%s')"
   ]
  },
  {
   "cell_type": "code",
   "execution_count": 5,
   "metadata": {},
   "outputs": [
    {
     "name": "stdout",
     "output_type": "stream",
     "text": [
      "10788\n"
     ]
    }
   ],
   "source": []
  },
  {
   "cell_type": "code",
   "execution_count": null,
   "metadata": {},
   "outputs": [],
   "source": []
  }
 ],
 "metadata": {
  "kernelspec": {
   "display_name": "Python 3",
   "language": "python",
   "name": "python3"
  },
  "language_info": {
   "codemirror_mode": {
    "name": "ipython",
    "version": 3
   },
   "file_extension": ".py",
   "mimetype": "text/x-python",
   "name": "python",
   "nbconvert_exporter": "python",
   "pygments_lexer": "ipython3",
   "version": "3.5.4"
  }
 },
 "nbformat": 4,
 "nbformat_minor": 2
}
