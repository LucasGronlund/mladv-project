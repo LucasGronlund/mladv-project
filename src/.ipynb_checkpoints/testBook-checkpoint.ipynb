{
 "cells": [
  {
   "cell_type": "code",
   "execution_count": 1,
   "metadata": {},
   "outputs": [],
   "source": [
    "## Imports\n",
    "\n",
    "import fetch_data as fd\n",
    "import numpy as np\n",
    "import itertools as it\n",
    "import tqdm\n",
    "from math import sqrt\n",
    "import string"
   ]
  },
  {
   "cell_type": "code",
   "execution_count": 2,
   "metadata": {},
   "outputs": [],
   "source": [
    "## Super naive kernel calculations, using Defininition 1 from the paper (not the quick way).\n",
    "\n",
    "def naiveKernel(data,k,l):\n",
    "    \n",
    "    #create all 'good' permutations, that is those which are possible\n",
    "    perms=[];\n",
    "    for i in data:\n",
    "        tmpPerms = list(it.combinations(i,k));\n",
    "        for j in tmpPerms:\n",
    "            if(j not in perms):\n",
    "                perms.append(j);\n",
    "    \n",
    "    #init the result matrix\n",
    "    fi = np.zeros([len(data),len(perms)]);\n",
    "    \n",
    "    #calculate each fi_u for each string\n",
    "    for row in range(len(data)):\n",
    "        for c, prm in enumerate(perms):\n",
    "            tmpSum = [];\n",
    "            indices = [];\n",
    "            \n",
    "            #create a vector containing the indexes of the current permutation letters\n",
    "            for i in range(k):\n",
    "                indices.append(list(find(data[row],prm[i])))\n",
    "            \n",
    "            #calculate all the values, recursively because i couldn't figure out\n",
    "            #how to generalize otherwise.\n",
    "            for i in indices[0]:\n",
    "                tmpSum = recursiveShit(indices[1:],i,i,k-2,tmpSum);\n",
    "            \n",
    "            #calculate the current fi_u value\n",
    "            for i in tmpSum:\n",
    "                fi[row,c] += np.sum(l**(np.array([i])));\n",
    "                \n",
    "    return fi;\n",
    "\n",
    "                \n",
    "\n",
    "def recursiveShit(currInd,topVal,prevVal,k,tmpSum):\n",
    "    #bad recursion, but it works\n",
    "    \n",
    "    #base case, check if it's an approved permutation,\n",
    "    #if yes -> return the sum\n",
    "    if(k==0):\n",
    "        for i in currInd[0]:\n",
    "            if(i>prevVal):\n",
    "                tmpSum.append(i-topVal+1);\n",
    "        return tmpSum;\n",
    "    \n",
    "    #if not yet at the 'bottom' of the recursion, continue\n",
    "    else:\n",
    "        for i in currInd[0]:\n",
    "            if(i>prevVal):\n",
    "                tmpSum = recursiveShit(currInd[1:],topVal,i,k-1,tmpSum);\n",
    "        return tmpSum\n",
    "            \n",
    "            \n",
    "    \n",
    "\n",
    "def find(str, ch):\n",
    "    #Find indexes of characters in string\n",
    "    \n",
    "    for i, ltr in enumerate(str):\n",
    "        if ltr == ch:\n",
    "            yield i\n"
   ]
  },
  {
   "cell_type": "code",
   "execution_count": 3,
   "metadata": {},
   "outputs": [
    {
     "name": "stdout",
     "output_type": "stream",
     "text": [
      "K_2: 0.57981369829289153\n",
      "K_3: 0.47845478625579552\n",
      "K_4: 0.43887050844308401\n",
      "K_5: 0.40574516353732781\n"
     ]
    }
   ],
   "source": [
    "#Test1, comment out the fi5 parts, they take a while. Compare values with the paper.\n",
    "\n",
    "testData = [\"science is organized knowledge\",\"wisdom is organized life\"]\n",
    "\n",
    "fi = naiveKernel(testData,2,0.5);\n",
    "fi3 = naiveKernel(testData,3,0.5);\n",
    "fi4 = naiveKernel(testData,4,0.5);\n",
    "fi5 = naiveKernel(testData,5,0.5);\n",
    "#calculate the K values\n",
    "print(\"K_2: \" + repr(fi[0,:].dot(fi[1,:])/(sqrt(fi[0,:].dot(fi[0,:])*fi[1,:].dot(fi[1,:])))))\n",
    "print(\"K_3: \" + repr(fi3[0,:].dot(fi3[1,:])/(sqrt(fi3[0,:].dot(fi3[0,:])*fi3[1,:].dot(fi3[1,:])))))\n",
    "print(\"K_4: \" + repr(fi4[0,:].dot(fi4[1,:])/(sqrt(fi4[0,:].dot(fi4[0,:])*fi4[1,:].dot(fi4[1,:])))))\n",
    "print(\"K_5: \" + repr(fi5[0,:].dot(fi5[1,:])/(sqrt(fi5[0,:].dot(fi5[0,:])*fi5[1,:].dot(fi5[1,:])))))"
   ]
  },
  {
   "cell_type": "code",
   "execution_count": 4,
   "metadata": {},
   "outputs": [
    {
     "name": "stdout",
     "output_type": "stream",
     "text": [
      "[[ 0.25   0.125  0.25   0.     0.     0.     0.     0.   ]\n",
      " [ 0.25   0.     0.     0.125  0.25   0.     0.     0.   ]\n",
      " [ 0.     0.     0.25   0.     0.     0.25   0.125  0.   ]\n",
      " [ 0.     0.     0.     0.     0.25   0.25   0.     0.125]]\n",
      "0.444444444444\n"
     ]
    }
   ],
   "source": [
    "#Test2. Compare with the paper\n",
    "\n",
    "testData = [\"cat\",\"car\",\"bat\",\"bar\"]\n",
    "fi = naiveKernel(testData,2,0.5)\n",
    "print(fi)\n",
    "print(fi[0,:].dot(fi[1,:])/(sqrt(fi[0,:].dot(fi[0,:])*fi[1,:].dot(fi[1,:]))))"
   ]
  }
 ],
 "metadata": {
  "kernelspec": {
   "display_name": "Python 3",
   "language": "python",
   "name": "python3"
  },
  "language_info": {
   "codemirror_mode": {
    "name": "ipython",
    "version": 3
   },
   "file_extension": ".py",
   "mimetype": "text/x-python",
   "name": "python",
   "nbconvert_exporter": "python",
   "pygments_lexer": "ipython3",
   "version": "3.5.4"
  }
 },
 "nbformat": 4,
 "nbformat_minor": 2
}
