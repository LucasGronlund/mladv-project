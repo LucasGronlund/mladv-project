{
 "cells": [
  {
   "cell_type": "code",
   "execution_count": 100,
   "metadata": {},
   "outputs": [
    {
     "name": "stderr",
     "output_type": "stream",
     "text": [
      "100570it [00:00, 1005468.43it/s]"
     ]
    },
    {
     "name": "stdout",
     "output_type": "stream",
     "text": [
      "You just asked for 531441 features. Get ready!\n",
      "Generating of features...\n"
     ]
    },
    {
     "name": "stderr",
     "output_type": "stream",
     "text": [
      "531441it [00:00, 972881.02it/s] \n",
      "50639it [00:00, 506268.57it/s]"
     ]
    },
    {
     "name": "stdout",
     "output_type": "stream",
     "text": [
      "Done\n",
      "Counting feature occurance in all documents...\n"
     ]
    },
    {
     "name": "stderr",
     "output_type": "stream",
     "text": [
      "531441it [00:00, 691903.03it/s]\n",
      " 60%|██████    | 3/5 [00:00<00:00, 22.89it/s]"
     ]
    },
    {
     "name": "stdout",
     "output_type": "stream",
     "text": [
      "Done\n",
      "Findning top features...\n"
     ]
    },
    {
     "name": "stderr",
     "output_type": "stream",
     "text": [
      "\r",
      "100%|██████████| 5/5 [00:00<00:00, 23.51it/s]"
     ]
    },
    {
     "name": "stdout",
     "output_type": "stream",
     "text": [
      "Done\n",
      "['aja ', 'a ba', 'a tt', 'ba t', 'jaja']\n",
      "[1.0, 1.0, 1.0, 1.0, 1.0]\n"
     ]
    },
    {
     "name": "stderr",
     "output_type": "stream",
     "text": [
      "\n"
     ]
    }
   ],
   "source": [
    "import itertools as it\n",
    "import numpy as np\n",
    "from tqdm import tqdm \n",
    "\n",
    "def mostFrequentFeatures(dataset, k, numbTop,prints = False):\n",
    "    if prints == True:\n",
    "        print('You just asked for ' + str(27**k) + ' features. Get ready!')\n",
    "        \n",
    "        print('Generating of features...')\n",
    "        # Generate all features of length k and store in features\n",
    "        alphabet = 'abcdefghijklmnopqrstuvwxyz '\n",
    "        tempFeatures = it.product(alphabet,repeat = k) # results in ('a','a') etc\n",
    "\n",
    "        # Need to concatinate to 'aa' etc\n",
    "        features = []\n",
    "        for index, feature in tqdm(enumerate(tempFeatures)):\n",
    "            currentFeature = ''\n",
    "            for w in feature:\n",
    "                currentFeature += w\n",
    "            features.append(currentFeature)\n",
    "        print('Done')\n",
    "        \n",
    "        print('Counting feature occurance in all documents...')\n",
    "        # Some place to store number of occurances and finaly the most frequent features\n",
    "        scores = np.zeros(len(alphabet)**k)\n",
    "\n",
    "        # Calculate occurance of each feature in dataset\n",
    "        for document in dataset:    \n",
    "            for index, feature in tqdm(enumerate(features)):\n",
    "                scores[index] += document.count(feature)\n",
    "        print('Done')\n",
    "        \n",
    "        print('Findning top features...')\n",
    "        # Find the most occuring features and return these in order\n",
    "        topFeatures = []\n",
    "        topFeatureScores =  []\n",
    "        for i in tqdm(range(numbTop)):\n",
    "            maxIndex = np.argmax(scores) #finds most frequent feature\n",
    "            topFeatures.append(features[maxIndex]) \n",
    "            topFeatureScores.append(max(scores)) #score of that feature\n",
    "            scores[maxIndex] = -1 # makes sure same feature does not come up again\n",
    "        print('Done')\n",
    "        \n",
    "        print(topFeatures)\n",
    "        print(topFeatureScores)\n",
    "        \n",
    "        \n",
    "    if prints == False:\n",
    "        \n",
    "        # Generate all features of length k and store in features\n",
    "        alphabet = 'abcdefghijklmnopqrstuvwxyz '\n",
    "        tempFeatures = it.product(alphabet,repeat = k) # results in ('a','a') etc\n",
    "\n",
    "        # Need to concatinate to 'aa' etc\n",
    "        features = []\n",
    "        for index, feature in enumerate(tempFeatures):\n",
    "            currentFeature = ''\n",
    "            for w in feature:\n",
    "                currentFeature += w\n",
    "            features.append(currentFeature)\n",
    "\n",
    "        # Some place to store number of occurances and finaly the most frequent features\n",
    "        scores = np.zeros(len(alphabet)**k)\n",
    "\n",
    "        # Calculate occurance of each feature in dataset\n",
    "        for document in dataset:    \n",
    "            for index, feature in enumerate(features):\n",
    "                scores[index] += document.count(feature)\n",
    "\n",
    "        # Find the most occuring features and return these in order\n",
    "        topFeatures = []\n",
    "        topFeatureScores =  []\n",
    "        for i in range(numbTop):\n",
    "            maxIndex = np.argmax(scores)\n",
    "            topFeatures.append(features[maxIndex]) #finds most frequent feature\n",
    "            topFeatureScores.append(max(scores)) #score of that feature\n",
    "            scores[maxIndex] = -1 # makes sure same feature does not come up again\n",
    "\n",
    "    \n",
    "    return topFeatures, topFeatureScores\n",
    "\n",
    "f,s = mostFrequentFeatures(['jaja ba tttttt'],4,5,1)\n"
   ]
  },
  {
   "cell_type": "code",
   "execution_count": null,
   "metadata": {},
   "outputs": [],
   "source": []
  },
  {
   "cell_type": "code",
   "execution_count": null,
   "metadata": {},
   "outputs": [],
   "source": []
  }
 ],
 "metadata": {
  "kernelspec": {
   "display_name": "Python 3",
   "language": "python",
   "name": "python3"
  },
  "language_info": {
   "codemirror_mode": {
    "name": "ipython",
    "version": 3
   },
   "file_extension": ".py",
   "mimetype": "text/x-python",
   "name": "python",
   "nbconvert_exporter": "python",
   "pygments_lexer": "ipython3",
   "version": "3.5.4"
  }
 },
 "nbformat": 4,
 "nbformat_minor": 2
}
