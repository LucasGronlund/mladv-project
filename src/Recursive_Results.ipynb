{
 "cells": [
  {
   "cell_type": "code",
   "execution_count": 1,
   "metadata": {},
   "outputs": [],
   "source": [
    "# Imports\n",
    "import svm\n",
    "import numpy as np\n",
    "from sklearn import metrics\n",
    "import os"
   ]
  },
  {
   "cell_type": "code",
   "execution_count": 19,
   "metadata": {},
   "outputs": [
    {
     "name": "stdout",
     "output_type": "stream",
     "text": [
      " C = 1\n",
      "             precision    recall  f1-score   support\n",
      "\n",
      "       earn       0.92      0.90      0.91        40\n",
      "        acq       0.96      1.00      0.98        25\n",
      "      crude       0.93      0.93      0.93        15\n",
      "       corn       1.00      0.80      0.89        10\n",
      "\n",
      "avg / total       0.94      0.92      0.93        90\n",
      "\n"
     ]
    }
   ],
   "source": [
    "#Load Data\n",
    "\n",
    "n=4 #<---- Choose n and press play\n",
    "\n",
    "cwd = os.getcwd()+'\\..\\data\\precomp_recursive_kernels';\n",
    "\n",
    "kerns = os.path.join(cwd,'n{}l05Train.npy'.format(n))\n",
    "Ktrain = np.load(kerns)\n",
    "\n",
    "kerns = os.path.join(cwd,'n{}l05Test.npy'.format(n))\n",
    "Ktest = np.load(kerns)\n",
    "\n",
    "cwd = os.getcwd()+'\\..\\data\\clean_data';\n",
    "\n",
    "kerns = os.path.join(cwd,'trainLabels.npy')\n",
    "Ktrain_labels = np.load(kerns)\n",
    "\n",
    "kerns = os.path.join(cwd,'testLabels.npy')\n",
    "Ktest_labels = np.load(kerns)\n",
    "\n",
    "svm.classifier_precomputed(K_train=Ktrain,K_test=Ktest,Train_labels=Ktrain_labels,test_labels=Ktest_labels,cat=[\"earn\",\"acq\",\"crude\",\"corn\"])"
   ]
  }
 ],
 "metadata": {
  "kernelspec": {
   "display_name": "Python 3",
   "language": "python",
   "name": "python3"
  },
  "language_info": {
   "codemirror_mode": {
    "name": "ipython",
    "version": 3
   },
   "file_extension": ".py",
   "mimetype": "text/x-python",
   "name": "python",
   "nbconvert_exporter": "python",
   "pygments_lexer": "ipython3",
   "version": "3.5.4"
  }
 },
 "nbformat": 4,
 "nbformat_minor": 2
}
