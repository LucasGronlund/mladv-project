{
 "cells": [
  {
   "cell_type": "code",
   "execution_count": 1,
   "metadata": {},
   "outputs": [],
   "source": [
    "# Imports\n",
    "import svm\n",
    "import numpy as np\n",
    "from sklearn import metrics\n",
    "import os\n",
    "import alignment"
   ]
  },
  {
   "cell_type": "code",
   "execution_count": 11,
   "metadata": {},
   "outputs": [
    {
     "name": "stdout",
     "output_type": "stream",
     "text": [
      " C = 1\n"
     ]
    },
    {
     "name": "stderr",
     "output_type": "stream",
     "text": [
      "C:\\Users\\lucas_000\\Anaconda3\\envs\\ML\\lib\\site-packages\\sklearn\\metrics\\classification.py:1135: UndefinedMetricWarning: Precision and F-score are ill-defined and being set to 0.0 in labels with no predicted samples.\n",
      "  'precision', 'predicted', average, warn_for)\n"
     ]
    },
    {
     "name": "stdout",
     "output_type": "stream",
     "text": [
      "             precision    recall  f1-score   support\n",
      "\n",
      "       earn       1.00      0.62      0.77        40\n",
      "        acq       1.00      0.08      0.14        26\n",
      "      crude       0.00      0.00      0.00        15\n",
      "       corn       1.00      0.10      0.18        10\n",
      "\n",
      "avg / total       0.84      0.31      0.40        91\n",
      "\n"
     ]
    }
   ],
   "source": [
    "#Load Data\n",
    "\n",
    "n=14 #<---- Choose n & press play\n",
    "\n",
    "cwd = os.getcwd()+'\\..\\data\\precomp_recursive_kernels';\n",
    "\n",
    "kerns = os.path.join(cwd,'n{}l05Train_2.npy'.format(n))\n",
    "Ktrain = np.load(kerns)\n",
    "\n",
    "kerns = os.path.join(cwd,'n{}l05Test_2.npy'.format(n))\n",
    "Ktest = np.load(kerns)\n",
    "\n",
    "cwd = os.getcwd()+'\\..\\data\\clean_data';\n",
    "\n",
    "kerns = os.path.join(cwd,'trainLabels_2.npy')\n",
    "Ktrain_labels = np.load(kerns)\n",
    "\n",
    "kerns = os.path.join(cwd,'testLabels_2.npy')\n",
    "Ktest_labels = np.load(kerns)\n",
    "\n",
    "svm.classifier_precomputed(K_train=Ktrain,K_test=Ktest,Train_labels=Ktrain_labels,test_labels=Ktest_labels,cat=[\"earn\",\"acq\",\"crude\",\"corn\"])"
   ]
  },
  {
   "cell_type": "code",
   "execution_count": 9,
   "metadata": {},
   "outputs": [
    {
     "name": "stdout",
     "output_type": "stream",
     "text": [
      "2.0810985396e-13\n",
      "1.0\n",
      "\n",
      "2.19048158017e-13\n",
      "1.0\n"
     ]
    }
   ],
   "source": [
    "print(np.min(Ktrain))\n",
    "print(np.max(Ktrain))\n",
    "print(\"\")\n",
    "print(np.min(Ktest))\n",
    "print(np.max(Ktest))"
   ]
  }
 ],
 "metadata": {
  "kernelspec": {
   "display_name": "Python 3",
   "language": "python",
   "name": "python3"
  },
  "language_info": {
   "codemirror_mode": {
    "name": "ipython",
    "version": 3
   },
   "file_extension": ".py",
   "mimetype": "text/x-python",
   "name": "python",
   "nbconvert_exporter": "python",
   "pygments_lexer": "ipython3",
   "version": "3.5.4"
  }
 },
 "nbformat": 4,
 "nbformat_minor": 2
}
