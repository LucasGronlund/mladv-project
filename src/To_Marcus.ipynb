{
 "cells": [
  {
   "cell_type": "code",
   "execution_count": null,
   "metadata": {},
   "outputs": [],
   "source": [
    "# Imports\n",
    "#import FAST_RECURSION_KERNEL as frkernel  #This is the kernel that marcus is working on.\n",
    "import kernel as k\n",
    "import fetch_data as fd\n",
    "import MostFrequentFeatures as mff\n",
    "import svm\n",
    "import numpy as np\n",
    "from sklearn import metrics"
   ]
  },
  {
   "cell_type": "code",
   "execution_count": null,
   "metadata": {},
   "outputs": [],
   "source": [
    "#Load data\n",
    "cwd = os.getcwd()+'\\..\\data\\clean_data';\n",
    "kerns = os.path.join(cwd,'trainData.npy')\n",
    "trainData = np.load(kerns)\n",
    "\n",
    "kerns = os.path.join(cwd,'testData.npy')\n",
    "testData = np.load(kerns)\n",
    "\n",
    "kerns = os.path.join(cwd,'trainLabels.npy')\n",
    "trainLabels = np.load(kerns)\n",
    "\n",
    "kerns = os.path.join(cwd,'testLabels.npy')\n",
    "testLabels = np.load(kerns)"
   ]
  },
  {
   "cell_type": "code",
   "execution_count": null,
   "metadata": {},
   "outputs": [],
   "source": [
    "#Set params\n",
    "n = 3;  #how long the substrings should be.\n",
    "lmda = 0.5; #The penalty (weight) paramter"
   ]
  },
  {
   "cell_type": "code",
   "execution_count": null,
   "metadata": {},
   "outputs": [],
   "source": [
    "#Find the S most commonly occuring n-grams\n",
    "\n",
    "S = 500;\n",
    "\n",
    "topFeatures, topFeatureScores = mff.mostFrequentFeatures(trainData,n,S)"
   ]
  },
  {
   "cell_type": "code",
   "execution_count": null,
   "metadata": {},
   "outputs": [],
   "source": [
    "#Compute kernel using these to approximate. \n",
    "\n",
    "Ktrain_approx = k.approximative_kernel(trainData,trainData,topFeatures,n,lmda)\n",
    "\n",
    "Ktest_approx = k.approximative_kernel(trainData,testData,topFeatures,n,lmda)"
   ]
  }
 ],
 "metadata": {
  "kernelspec": {
   "display_name": "Python 3",
   "language": "python",
   "name": "python3"
  },
  "language_info": {
   "codemirror_mode": {
    "name": "ipython",
    "version": 3
   },
   "file_extension": ".py",
   "mimetype": "text/x-python",
   "name": "python",
   "nbconvert_exporter": "python",
   "pygments_lexer": "ipython3",
   "version": "3.5.4"
  }
 },
 "nbformat": 4,
 "nbformat_minor": 2
}
