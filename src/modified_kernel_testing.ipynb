{
 "cells": [
  {
   "cell_type": "code",
   "execution_count": 1,
   "metadata": {},
   "outputs": [],
   "source": [
    "import kernel\n",
    "import kernel_modified\n",
    "import numpy as np\n",
    "import fetch_data as fd\n",
    "import alignment\n",
    "import time\n",
    "import MostFrequentFeatures as mff\n",
    "import pylab as pb"
   ]
  },
  {
   "cell_type": "code",
   "execution_count": 2,
   "metadata": {},
   "outputs": [],
   "source": [
    "categories = ['earn','acq']\n",
    "numberOfTraining = [1,1]\n",
    "numberOfTesting = [1,1]\n",
    "\n",
    "trainData,trainLabels, testData,testLabel = fd.loadData(categories,numberOfTraining,numberOfTesting)\n",
    "\n"
   ]
  },
  {
   "cell_type": "code",
   "execution_count": null,
   "metadata": {},
   "outputs": [
    {
     "name": "stdout",
     "output_type": "stream",
     "text": [
      "done with features\n",
      "done with occurance\n"
     ]
    },
    {
     "name": "stderr",
     "output_type": "stream",
     "text": [
      "100%|█████████████████████████████████████| 500/500 [00:00<00:00, 35681.02it/s]\n",
      "  0%|                                                    | 0/2 [00:00<?, ?it/s]"
     ]
    }
   ],
   "source": [
    "n=3\n",
    "l=0.5\n",
    "cutoff = 500;\n",
    "S = 500;\n",
    "\n",
    "topFeatures, topFeatureScores = mff.mostFrequentFeatures(trainData,n,S)\n",
    "\n",
    "t1=time.time()\n",
    "#K = kernel.approximative_kernel(trainData,trainData,topFeatures,n,l)\n",
    "t2=time.time()\n",
    "\n",
    "t3=time.time()\n",
    "K_mod = kernel_modified.approximative_kernel(trainData,trainData,topFeatures,n,l,cutoff)\n",
    "t4=time.time()\n",
    "\n",
    "print(t2-t1)\n",
    "print(t4-t3)"
   ]
  },
  {
   "cell_type": "code",
   "execution_count": 5,
   "metadata": {},
   "outputs": [
    {
     "name": "stdout",
     "output_type": "stream",
     "text": [
      "0.99999531348\n",
      "1840\n",
      "874\n"
     ]
    }
   ],
   "source": [
    "print(alignment.alignment(K,K_mod))\n",
    "for i in trainData:\n",
    "    print(len(i))"
   ]
  },
  {
   "cell_type": "code",
   "execution_count": 28,
   "metadata": {},
   "outputs": [
    {
     "name": "stdout",
     "output_type": "stream",
     "text": [
      "done with features\n",
      "done with occurance\n"
     ]
    },
    {
     "name": "stderr",
     "output_type": "stream",
     "text": [
      "100%|█████████████████████████████████████| 500/500 [00:00<00:00, 35681.63it/s]\n",
      "100%|██████████████████████████████████████████| 20/20 [00:28<00:00,  1.42s/it]\n",
      "100%|██████████████████████████████████████████| 20/20 [00:48<00:00,  2.42s/it]\n"
     ]
    },
    {
     "name": "stdout",
     "output_type": "stream",
     "text": [
      "Square kernel matrix generated\n"
     ]
    },
    {
     "name": "stderr",
     "output_type": "stream",
     "text": [
      "100%|█████████████████████████████████████| 500/500 [00:00<00:00, 38425.56it/s]\n",
      "100%|█████████████████████████████████████████| 20/20 [00:00<00:00, 117.53it/s]\n",
      "100%|██████████████████████████████████████████| 20/20 [00:48<00:00,  2.41s/it]\n"
     ]
    },
    {
     "name": "stdout",
     "output_type": "stream",
     "text": [
      "Square kernel matrix generated\n"
     ]
    },
    {
     "name": "stderr",
     "output_type": "stream",
     "text": [
      "100%|█████████████████████████████████████| 500/500 [00:00<00:00, 35679.81it/s]\n",
      "100%|██████████████████████████████████████████| 20/20 [00:28<00:00,  1.43s/it]\n",
      "100%|██████████████████████████████████████████| 20/20 [00:48<00:00,  2.44s/it]\n"
     ]
    },
    {
     "name": "stdout",
     "output_type": "stream",
     "text": [
      "Square kernel matrix generated\n"
     ]
    },
    {
     "name": "stderr",
     "output_type": "stream",
     "text": [
      "100%|█████████████████████████████████████| 500/500 [00:00<00:00, 38392.50it/s]\n",
      "100%|██████████████████████████████████████████| 20/20 [00:01<00:00, 11.30it/s]\n",
      "100%|██████████████████████████████████████████| 20/20 [00:49<00:00,  2.45s/it]\n"
     ]
    },
    {
     "name": "stdout",
     "output_type": "stream",
     "text": [
      "Square kernel matrix generated\n"
     ]
    },
    {
     "name": "stderr",
     "output_type": "stream",
     "text": [
      "100%|█████████████████████████████████████| 500/500 [00:00<00:00, 38377.04it/s]\n",
      "100%|██████████████████████████████████████████| 20/20 [00:28<00:00,  1.44s/it]\n",
      "100%|██████████████████████████████████████████| 20/20 [00:49<00:00,  2.48s/it]\n"
     ]
    },
    {
     "name": "stdout",
     "output_type": "stream",
     "text": [
      "Square kernel matrix generated\n"
     ]
    },
    {
     "name": "stderr",
     "output_type": "stream",
     "text": [
      "100%|█████████████████████████████████████| 500/500 [00:00<00:00, 38424.86it/s]\n",
      "100%|██████████████████████████████████████████| 20/20 [00:03<00:00,  5.60it/s]\n",
      "100%|██████████████████████████████████████████| 20/20 [00:48<00:00,  2.41s/it]\n"
     ]
    },
    {
     "name": "stdout",
     "output_type": "stream",
     "text": [
      "Square kernel matrix generated\n"
     ]
    },
    {
     "name": "stderr",
     "output_type": "stream",
     "text": [
      "100%|█████████████████████████████████████| 500/500 [00:00<00:00, 38376.34it/s]\n",
      "100%|██████████████████████████████████████████| 20/20 [00:28<00:00,  1.43s/it]\n",
      "100%|██████████████████████████████████████████| 20/20 [00:48<00:00,  2.41s/it]\n"
     ]
    },
    {
     "name": "stdout",
     "output_type": "stream",
     "text": [
      "Square kernel matrix generated\n"
     ]
    },
    {
     "name": "stderr",
     "output_type": "stream",
     "text": [
      "100%|█████████████████████████████████████| 500/500 [00:00<00:00, 38376.34it/s]\n",
      "100%|██████████████████████████████████████████| 20/20 [00:05<00:00,  3.76it/s]\n",
      "100%|██████████████████████████████████████████| 20/20 [00:48<00:00,  2.41s/it]\n"
     ]
    },
    {
     "name": "stdout",
     "output_type": "stream",
     "text": [
      "Square kernel matrix generated\n"
     ]
    },
    {
     "name": "stderr",
     "output_type": "stream",
     "text": [
      "100%|█████████████████████████████████████| 500/500 [00:00<00:00, 35693.17it/s]\n",
      "100%|██████████████████████████████████████████| 20/20 [00:28<00:00,  1.43s/it]\n",
      "100%|██████████████████████████████████████████| 20/20 [00:49<00:00,  2.47s/it]\n"
     ]
    },
    {
     "name": "stdout",
     "output_type": "stream",
     "text": [
      "Square kernel matrix generated\n"
     ]
    },
    {
     "name": "stderr",
     "output_type": "stream",
     "text": [
      "100%|█████████████████████████████████████| 500/500 [00:00<00:00, 38426.97it/s]\n",
      "100%|██████████████████████████████████████████| 20/20 [00:07<00:00,  2.79it/s]\n",
      "100%|██████████████████████████████████████████| 20/20 [00:48<00:00,  2.43s/it]\n"
     ]
    },
    {
     "name": "stdout",
     "output_type": "stream",
     "text": [
      "Square kernel matrix generated\n"
     ]
    },
    {
     "name": "stderr",
     "output_type": "stream",
     "text": [
      "100%|█████████████████████████████████████| 500/500 [00:00<00:00, 38423.45it/s]\n",
      "100%|██████████████████████████████████████████| 20/20 [00:28<00:00,  1.43s/it]\n",
      "100%|██████████████████████████████████████████| 20/20 [00:48<00:00,  2.42s/it]\n"
     ]
    },
    {
     "name": "stdout",
     "output_type": "stream",
     "text": [
      "Square kernel matrix generated\n"
     ]
    },
    {
     "name": "stderr",
     "output_type": "stream",
     "text": [
      "100%|█████████████████████████████████████| 500/500 [00:00<00:00, 33301.34it/s]\n",
      "100%|██████████████████████████████████████████| 20/20 [00:08<00:00,  2.30it/s]\n",
      "100%|██████████████████████████████████████████| 20/20 [00:47<00:00,  2.40s/it]\n"
     ]
    },
    {
     "name": "stdout",
     "output_type": "stream",
     "text": [
      "Square kernel matrix generated\n"
     ]
    },
    {
     "name": "stderr",
     "output_type": "stream",
     "text": [
      "100%|█████████████████████████████████████| 500/500 [00:00<00:00, 33269.12it/s]\n",
      "100%|██████████████████████████████████████████| 20/20 [00:28<00:00,  1.43s/it]\n",
      "100%|██████████████████████████████████████████| 20/20 [00:48<00:00,  2.42s/it]\n"
     ]
    },
    {
     "name": "stdout",
     "output_type": "stream",
     "text": [
      "Square kernel matrix generated\n"
     ]
    },
    {
     "name": "stderr",
     "output_type": "stream",
     "text": [
      "100%|█████████████████████████████████████| 500/500 [00:00<00:00, 35681.02it/s]\n",
      "100%|██████████████████████████████████████████| 20/20 [00:10<00:00,  1.93it/s]\n",
      "100%|██████████████████████████████████████████| 20/20 [00:47<00:00,  2.40s/it]\n"
     ]
    },
    {
     "name": "stdout",
     "output_type": "stream",
     "text": [
      "Square kernel matrix generated\n"
     ]
    },
    {
     "name": "stderr",
     "output_type": "stream",
     "text": [
      "100%|█████████████████████████████████████| 500/500 [00:00<00:00, 35728.44it/s]\n",
      "100%|██████████████████████████████████████████| 20/20 [00:28<00:00,  1.43s/it]\n",
      "100%|██████████████████████████████████████████| 20/20 [00:48<00:00,  2.42s/it]\n"
     ]
    },
    {
     "name": "stdout",
     "output_type": "stream",
     "text": [
      "Square kernel matrix generated\n"
     ]
    },
    {
     "name": "stderr",
     "output_type": "stream",
     "text": [
      "100%|█████████████████████████████████████| 500/500 [00:00<00:00, 35648.27it/s]\n",
      "100%|██████████████████████████████████████████| 20/20 [00:13<00:00,  1.49it/s]\n",
      "100%|██████████████████████████████████████████| 20/20 [00:47<00:00,  2.40s/it]\n"
     ]
    },
    {
     "name": "stdout",
     "output_type": "stream",
     "text": [
      "Square kernel matrix generated\n"
     ]
    },
    {
     "name": "stderr",
     "output_type": "stream",
     "text": [
      "100%|█████████████████████████████████████| 500/500 [00:00<00:00, 33265.42it/s]\n",
      "100%|██████████████████████████████████████████| 20/20 [00:28<00:00,  1.43s/it]\n",
      "100%|██████████████████████████████████████████| 20/20 [00:48<00:00,  2.42s/it]\n"
     ]
    },
    {
     "name": "stdout",
     "output_type": "stream",
     "text": [
      "Square kernel matrix generated\n"
     ]
    },
    {
     "name": "stderr",
     "output_type": "stream",
     "text": [
      "100%|█████████████████████████████████████| 500/500 [00:00<00:00, 35679.81it/s]\n",
      "100%|██████████████████████████████████████████| 20/20 [00:15<00:00,  1.31it/s]\n",
      "100%|██████████████████████████████████████████| 20/20 [00:48<00:00,  2.43s/it]\n"
     ]
    },
    {
     "name": "stdout",
     "output_type": "stream",
     "text": [
      "Square kernel matrix generated\n"
     ]
    },
    {
     "name": "stderr",
     "output_type": "stream",
     "text": [
      "100%|█████████████████████████████████████| 500/500 [00:00<00:00, 33303.46it/s]\n",
      "100%|██████████████████████████████████████████| 20/20 [00:29<00:00,  1.47s/it]\n",
      "100%|██████████████████████████████████████████| 20/20 [00:50<00:00,  2.51s/it]\n"
     ]
    },
    {
     "name": "stdout",
     "output_type": "stream",
     "text": [
      "Square kernel matrix generated\n"
     ]
    },
    {
     "name": "stderr",
     "output_type": "stream",
     "text": [
      "100%|█████████████████████████████████████| 500/500 [00:00<00:00, 34413.39it/s]\n",
      "100%|██████████████████████████████████████████| 20/20 [00:18<00:00,  1.09it/s]\n",
      "100%|██████████████████████████████████████████| 20/20 [00:51<00:00,  2.59s/it]\n"
     ]
    },
    {
     "name": "stdout",
     "output_type": "stream",
     "text": [
      "Square kernel matrix generated\n"
     ]
    },
    {
     "name": "stderr",
     "output_type": "stream",
     "text": [
      "100%|█████████████████████████████████████| 500/500 [00:00<00:00, 35641.60it/s]\n",
      "100%|██████████████████████████████████████████| 20/20 [00:30<00:00,  1.53s/it]\n",
      "100%|██████████████████████████████████████████| 20/20 [00:51<00:00,  2.59s/it]\n"
     ]
    },
    {
     "name": "stdout",
     "output_type": "stream",
     "text": [
      "Square kernel matrix generated\n"
     ]
    },
    {
     "name": "stderr",
     "output_type": "stream",
     "text": [
      "100%|█████████████████████████████████████| 500/500 [00:00<00:00, 35681.02it/s]\n",
      "100%|██████████████████████████████████████████| 20/20 [00:18<00:00,  1.05it/s]\n",
      "100%|██████████████████████████████████████████| 20/20 [00:52<00:00,  2.63s/it]\n"
     ]
    },
    {
     "name": "stdout",
     "output_type": "stream",
     "text": [
      "Square kernel matrix generated\n"
     ]
    },
    {
     "name": "stderr",
     "output_type": "stream",
     "text": [
      "100%|█████████████████████████████████████| 500/500 [00:00<00:00, 22706.03it/s]\n",
      "100%|██████████████████████████████████████████| 20/20 [00:31<00:00,  1.57s/it]\n",
      "100%|██████████████████████████████████████████| 20/20 [00:52<00:00,  2.63s/it]\n"
     ]
    },
    {
     "name": "stdout",
     "output_type": "stream",
     "text": [
      "Square kernel matrix generated\n"
     ]
    },
    {
     "name": "stderr",
     "output_type": "stream",
     "text": [
      "100%|█████████████████████████████████████| 500/500 [00:00<00:00, 36962.04it/s]\n",
      "100%|██████████████████████████████████████████| 20/20 [00:20<00:00,  1.02s/it]\n",
      "100%|██████████████████████████████████████████| 20/20 [00:50<00:00,  2.54s/it]\n"
     ]
    },
    {
     "name": "stdout",
     "output_type": "stream",
     "text": [
      "Square kernel matrix generated\n"
     ]
    }
   ],
   "source": [
    "categories = ['earn','acq']\n",
    "numberOfTraining = [10,10]\n",
    "numberOfTesting = [1,1]\n",
    "\n",
    "trainData,trainLabels, testData,testLabel = fd.loadData(categories,numberOfTraining,numberOfTesting)\n",
    "\n",
    "n=3\n",
    "l=0.01\n",
    "S = 500;\n",
    "\n",
    "topFeatures, topFeatureScores = mff.mostFrequentFeatures(trainData,n,S)\n",
    "\n",
    "loopVec = [5,50,100,150,200,250,300,400,500,600,700,800];\n",
    "\n",
    "timeOld = [];\n",
    "timeNew = [];\n",
    "\n",
    "frobVal = [];\n",
    "\n",
    "for cutoff in loopVec:\n",
    "    t1=time.time()\n",
    "    K = kernel.approximative_kernel(trainData,trainData,topFeatures,n,l);\n",
    "    t2=time.time()\n",
    "\n",
    "    t3=time.time()\n",
    "    K_mod = kernel_modified.approximative_kernel(trainData,trainData,topFeatures,n,l,cutoff);\n",
    "    t4=time.time()\n",
    "    \n",
    "    timeOld.append(t2-t1);\n",
    "    timeNew.append(t4-t3);\n",
    "    frobVal.append(alignment.alignment(K,K_mod));"
   ]
  },
  {
   "cell_type": "code",
   "execution_count": 29,
   "metadata": {},
   "outputs": [],
   "source": [
    "timeRel = [];\n",
    "for i,t in enumerate(timeOld):\n",
    "    timeRel.append(t/timeNew[i]);"
   ]
  },
  {
   "cell_type": "code",
   "execution_count": 30,
   "metadata": {},
   "outputs": [
    {
     "data": {
      "image/png": "[encoded data removed]",
      "text/plain": [
       "<matplotlib.figure.Figure at 0x2011a528048>"
      ]
     },
     "metadata": {},
     "output_type": "display_data"
    },
    {
     "data": {
      "image/png": "[encoded data removed]",
      "text/plain": [
       "<matplotlib.figure.Figure at 0x2011a570ac8>"
      ]
     },
     "metadata": {},
     "output_type": "display_data"
    }
   ],
   "source": [
    "pb.plot(loopVec,timeRel);\n",
    "pb.xlabel(\"cutoff\")\n",
    "pb.ylabel(\"relative time gain\")\n",
    "pb.show()\n",
    "\n",
    "pb.figure()\n",
    "pb.plot(loopVec,frobVal);\n",
    "pb.xlabel(\"cutoff\")\n",
    "pb.ylabel(\"frobenius value\")\n",
    "pb.show()"
   ]
  },
  {
   "cell_type": "code",
   "execution_count": 16,
   "metadata": {},
   "outputs": [
    {
     "name": "stdout",
     "output_type": "stream",
     "text": [
      "500\n",
      "0.88488092904\n",
      "43.839754819869995\n",
      "72.31045174598694\n"
     ]
    }
   ],
   "source": [
    "print(loopVec[23])\n",
    "print(frobVal[23])\n",
    "print(timeNew[23])\n",
    "print(timeOld[23])"
   ]
  }
 ],
 "metadata": {
  "kernelspec": {
   "display_name": "Python 3",
   "language": "python",
   "name": "python3"
  },
  "language_info": {
   "codemirror_mode": {
    "name": "ipython",
    "version": 3
   },
   "file_extension": ".py",
   "mimetype": "text/x-python",
   "name": "python",
   "nbconvert_exporter": "python",
   "pygments_lexer": "ipython3",
   "version": "3.5.4"
  }
 },
 "nbformat": 4,
 "nbformat_minor": 2
}
