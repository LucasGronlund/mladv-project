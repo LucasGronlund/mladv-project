{
 "cells": [
  {
   "cell_type": "code",
   "execution_count": 17,
   "metadata": {},
   "outputs": [],
   "source": [
    "import kernel\n",
    "import kernel_modified\n",
    "import numpy as np\n",
    "import fetch_data as fd\n",
    "import alignment\n",
    "import time\n",
    "import MostFrequentFeatures as mff\n",
    "import pylab as pb"
   ]
  },
  {
   "cell_type": "code",
   "execution_count": 2,
   "metadata": {},
   "outputs": [],
   "source": [
    "categories = ['earn','acq']\n",
    "numberOfTraining = [3,3]\n",
    "numberOfTesting = [1,1,11,1]\n",
    "\n",
    "trainData,trainLabels, testData,testLabel = fd.loadData(categories,numberOfTraining,numberOfTesting)\n",
    "\n"
   ]
  },
  {
   "cell_type": "code",
   "execution_count": 3,
   "metadata": {},
   "outputs": [
    {
     "name": "stdout",
     "output_type": "stream",
     "text": [
      "done with features\n",
      "done with occurance\n"
     ]
    },
    {
     "name": "stderr",
     "output_type": "stream",
     "text": [
      "100%|█████████████████████████████████████| 500/500 [00:00<00:00, 35682.84it/s]\n",
      "100%|████████████████████████████████████████████| 6/6 [00:22<00:00,  3.75s/it]\n",
      "100%|████████████████████████████████████████████| 6/6 [00:20<00:00,  3.41s/it]\n"
     ]
    },
    {
     "name": "stdout",
     "output_type": "stream",
     "text": [
      "Square kernel matrix generated\n"
     ]
    },
    {
     "ename": "UnboundLocalError",
     "evalue": "local variable 'N' referenced before assignment",
     "output_type": "error",
     "traceback": [
      "\u001b[1;31m---------------------------------------------------------------------------\u001b[0m",
      "\u001b[1;31mUnboundLocalError\u001b[0m                         Traceback (most recent call last)",
      "\u001b[1;32m<ipython-input-3-b88b762a547a>\u001b[0m in \u001b[0;36m<module>\u001b[1;34m()\u001b[0m\n\u001b[0;32m     11\u001b[0m \u001b[1;33m\u001b[0m\u001b[0m\n\u001b[0;32m     12\u001b[0m \u001b[0mt3\u001b[0m\u001b[1;33m=\u001b[0m\u001b[0mtime\u001b[0m\u001b[1;33m.\u001b[0m\u001b[0mtime\u001b[0m\u001b[1;33m(\u001b[0m\u001b[1;33m)\u001b[0m\u001b[1;33m\u001b[0m\u001b[0m\n\u001b[1;32m---> 13\u001b[1;33m \u001b[0mK_mod\u001b[0m \u001b[1;33m=\u001b[0m \u001b[0mkernel_modified\u001b[0m\u001b[1;33m.\u001b[0m\u001b[0mapproximative_kernel\u001b[0m\u001b[1;33m(\u001b[0m\u001b[0mtrainData\u001b[0m\u001b[1;33m,\u001b[0m\u001b[0mtrainData\u001b[0m\u001b[1;33m,\u001b[0m\u001b[0mtopFeatures\u001b[0m\u001b[1;33m,\u001b[0m\u001b[0mn\u001b[0m\u001b[1;33m,\u001b[0m\u001b[0ml\u001b[0m\u001b[1;33m,\u001b[0m\u001b[0mcutoff\u001b[0m\u001b[1;33m)\u001b[0m\u001b[1;33m\u001b[0m\u001b[0m\n\u001b[0m\u001b[0;32m     14\u001b[0m \u001b[0mt4\u001b[0m\u001b[1;33m=\u001b[0m\u001b[0mtime\u001b[0m\u001b[1;33m.\u001b[0m\u001b[0mtime\u001b[0m\u001b[1;33m(\u001b[0m\u001b[1;33m)\u001b[0m\u001b[1;33m\u001b[0m\u001b[0m\n\u001b[0;32m     15\u001b[0m \u001b[1;33m\u001b[0m\u001b[0m\n",
      "\u001b[1;32m~\\Documents\\Skolan\\mladv\\Project\\mladv-project\\src\\kernel_modified.py\u001b[0m in \u001b[0;36mapproximative_kernel\u001b[1;34m(x, z, s, n, l, cutoff)\u001b[0m\n\u001b[0;32m    200\u001b[0m \u001b[1;32mdef\u001b[0m \u001b[0mapproximative_kernel\u001b[0m\u001b[1;33m(\u001b[0m\u001b[0mx\u001b[0m\u001b[1;33m,\u001b[0m\u001b[0mz\u001b[0m\u001b[1;33m,\u001b[0m\u001b[0ms\u001b[0m\u001b[1;33m,\u001b[0m\u001b[0mn\u001b[0m\u001b[1;33m,\u001b[0m\u001b[0ml\u001b[0m\u001b[1;33m,\u001b[0m\u001b[0mcutoff\u001b[0m\u001b[1;33m)\u001b[0m\u001b[1;33m:\u001b[0m\u001b[1;33m\u001b[0m\u001b[0m\n\u001b[0;32m    201\u001b[0m     \u001b[1;31m#N = len(x)\u001b[0m\u001b[1;33m\u001b[0m\u001b[1;33m\u001b[0m\u001b[0m\n\u001b[1;32m--> 202\u001b[1;33m     \u001b[0mN\u001b[0m \u001b[1;33m=\u001b[0m \u001b[0mnp\u001b[0m\u001b[1;33m.\u001b[0m\u001b[0mmin\u001b[0m\u001b[1;33m(\u001b[0m\u001b[0mcutoff\u001b[0m\u001b[1;33m,\u001b[0m\u001b[0mN\u001b[0m\u001b[1;33m)\u001b[0m\u001b[1;33m;\u001b[0m\u001b[1;33m\u001b[0m\u001b[0m\n\u001b[0m\u001b[0;32m    203\u001b[0m     \u001b[0mkss\u001b[0m \u001b[1;33m=\u001b[0m \u001b[1;33m[\u001b[0m \u001b[0m_k\u001b[0m\u001b[1;33m(\u001b[0m\u001b[0mi\u001b[0m\u001b[1;33m,\u001b[0m\u001b[0mi\u001b[0m\u001b[1;33m,\u001b[0m\u001b[0mn\u001b[0m\u001b[1;33m,\u001b[0m\u001b[0ml\u001b[0m\u001b[1;33m,\u001b[0m\u001b[0m_k_prime\u001b[0m\u001b[1;33m(\u001b[0m\u001b[0mi\u001b[0m\u001b[1;33m,\u001b[0m\u001b[0mi\u001b[0m\u001b[1;33m,\u001b[0m\u001b[0mn\u001b[0m\u001b[1;33m,\u001b[0m\u001b[0ml\u001b[0m\u001b[1;33m,\u001b[0m\u001b[0mcutoff\u001b[0m\u001b[1;33m)\u001b[0m\u001b[1;33m,\u001b[0m\u001b[0mcutoff\u001b[0m\u001b[1;33m)\u001b[0m \u001b[1;32mfor\u001b[0m \u001b[0mi\u001b[0m \u001b[1;32min\u001b[0m \u001b[0mtqdm\u001b[0m\u001b[1;33m(\u001b[0m\u001b[0ms\u001b[0m\u001b[1;33m)\u001b[0m\u001b[1;33m]\u001b[0m\u001b[1;33m\u001b[0m\u001b[0m\n\u001b[0;32m    204\u001b[0m     \u001b[0mkxx\u001b[0m \u001b[1;33m=\u001b[0m \u001b[1;33m[\u001b[0m \u001b[0m_k\u001b[0m\u001b[1;33m(\u001b[0m\u001b[0mi\u001b[0m\u001b[1;33m,\u001b[0m\u001b[0mi\u001b[0m\u001b[1;33m,\u001b[0m\u001b[0mn\u001b[0m\u001b[1;33m,\u001b[0m\u001b[0ml\u001b[0m\u001b[1;33m,\u001b[0m\u001b[0m_k_prime\u001b[0m\u001b[1;33m(\u001b[0m\u001b[0mi\u001b[0m\u001b[1;33m,\u001b[0m\u001b[0mi\u001b[0m\u001b[1;33m,\u001b[0m\u001b[0mn\u001b[0m\u001b[1;33m,\u001b[0m\u001b[0ml\u001b[0m\u001b[1;33m,\u001b[0m\u001b[0mcutoff\u001b[0m\u001b[1;33m)\u001b[0m\u001b[1;33m,\u001b[0m\u001b[0mcutoff\u001b[0m\u001b[1;33m)\u001b[0m \u001b[1;32mfor\u001b[0m \u001b[0mi\u001b[0m \u001b[1;32min\u001b[0m \u001b[0mtqdm\u001b[0m\u001b[1;33m(\u001b[0m\u001b[0mx\u001b[0m\u001b[1;33m)\u001b[0m\u001b[1;33m]\u001b[0m\u001b[1;33m\u001b[0m\u001b[0m\n",
      "\u001b[1;31mUnboundLocalError\u001b[0m: local variable 'N' referenced before assignment"
     ]
    }
   ],
   "source": [
    "n=3\n",
    "l=0.5\n",
    "cutoff = 800;\n",
    "S = 500;\n",
    "\n",
    "topFeatures, topFeatureScores = mff.mostFrequentFeatures(trainData,n,S)\n",
    "\n",
    "t1=time.time()\n",
    "K = kernel.approximative_kernel(trainData,trainData,topFeatures,n,l)\n",
    "t2=time.time()\n",
    "\n",
    "t3=time.time()\n",
    "K_mod = kernel_modified.approximative_kernel(trainData,trainData,topFeatures,n,l,cutoff)\n",
    "t4=time.time()\n",
    "\n",
    "print(t2-t1)\n",
    "print(t4-t3)"
   ]
  },
  {
   "cell_type": "code",
   "execution_count": null,
   "metadata": {},
   "outputs": [
    {
     "name": "stdout",
     "output_type": "stream",
     "text": [
      "done with features\n",
      "done with occurance\n"
     ]
    },
    {
     "name": "stderr",
     "output_type": "stream",
     "text": [
      "100%|█████████████████████████████████████| 500/500 [00:00<00:00, 35651.30it/s]\n",
      "100%|████████████████████████████████████████████| 6/6 [00:06<00:00,  1.11s/it]\n",
      "100%|████████████████████████████████████████████| 6/6 [00:15<00:00,  2.51s/it]\n"
     ]
    },
    {
     "name": "stdout",
     "output_type": "stream",
     "text": [
      "Square kernel matrix generated\n"
     ]
    },
    {
     "name": "stderr",
     "output_type": "stream",
     "text": [
      "100%|█████████████████████████████████████| 500/500 [00:00<00:00, 35682.24it/s]\n",
      "100%|███████████████████████████████████████████| 6/6 [00:00<00:00, 117.54it/s]\n",
      "100%|████████████████████████████████████████████| 6/6 [00:15<00:00,  2.54s/it]\n"
     ]
    },
    {
     "name": "stdout",
     "output_type": "stream",
     "text": [
      "Square kernel matrix generated\n"
     ]
    },
    {
     "name": "stderr",
     "output_type": "stream",
     "text": [
      "100%|█████████████████████████████████████| 500/500 [00:00<00:00, 35636.76it/s]\n",
      "100%|████████████████████████████████████████████| 6/6 [00:06<00:00,  1.14s/it]\n",
      "100%|████████████████████████████████████████████| 6/6 [00:15<00:00,  2.53s/it]\n"
     ]
    },
    {
     "name": "stdout",
     "output_type": "stream",
     "text": [
      "Square kernel matrix generated\n"
     ]
    },
    {
     "name": "stderr",
     "output_type": "stream",
     "text": [
      "100%|█████████████████████████████████████| 500/500 [00:00<00:00, 33299.76it/s]\n",
      "100%|████████████████████████████████████████████| 6/6 [00:00<00:00, 21.80it/s]\n",
      "100%|████████████████████████████████████████████| 6/6 [00:14<00:00,  2.49s/it]\n"
     ]
    },
    {
     "name": "stdout",
     "output_type": "stream",
     "text": [
      "Square kernel matrix generated\n"
     ]
    },
    {
     "name": "stderr",
     "output_type": "stream",
     "text": [
      "100%|█████████████████████████████████████| 500/500 [00:00<00:00, 38377.75it/s]\n",
      "100%|████████████████████████████████████████████| 6/6 [00:06<00:00,  1.15s/it]\n",
      "100%|████████████████████████████████████████████| 6/6 [00:15<00:00,  2.57s/it]\n"
     ]
    },
    {
     "name": "stdout",
     "output_type": "stream",
     "text": [
      "Square kernel matrix generated\n"
     ]
    },
    {
     "name": "stderr",
     "output_type": "stream",
     "text": [
      "100%|█████████████████████████████████████| 500/500 [00:00<00:00, 29382.99it/s]\n",
      "100%|████████████████████████████████████████████| 6/6 [00:00<00:00, 12.31it/s]\n",
      "100%|████████████████████████████████████████████| 6/6 [00:15<00:00,  2.54s/it]\n"
     ]
    },
    {
     "name": "stdout",
     "output_type": "stream",
     "text": [
      "Square kernel matrix generated\n"
     ]
    },
    {
     "name": "stderr",
     "output_type": "stream",
     "text": [
      "100%|█████████████████████████████████████| 500/500 [00:00<00:00, 35678.59it/s]\n",
      "100%|████████████████████████████████████████████| 6/6 [00:06<00:00,  1.16s/it]\n",
      "100%|████████████████████████████████████████████| 6/6 [00:15<00:00,  2.66s/it]\n"
     ]
    },
    {
     "name": "stdout",
     "output_type": "stream",
     "text": [
      "Square kernel matrix generated\n"
     ]
    },
    {
     "name": "stderr",
     "output_type": "stream",
     "text": [
      "100%|█████████████████████████████████████| 500/500 [00:00<00:00, 38425.56it/s]\n",
      "100%|████████████████████████████████████████████| 6/6 [00:00<00:00,  8.74it/s]\n",
      "100%|████████████████████████████████████████████| 6/6 [00:15<00:00,  2.58s/it]\n"
     ]
    },
    {
     "name": "stdout",
     "output_type": "stream",
     "text": [
      "Square kernel matrix generated\n"
     ]
    },
    {
     "name": "stderr",
     "output_type": "stream",
     "text": [
      "100%|█████████████████████████████████████| 500/500 [00:00<00:00, 35636.15it/s]\n",
      "100%|████████████████████████████████████████████| 6/6 [00:06<00:00,  1.15s/it]\n",
      "100%|████████████████████████████████████████████| 6/6 [00:15<00:00,  2.59s/it]\n"
     ]
    },
    {
     "name": "stdout",
     "output_type": "stream",
     "text": [
      "Square kernel matrix generated\n"
     ]
    },
    {
     "name": "stderr",
     "output_type": "stream",
     "text": [
      "100%|█████████████████████████████████████| 500/500 [00:00<00:00, 35651.30it/s]\n",
      "100%|████████████████████████████████████████████| 6/6 [00:00<00:00,  6.28it/s]\n",
      "100%|████████████████████████████████████████████| 6/6 [00:15<00:00,  2.57s/it]\n"
     ]
    },
    {
     "name": "stdout",
     "output_type": "stream",
     "text": [
      "Square kernel matrix generated\n"
     ]
    },
    {
     "name": "stderr",
     "output_type": "stream",
     "text": [
      "100%|█████████████████████████████████████| 500/500 [00:00<00:00, 35681.02it/s]\n",
      "100%|████████████████████████████████████████████| 6/6 [00:06<00:00,  1.11s/it]\n",
      "100%|████████████████████████████████████████████| 6/6 [00:15<00:00,  2.53s/it]\n"
     ]
    },
    {
     "name": "stdout",
     "output_type": "stream",
     "text": [
      "Square kernel matrix generated\n"
     ]
    },
    {
     "name": "stderr",
     "output_type": "stream",
     "text": [
      "100%|█████████████████████████████████████| 500/500 [00:00<00:00, 35649.48it/s]\n",
      "100%|████████████████████████████████████████████| 6/6 [00:00<00:00,  6.03it/s]\n",
      "100%|████████████████████████████████████████████| 6/6 [00:15<00:00,  2.58s/it]\n"
     ]
    },
    {
     "name": "stdout",
     "output_type": "stream",
     "text": [
      "Square kernel matrix generated\n"
     ]
    },
    {
     "name": "stderr",
     "output_type": "stream",
     "text": [
      "100%|█████████████████████████████████████| 500/500 [00:00<00:00, 35639.79it/s]\n",
      "100%|████████████████████████████████████████████| 6/6 [00:06<00:00,  1.12s/it]\n",
      "100%|████████████████████████████████████████████| 6/6 [00:14<00:00,  2.50s/it]\n"
     ]
    },
    {
     "name": "stdout",
     "output_type": "stream",
     "text": [
      "Square kernel matrix generated\n"
     ]
    },
    {
     "name": "stderr",
     "output_type": "stream",
     "text": [
      "100%|█████████████████████████████████████| 500/500 [00:00<00:00, 35637.36it/s]\n",
      "100%|████████████████████████████████████████████| 6/6 [00:01<00:00,  4.56it/s]\n",
      "100%|████████████████████████████████████████████| 6/6 [00:15<00:00,  2.55s/it]\n"
     ]
    },
    {
     "name": "stdout",
     "output_type": "stream",
     "text": [
      "Square kernel matrix generated\n"
     ]
    },
    {
     "name": "stderr",
     "output_type": "stream",
     "text": [
      "100%|█████████████████████████████████████| 500/500 [00:00<00:00, 33278.62it/s]\n",
      "100%|████████████████████████████████████████████| 6/6 [00:06<00:00,  1.15s/it]\n",
      "100%|████████████████████████████████████████████| 6/6 [00:15<00:00,  2.59s/it]\n"
     ]
    },
    {
     "name": "stdout",
     "output_type": "stream",
     "text": [
      "Square kernel matrix generated\n"
     ]
    },
    {
     "name": "stderr",
     "output_type": "stream",
     "text": [
      "100%|█████████████████████████████████████| 500/500 [00:00<00:00, 38374.94it/s]\n",
      "100%|████████████████████████████████████████████| 6/6 [00:01<00:00,  3.33it/s]\n",
      "100%|████████████████████████████████████████████| 6/6 [00:15<00:00,  2.59s/it]\n"
     ]
    },
    {
     "name": "stdout",
     "output_type": "stream",
     "text": [
      "Square kernel matrix generated\n"
     ]
    },
    {
     "name": "stderr",
     "output_type": "stream",
     "text": [
      "100%|█████████████████████████████████████| 500/500 [00:00<00:00, 38375.64it/s]\n",
      "100%|████████████████████████████████████████████| 6/6 [00:06<00:00,  1.12s/it]\n",
      "100%|████████████████████████████████████████████| 6/6 [00:15<00:00,  2.61s/it]\n"
     ]
    },
    {
     "name": "stdout",
     "output_type": "stream",
     "text": [
      "Square kernel matrix generated\n"
     ]
    },
    {
     "name": "stderr",
     "output_type": "stream",
     "text": [
      "100%|█████████████████████████████████████| 500/500 [00:00<00:00, 33263.31it/s]\n",
      "100%|████████████████████████████████████████████| 6/6 [00:02<00:00,  2.97it/s]\n",
      "100%|████████████████████████████████████████████| 6/6 [00:15<00:00,  2.56s/it]\n"
     ]
    },
    {
     "name": "stdout",
     "output_type": "stream",
     "text": [
      "Square kernel matrix generated\n"
     ]
    },
    {
     "name": "stderr",
     "output_type": "stream",
     "text": [
      "100%|█████████████████████████████████████| 500/500 [00:00<00:00, 38374.24it/s]\n",
      "100%|████████████████████████████████████████████| 6/6 [00:06<00:00,  1.13s/it]\n",
      "100%|████████████████████████████████████████████| 6/6 [00:15<00:00,  2.66s/it]\n"
     ]
    },
    {
     "name": "stdout",
     "output_type": "stream",
     "text": [
      "Square kernel matrix generated\n"
     ]
    },
    {
     "name": "stderr",
     "output_type": "stream",
     "text": [
      "100%|█████████████████████████████████████| 500/500 [00:00<00:00, 38462.92it/s]\n",
      "100%|████████████████████████████████████████████| 6/6 [00:02<00:00,  2.30it/s]\n",
      "100%|████████████████████████████████████████████| 6/6 [00:15<00:00,  2.58s/it]\n"
     ]
    },
    {
     "name": "stdout",
     "output_type": "stream",
     "text": [
      "Square kernel matrix generated\n"
     ]
    },
    {
     "name": "stderr",
     "output_type": "stream",
     "text": [
      "100%|█████████████████████████████████████| 500/500 [00:00<00:00, 29353.38it/s]\n",
      "100%|████████████████████████████████████████████| 6/6 [00:06<00:00,  1.16s/it]\n",
      "100%|████████████████████████████████████████████| 6/6 [00:15<00:00,  2.58s/it]\n"
     ]
    },
    {
     "name": "stdout",
     "output_type": "stream",
     "text": [
      "Square kernel matrix generated\n"
     ]
    },
    {
     "name": "stderr",
     "output_type": "stream",
     "text": [
      "100%|█████████████████████████████████████| 500/500 [00:00<00:00, 33279.15it/s]\n",
      "100%|████████████████████████████████████████████| 6/6 [00:03<00:00,  1.90it/s]\n",
      "100%|████████████████████████████████████████████| 6/6 [00:15<00:00,  2.59s/it]\n"
     ]
    },
    {
     "name": "stdout",
     "output_type": "stream",
     "text": [
      "Square kernel matrix generated\n"
     ]
    },
    {
     "name": "stderr",
     "output_type": "stream",
     "text": [
      "100%|█████████████████████████████████████| 500/500 [00:00<00:00, 36960.73it/s]\n",
      "100%|████████████████████████████████████████████| 6/6 [00:06<00:00,  1.13s/it]\n",
      "100%|████████████████████████████████████████████| 6/6 [00:15<00:00,  2.55s/it]\n"
     ]
    },
    {
     "name": "stdout",
     "output_type": "stream",
     "text": [
      "Square kernel matrix generated\n"
     ]
    },
    {
     "name": "stderr",
     "output_type": "stream",
     "text": [
      "100%|█████████████████████████████████████| 500/500 [00:00<00:00, 35681.63it/s]\n",
      "100%|████████████████████████████████████████████| 6/6 [00:03<00:00,  1.77it/s]\n",
      " 33%|██████████████▋                             | 2/6 [00:01<00:03,  1.21it/s]"
     ]
    }
   ],
   "source": [
    "categories = ['earn','acq']\n",
    "numberOfTraining = [3,3]\n",
    "numberOfTesting = [1,1]\n",
    "\n",
    "trainData,trainLabels, testData,testLabel = fd.loadData(categories,numberOfTraining,numberOfTesting)\n",
    "\n",
    "n=3\n",
    "l=0.05\n",
    "S = 500;\n",
    "\n",
    "topFeatures, topFeatureScores = mff.mostFrequentFeatures(trainData,n,S)\n",
    "\n",
    "loopVec = [5,25,40,60,80,90,120,160,180,240,280,320,360,400,450,500,550,600,650,700,750,800];\n",
    "\n",
    "timeOld = [];\n",
    "timeNew = [];\n",
    "\n",
    "frobVal = [];\n",
    "\n",
    "for cutoff in loopVec:\n",
    "    t1=time.time()\n",
    "    K = kernel.approximative_kernel(trainData,trainData,topFeatures,n,l);\n",
    "    t2=time.time()\n",
    "\n",
    "    t3=time.time()\n",
    "    K_mod = kernel_modified.approximative_kernel(trainData,trainData,topFeatures,n,l,cutoff);\n",
    "    t4=time.time()\n",
    "    \n",
    "    timeOld.append(t2-t1);\n",
    "    timeNew.append(t4-t3);\n",
    "    frobVal.append(alignment.alignment(K,K_mod));"
   ]
  },
  {
   "cell_type": "code",
   "execution_count": 5,
   "metadata": {},
   "outputs": [],
   "source": [
    "timeRel = [];\n",
    "for i,t in enumerate(timeOld):\n",
    "    timeRel.append(t/timeNew[i]);"
   ]
  },
  {
   "cell_type": "code",
   "execution_count": 11,
   "metadata": {},
   "outputs": [
    {
     "data": {
      "image/png": "[encoded data removed]",
      "text/plain": [
       "<matplotlib.figure.Figure at 0x2011908f550>"
      ]
     },
     "metadata": {},
     "output_type": "display_data"
    },
    {
     "data": {
      "image/png": "[encoded data removed]",
      "text/plain": [
       "<matplotlib.figure.Figure at 0x2011902f978>"
      ]
     },
     "metadata": {},
     "output_type": "display_data"
    }
   ],
   "source": [
    "pb.plot(loopVec,timeRel);\n",
    "pb.xlabel(\"cutoff\")\n",
    "pb.ylabel(\"relative time gain\")\n",
    "pb.show()\n",
    "\n",
    "pb.figure()\n",
    "pb.plot(loopVec,frobVal);\n",
    "pb.xlabel(\"cutoff\")\n",
    "pb.ylabel(\"frobenius value\")\n",
    "pb.show()"
   ]
  },
  {
   "cell_type": "code",
   "execution_count": 16,
   "metadata": {},
   "outputs": [
    {
     "name": "stdout",
     "output_type": "stream",
     "text": [
      "500\n",
      "0.88488092904\n",
      "43.839754819869995\n",
      "72.31045174598694\n"
     ]
    }
   ],
   "source": [
    "print(loopVec[23])\n",
    "print(frobVal[23])\n",
    "print(timeNew[23])\n",
    "print(timeOld[23])"
   ]
  }
 ],
 "metadata": {
  "kernelspec": {
   "display_name": "Python 3",
   "language": "python",
   "name": "python3"
  },
  "language_info": {
   "codemirror_mode": {
    "name": "ipython",
    "version": 3
   },
   "file_extension": ".py",
   "mimetype": "text/x-python",
   "name": "python",
   "nbconvert_exporter": "python",
   "pygments_lexer": "ipython3",
   "version": "3.5.4"
  }
 },
 "nbformat": 4,
 "nbformat_minor": 2
}
