{
 "cells": [
  {
   "cell_type": "code",
   "execution_count": 1,
   "metadata": {},
   "outputs": [],
   "source": [
    "import kernel\n",
    "import kernel_modified\n",
    "import numpy as np\n",
    "import fetch_data as fd\n",
    "import alignment\n",
    "import time\n",
    "import MostFrequentFeatures as mff\n",
    "import pylab as pb\n",
    "import subprocess\n",
    "import os\n",
    "import sys\n",
    "from tqdm import tqdm"
   ]
  },
  {
   "cell_type": "code",
   "execution_count": 2,
   "metadata": {},
   "outputs": [],
   "source": [
    "def marcus_approximative_kernel_modified(x,z,s,n,lmda,cutoff = 1000):\n",
    "    the_strings = b''\n",
    "    if hash(tuple(x)) == hash(tuple(z)):\n",
    "        equal_hash = b'1 '\n",
    "    else:\n",
    "        equal_hash = b'0 '\n",
    "    the_args = bytes(str(len(x)),'ascii')+ b' ' + bytes(str(len(z)),'ascii')+ b' ' + bytes(str(len(s)),'ascii')+ b' '\n",
    "    for i in x:\n",
    "        the_strings = the_strings + bytes(i,'ascii')\n",
    "        the_args = the_args + bytes(str(len(i)),'ascii') + b' '\n",
    "    for i in z:\n",
    "        the_strings = the_strings + bytes(i,'ascii')\n",
    "        the_args = the_args + bytes(str(len(i)),'ascii') + b' '\n",
    "    for i in s:\n",
    "        the_strings = the_strings + bytes(i,'ascii')\n",
    "        the_args = the_args + bytes(str(len(i)),'ascii') + b' '\n",
    "    the_args = the_args + bytes(str(n), 'ascii')+ b' ' + bytes(str(lmda), 'ascii') + b' ' + bytes(str(cutoff), 'ascii')\n",
    "    fast_kernel = subprocess.Popen([\"./fast_approximative_kernel_modified.out\"], stdin=subprocess.PIPE, stdout=subprocess.PIPE)\n",
    "    output_test = fast_kernel.communicate(input=equal_hash+the_args+the_strings)[0]\n",
    "#     print(output_test.decode('utf-8'))\n",
    "    output_test_list = output_test.decode('utf-8').split()\n",
    "    K = parseMatrix(output_test_list)\n",
    "    return K\n",
    "\n",
    "def marcus_approximative_kernel(x,z,s,n,lmda):\n",
    "    the_strings = b''\n",
    "    if hash(tuple(x)) == hash(tuple(z)):\n",
    "        equal_hash = b'1 '\n",
    "    else:\n",
    "        equal_hash = b'0 '\n",
    "    the_args = bytes(str(len(x)),'ascii')+ b' ' + bytes(str(len(z)),'ascii')+ b' ' + bytes(str(len(s)),'ascii')+ b' '\n",
    "    for i in x:\n",
    "        the_strings = the_strings + bytes(i,'ascii')\n",
    "        the_args = the_args + bytes(str(len(i)),'ascii') + b' '\n",
    "    for i in z:\n",
    "        the_strings = the_strings + bytes(i,'ascii')\n",
    "        the_args = the_args + bytes(str(len(i)),'ascii') + b' '\n",
    "    for i in s:\n",
    "        the_strings = the_strings + bytes(i,'ascii')\n",
    "        the_args = the_args + bytes(str(len(i)),'ascii') + b' '\n",
    "    the_args = the_args + bytes(str(n), 'ascii')+ b' ' + bytes(str(lmda), 'ascii')\n",
    "    fast_kernel = subprocess.Popen([\"./fast_approximative_kernel.out\"], stdin=subprocess.PIPE, stdout=subprocess.PIPE)\n",
    "    output_test = fast_kernel.communicate(input=equal_hash+the_args+the_strings)[0]\n",
    "#     print(output_test.decode('utf-8'))\n",
    "    output_test_list = output_test.decode('utf-8').split()\n",
    "    K = parseMatrix(output_test_list)\n",
    "    return K\n",
    "\n",
    "def parseMatrix(matrix):\n",
    "    num_rows = int(matrix[0])\n",
    "    num_cols = int(matrix[1])\n",
    "    K = np.zeros([num_rows,num_cols])\n",
    "    counter = 2\n",
    "    for i in range(num_rows):\n",
    "        for j in range(num_cols):\n",
    "            K[i,j] = float(matrix[counter])\n",
    "            counter = counter + 1\n",
    "    return K\n",
    "\n",
    "def marcus_mostFrequentFeatures(dataset, k, numbTop,prints = False):\n",
    "#     the_long_string = ''\n",
    "    list_of_features = []\n",
    "    for i in tqdm(dataset):\n",
    "#         the_long_string += i\n",
    "        the_len = len(i)\n",
    "        for j in range(the_len-k+1):\n",
    "            curr_str = i[j:j+n]\n",
    "            if not curr_str in list_of_features:\n",
    "                list_of_features.append(curr_str)\n",
    "    scores = np.zeros(len(list_of_features))\n",
    "    for index, feature in tqdm(enumerate(list_of_features)):\n",
    "        for i in dataset:\n",
    "            scores[index] += i.count(feature)\n",
    "    topFeatures = []\n",
    "    topFeatureScores =  []\n",
    "    scores = scores.argsort()[-len(scores):][::-1]\n",
    "    features = np.array(list_of_features)\n",
    "    topFeatures = features[scores][:numbTop]\n",
    "    topFeatureScores = scores[:numbTop]\n",
    "    return topFeatures, topFeatureScores"
   ]
  },
  {
   "cell_type": "code",
   "execution_count": 3,
   "metadata": {},
   "outputs": [
    {
     "name": "stdout",
     "output_type": "stream",
     "text": [
      "10\r"
     ]
    },
    {
     "name": "stderr",
     "output_type": "stream",
     "text": [
      "100%|███████████████████████████████████████| 100/100 [00:00<00:00, 122.73it/s]\n",
      "3498it [00:00, 9245.06it/s]\n"
     ]
    },
    {
     "name": "stdout",
     "output_type": "stream",
     "text": [
      "Iteration: 1 of 20\n",
      "Iteration: 2 of 204 \n",
      "Iteration: 3 of 204 \n",
      "Iteration: 4 of 204 \n",
      "Iteration: 5 of 204 \n",
      "Iteration: 6 of 204 \n",
      "Iteration: 7 of 204 \n",
      "Iteration: 8 of 204 \n",
      "Iteration: 9 of 204 \n",
      "Iteration: 10 of 20 \n",
      "Iteration: 11 of 20 \n",
      "Iteration: 12 of 20 \n",
      "Iteration: 13 of 20 \n",
      "Iteration: 14 of 20 \n",
      "Iteration: 15 of 20 \n",
      "Iteration: 16 of 20 \n",
      "Iteration: 17 of 20 \n",
      "Iteration: 18 of 20 \n",
      "Iteration: 19 of 20 \n",
      "Iteration: 20 of 20 \n",
      "Iteration: 24 of 24 \r"
     ]
    }
   ],
   "source": [
    "#categories = ['earn','acq']\n",
    "#numberOfTraining = [10,10]\n",
    "#numberOfTesting = [1,1]\n",
    "\n",
    "#trainData,trainLabels, testData,testLabel = fd.loadData(categories,numberOfTraining,numberOfTesting)\n",
    "n=3\n",
    "l=0.05\n",
    "S = 500;\n",
    "loopVec = np.arange(0,2400,100);\n",
    "\n",
    "trainData = fd.nrData(100,shuffle=False)\n",
    "topFeatures, topFeatureScores = marcus_mostFrequentFeatures(trainData,n,S)\n",
    "\n",
    "for j in [10]:\n",
    "    c=0;\n",
    "    for i in range(0,20):\n",
    "\n",
    "        timeOld = [];\n",
    "        timeNew = [];\n",
    "        frobVal = [];\n",
    "        timeRel = [];\n",
    "        d=0;\n",
    "        c+=1;\n",
    "        print(\"Iteration: \" + repr(c) + \" of \" + repr(20));\n",
    "        \n",
    "        for cutoff in loopVec:\n",
    "            d += 1;\n",
    "            sys.stdout.flush()\n",
    "            sys.stdout.write(\"Iteration: \" + repr(d) + \" of \" + repr(len(loopVec)) + \" \\r\");\n",
    "            \n",
    "            t1=time.time()\n",
    "            K = marcus_approximative_kernel(trainData,trainData,topFeatures,n,j/100);\n",
    "            t2=time.time()\n",
    "            timeOld.append(t2-t1);\n",
    "            \n",
    "            t3=time.time()\n",
    "            K_mod = marcus_approximative_kernel_modified(trainData,trainData,topFeatures,n,j/100,cutoff);\n",
    "            t4=time.time()\n",
    "            timeNew.append(t4-t3);\n",
    "            \n",
    "            timeRel.append((t2-t1)/(t4-t3))\n",
    "            \n",
    "            frobVal.append(alignment.alignment(K,K_mod));\n",
    "\n",
    "        cwd = os.getcwd()+'\\..\\data\\modified_approx_kernel_data';\n",
    "        kerns = os.path.join(cwd,\"l{}n{}frobVal_{}.npy\".format(j,n,i))\n",
    "        np.save(kerns,frobVal)\n",
    "        kerns = os.path.join(cwd,\"l{}n{}newTime_{}.npy\".format(j,n,i))\n",
    "        np.save(kerns,timeNew)\n",
    "        kerns = os.path.join(cwd,\"l{}n{}oldTime_{}.npy\".format(j,n,i))\n",
    "        np.save(kerns,timeOld)\n",
    "        kerns = os.path.join(cwd,\"l{}n{}relTime_{}.npy\".format(j,n,i))\n",
    "        np.save(kerns,timeRel)\n",
    "        "
   ]
  },
  {
   "cell_type": "code",
   "execution_count": 32,
   "metadata": {},
   "outputs": [],
   "source": [
    "timeRel = [];\n",
    "for i,t in enumerate(timeNew):\n",
    "    timeRel.append(timeOld[0]/t);"
   ]
  },
  {
   "cell_type": "code",
   "execution_count": 33,
   "metadata": {},
   "outputs": [
    {
     "data": {
      "image/png": "[encoded data removed]",
      "text/plain": [
       "<matplotlib.figure.Figure at 0x1e99917ba90>"
      ]
     },
     "metadata": {},
     "output_type": "display_data"
    },
    {
     "data": {
      "image/png": "[encoded data removed]",
      "text/plain": [
       "<matplotlib.figure.Figure at 0x1e999175240>"
      ]
     },
     "metadata": {},
     "output_type": "display_data"
    }
   ],
   "source": [
    "pb.plot(loopVec,timeRel);\n",
    "pb.xlabel(\"cutoff\")\n",
    "pb.ylabel(\"relative time gain\")\n",
    "pb.show()\n",
    "\n",
    "pb.figure()\n",
    "pb.plot(loopVec,frobVal);\n",
    "pb.xlabel(\"cutoff\")\n",
    "pb.ylabel(\"frobenius value\")\n",
    "pb.show()"
   ]
  },
  {
   "cell_type": "code",
   "execution_count": 16,
   "metadata": {},
   "outputs": [
    {
     "name": "stdout",
     "output_type": "stream",
     "text": [
      "500\n",
      "0.88488092904\n",
      "43.839754819869995\n",
      "72.31045174598694\n"
     ]
    }
   ],
   "source": [
    "print(loopVec[23])\n",
    "print(frobVal[23])\n",
    "print(timeNew[23])\n",
    "print(timeOld[23])"
   ]
  }
 ],
 "metadata": {
  "kernelspec": {
   "display_name": "Python 3",
   "language": "python",
   "name": "python3"
  },
  "language_info": {
   "codemirror_mode": {
    "name": "ipython",
    "version": 3
   },
   "file_extension": ".py",
   "mimetype": "text/x-python",
   "name": "python",
   "nbconvert_exporter": "python",
   "pygments_lexer": "ipython3",
   "version": "3.5.4"
  }
 },
 "nbformat": 4,
 "nbformat_minor": 2
}
