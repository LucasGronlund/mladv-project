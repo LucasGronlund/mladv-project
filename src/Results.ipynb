{
 "cells": [
  {
   "cell_type": "markdown",
   "metadata": {},
   "source": [
    "# The purpose of this notebook is to show results in a formatted way.\n",
    "\n",
    "This will make use of precomputed kernels, so no heavy computation will be done in this notebook.\n",
    "\n",
    "I will add placeholders to methods/functions that hopefully should be avaiable when the project is almost done.\n",
    "\n",
    "The assumption here is that we will only display results for the approximated kernels."
   ]
  },
  {
   "cell_type": "code",
   "execution_count": 1,
   "metadata": {},
   "outputs": [],
   "source": [
    "# Imports\n",
    "\n",
    "import fetch_data as fd\n",
    "import numpy as np\n",
    "import os\n",
    "from MostFrequentFeatures import mostFrequentFeatures\n",
    "import itertools as it\n",
    "import loadData as ld\n",
    "import pandas as pd\n",
    "import kernel\n",
    "import alignment as a"
   ]
  },
  {
   "cell_type": "code",
   "execution_count": 6,
   "metadata": {},
   "outputs": [
    {
     "name": "stdout",
     "output_type": "stream",
     "text": [
      "10\r"
     ]
    }
   ],
   "source": [
    "data = fd.nrData(100)"
   ]
  },
  {
   "cell_type": "code",
   "execution_count": 16,
   "metadata": {},
   "outputs": [
    {
     "name": "stdout",
     "output_type": "stream",
     "text": [
      "[[ 0.  0.]\n",
      " [ 0.  0.]]\n"
     ]
    }
   ],
   "source": [
    "K = np.zeros([2,2])\n",
    "print(K)"
   ]
  },
  {
   "cell_type": "code",
   "execution_count": 13,
   "metadata": {},
   "outputs": [
    {
     "name": "stdout",
     "output_type": "stream",
     "text": [
      "done with features\n",
      "done with occurance\n",
      "['ed ' 'es ' ' sa' 'ing' 'ng ']\n"
     ]
    }
   ],
   "source": [
    "l=0.5;\n",
    "n=3;\n",
    "f,s = mostFrequentFeatures(data,n,5)\n",
    "\n",
    "#K = kernel.approximative_kernel(data,data,f,n,l)\n",
    "print(f)"
   ]
  }
 ],
 "metadata": {
  "kernelspec": {
   "display_name": "Python 3",
   "language": "python",
   "name": "python3"
  },
  "language_info": {
   "codemirror_mode": {
    "name": "ipython",
    "version": 3
   },
   "file_extension": ".py",
   "mimetype": "text/x-python",
   "name": "python",
   "nbconvert_exporter": "python",
   "pygments_lexer": "ipython3",
   "version": "3.5.4"
  }
 },
 "nbformat": 4,
 "nbformat_minor": 2
}
