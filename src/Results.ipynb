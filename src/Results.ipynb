{
 "cells": [
  {
   "cell_type": "markdown",
   "metadata": {},
   "source": [
    "# The purpose of this notebook is to show results in a formatted way.\n",
    "\n",
    "This will make use of precomputed kernels, so no heavy computation will be done in this notebook.\n",
    "\n",
    "I will add placeholders to methods/functions that hopefully should be avaiable when the project is almost done.\n",
    "\n",
    "The assumption here is that we will only display results for the approximated kernels."
   ]
  },
  {
   "cell_type": "code",
   "execution_count": 10,
   "metadata": {},
   "outputs": [],
   "source": [
    "# Imports\n",
    "\n",
    "import fetch_data as fd\n",
    "import numpy as np\n",
    "import os"
   ]
  },
  {
   "cell_type": "code",
   "execution_count": 12,
   "metadata": {},
   "outputs": [],
   "source": [
    "categories = ['earn','crude']\n",
    "numberOfTraining = [10,10]\n",
    "numberOfTesting = [7,2]\n",
    "\n",
    "\n",
    "trainData,trainLabels, testData,testLabel = fd.loadData(categories,numberOfTraining,numberOfTesting)\n",
    "#trainData,trainLabels, testData, testLabel = fd.fullData()"
   ]
  },
  {
   "cell_type": "code",
   "execution_count": 13,
   "metadata": {},
   "outputs": [],
   "source": [
    "cwd = os.getcwd()+'\\..\\data\\clean_data';\n",
    "\n",
    "train = os.path.join(cwd,'cleanedTrainingData.csv')\n",
    "np.savetxt(train, trainData, delimiter=\",\",fmt='%s')\n",
    "\n",
    "test = os.path.join(cwd,'cleanedTestData.csv')\n",
    "np.savetxt(test, testData, delimiter=\",\",fmt='%s')\n",
    "\n",
    "trainLbls = os.path.join(cwd,'cleanedTrainingLabels.csv')\n",
    "np.savetxt(trainLbls, trainLabels, delimiter=\",\",fmt='%s')\n",
    "\n",
    "testLbls = os.path.join(cwd,'cleanedTestLabels.csv')\n",
    "np.savetxt(testLbls, testLabel, delimiter=\",\",fmt='%s')"
   ]
  },
  {
   "cell_type": "code",
   "execution_count": null,
   "metadata": {},
   "outputs": [],
   "source": [
    "cwd = os.getcwd()+'\\..\\data\\clean_data'\n",
    "foo = os.path.join(cwd,'cleanedTestLabels.csv')\n",
    "my_data = np.loadtxt(foo, delimiter=',',dtype=str)"
   ]
  },
  {
   "cell_type": "code",
   "execution_count": null,
   "metadata": {},
   "outputs": [],
   "source": [
    "print(my_data)"
   ]
  },
  {
   "cell_type": "code",
   "execution_count": 5,
   "metadata": {},
   "outputs": [
    {
     "name": "stdout",
     "output_type": "stream",
     "text": [
      "10788\n"
     ]
    }
   ],
   "source": [
    "from nltk.corpus import reuters, stopwords\n",
    "ids = reuters.fileids()\n",
    "print(len(ids))"
   ]
  },
  {
   "cell_type": "code",
   "execution_count": null,
   "metadata": {},
   "outputs": [],
   "source": [
    "print(testLabel)"
   ]
  }
 ],
 "metadata": {
  "kernelspec": {
   "display_name": "Python 3",
   "language": "python",
   "name": "python3"
  },
  "language_info": {
   "codemirror_mode": {
    "name": "ipython",
    "version": 3
   },
   "file_extension": ".py",
   "mimetype": "text/x-python",
   "name": "python",
   "nbconvert_exporter": "python",
   "pygments_lexer": "ipython3",
   "version": "3.5.4"
  }
 },
 "nbformat": 4,
 "nbformat_minor": 2
}
