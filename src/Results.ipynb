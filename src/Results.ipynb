{
 "cells": [
  {
   "cell_type": "markdown",
   "metadata": {},
   "source": [
    "# The purpose of this notebook is to show results in a formatted way.\n",
    "\n",
    "This will make use of precomputed kernels, so no heavy computation will be done in this notebook.\n",
    "\n",
    "I will add placeholders to methods/functions that hopefully should be avaiable when the project is almost done.\n",
    "\n",
    "The assumption here is that we will only display results for the approximated kernels."
   ]
  },
  {
   "cell_type": "code",
   "execution_count": 1,
   "metadata": {},
   "outputs": [],
   "source": [
    "# Imports\n",
    "\n",
    "import fetch_data as fd\n",
    "import numpy as np\n",
    "import os\n",
    "from MostFrequentFeatures import mostFrequentFeatures\n",
    "import itertools as it\n",
    "import loadData as ld"
   ]
  },
  {
   "cell_type": "code",
   "execution_count": 9,
   "metadata": {},
   "outputs": [
    {
     "name": "stdout",
     "output_type": "stream",
     "text": [
      "['ed ' ' co' 'es ' ..., 'dbd' 'dbf' 'dbg']\n"
     ]
    }
   ],
   "source": [
    "txt = ld.getData('10000features3k.csv')\n",
    "print(txt)"
   ]
  },
  {
   "cell_type": "code",
   "execution_count": 44,
   "metadata": {},
   "outputs": [],
   "source": [
    "cwd = os.getcwd()+'\\..\\data\\clean_data';\n",
    "\n",
    "txt=np.loadtxt(cwd+'\\cleanedTrainingla.csv',delimiter=\",\",dtype=str)\n",
    "\n",
    "f,s = mostFrequentFeatures(txt,2,100)"
   ]
  },
  {
   "cell_type": "code",
   "execution_count": 39,
   "metadata": {},
   "outputs": [
    {
     "name": "stdout",
     "output_type": "stream",
     "text": [
      "729\n"
     ]
    }
   ],
   "source": [
    "alphabet = 'abcdefghijklmnopqrstuvwxyz '\n",
    "tempFeatures = it.product(alphabet,repeat = 2)\n",
    "print(len(list(tempFeatures)))"
   ]
  },
  {
   "cell_type": "code",
   "execution_count": 45,
   "metadata": {},
   "outputs": [
    {
     "name": "stdout",
     "output_type": "stream",
     "text": [
      "['s ', 'd ', ' s', 't ', 'e ', 'in', 'er', 're', 'n ', ' c', 'on', 'es', 'ar', ' p', 'an', 'r ', 'te', ' m', 'st', 'ed', 'y ', 'co', 'en', 'ti', 'al', ' a', 'nt', ' d', ' r', 'or', 'l ', 'ng', 'de', 'at', 'ne', ' t', 'ai', ' l', 'se', ' b', 'io', 'ct', 'sa', 'ra', 'id', 'ro', ' f', 'g ', 'ea', ' e', 'ri', 'pr', ' i', 'me', 'rs', 'it', 'ou', 've', 'li', 'ma', 'ce', 'ec', 'le', 'ta', 'ic', 'ts', 'et', 'tr', ' o', 'is', 'nd', 'll', 'il', 'nc', ' n', 'as', 'ur', 'om', 'pe', 'pa', 'di', 'la', 'rt', 'si', 'to', 'fi', ' w', ' g', 'sh', 'el', 'lo', 'na', 'ss', 'po', 'ha', 'ns', 'ch', 'ge', 'ml', 'ln']\n"
     ]
    }
   ],
   "source": [
    "print(f)"
   ]
  },
  {
   "cell_type": "code",
   "execution_count": 46,
   "metadata": {},
   "outputs": [],
   "source": [
    "test = os.path.join(cwd,'test.csv')\n",
    "np.savetxt(test, f, delimiter=\",\",fmt='%s')"
   ]
  },
  {
   "cell_type": "code",
   "execution_count": 5,
   "metadata": {},
   "outputs": [
    {
     "name": "stdout",
     "output_type": "stream",
     "text": [
      "10788\n"
     ]
    }
   ],
   "source": []
  },
  {
   "cell_type": "code",
   "execution_count": null,
   "metadata": {},
   "outputs": [],
   "source": []
  }
 ],
 "metadata": {
  "kernelspec": {
   "display_name": "Python 3",
   "language": "python",
   "name": "python3"
  },
  "language_info": {
   "codemirror_mode": {
    "name": "ipython",
    "version": 3
   },
   "file_extension": ".py",
   "mimetype": "text/x-python",
   "name": "python",
   "nbconvert_exporter": "python",
   "pygments_lexer": "ipython3",
   "version": "3.5.4"
  }
 },
 "nbformat": 4,
 "nbformat_minor": 2
}
