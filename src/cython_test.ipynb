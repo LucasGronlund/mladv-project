{
 "cells": [
  {
   "cell_type": "code",
   "execution_count": 1,
   "metadata": {},
   "outputs": [],
   "source": [
    "%load_ext Cython"
   ]
  },
  {
   "cell_type": "code",
   "execution_count": 2,
   "metadata": {},
   "outputs": [],
   "source": [
    "%%cython\n",
    "def f(n):\n",
    "    a = 0\n",
    "    for i in range(n):\n",
    "        a += i\n",
    "    return a\n",
    "\n",
    "cpdef g(int n):\n",
    "    cdef int a = 0, i\n",
    "    for i in range(n):\n",
    "        a += i\n",
    "    return a \n",
    "\n",
    "cpdef h(int n):\n",
    "    cdef int i, a = 0\n",
    "    for i in range(n):\n",
    "        a += i\n",
    "    return a "
   ]
  },
  {
   "cell_type": "code",
   "execution_count": 247,
   "metadata": {},
   "outputs": [
    {
     "name": "stdout",
     "output_type": "stream",
     "text": [
      "394 ms ± 12.1 ms per loop (mean ± std. dev. of 7 runs, 1 loop each)\n",
      "3.49 ms ± 15.3 µs per loop (mean ± std. dev. of 7 runs, 100 loops each)\n",
      "3.49 ms ± 7.67 µs per loop (mean ± std. dev. of 7 runs, 100 loops each)\n"
     ]
    }
   ],
   "source": [
    "%timeit f(10000000)\n",
    "%timeit g(10000000)\n",
    "%timeit h(10000000)"
   ]
  },
  {
   "cell_type": "code",
   "execution_count": 7,
   "metadata": {},
   "outputs": [],
   "source": [
    "import fetch_data as fd\n",
    "import time"
   ]
  },
  {
   "cell_type": "code",
   "execution_count": null,
   "metadata": {},
   "outputs": [],
   "source": [
    "import numpy as np\n",
    "import itertools as it\n",
    "from tqdm import tqdm\n",
    "from math import sqrt\n",
    "import time\n",
    "\n",
    "##### NAIVE KERNEL #####\n",
    "\n",
    "def naive_kernel(data,k,l):\n",
    "    \n",
    "    #create all 'good' permutations, that is those which are possible\n",
    "    perms=[];\n",
    "    for i in data:\n",
    "        tmpPerms = list(it.combinations(i,k));\n",
    "        for j in tmpPerms:\n",
    "            if(j not in perms):\n",
    "                perms.append(j);\n",
    "    \n",
    "    #init the result matrix\n",
    "    fi = np.zeros([len(data),len(perms)]);\n",
    "    \n",
    "    #calculate each fi_u for each string\n",
    "    for row in range(len(data)):\n",
    "        for c, prm in enumerate(perms):\n",
    "            tmpSum = [];\n",
    "            indices = [];\n",
    "            \n",
    "            #create a vector containing the indexes of the current permutation letters\n",
    "            for i in range(k):\n",
    "                indices.append(list(_find(data[row],prm[i])))\n",
    "            \n",
    "            #calculate all the values, recursively because i couldn't figure out\n",
    "            #how to generalize otherwise.\n",
    "            for i in indices[0]:\n",
    "                tmpSum = _recursiveShit(indices[1:],i,i,k-2,tmpSum);\n",
    "            \n",
    "            #calculate the current fi_u value\n",
    "            for i in tmpSum:\n",
    "                fi[row,c] += np.sum(l**(np.array([i])));\n",
    "                \n",
    "    return fi;\n",
    "\n",
    "                \n",
    "\n",
    "def _recursiveShit(currInd,topVal,prevVal,k,tmpSum):\n",
    "    #bad recursion, but it works\n",
    "    \n",
    "    #base case, check if it's an approved permutation,\n",
    "    #if yes -> return the sum\n",
    "    if(k==0):\n",
    "        for i in currInd[0]:\n",
    "            if(i>prevVal):\n",
    "                tmpSum.append(i-topVal+1);\n",
    "        return tmpSum;\n",
    "    \n",
    "    #if not yet at the 'bottom' of the recursion, continue\n",
    "    else:\n",
    "        for i in currInd[0]:\n",
    "            if(i>prevVal):\n",
    "                tmpSum = _recursiveShit(currInd[1:],topVal,i,k-1,tmpSum);\n",
    "        return tmpSum\n",
    "            \n",
    "            \n",
    "    \n",
    "\n",
    "def _find(str, ch):\n",
    "    #_find indexes of characters in string\n",
    "    \n",
    "    for i, ltr in enumerate(str):\n",
    "        if ltr == ch:\n",
    "            yield i\n",
    "\n",
    "\n",
    "#### DYNAMIC PROGRAMMING KERNEL #####\n",
    "\n",
    "def _k_prime(s,t,n,l):\n",
    "\n",
    "    #-------------------------------------------------------------------------------------#\n",
    "    # Basically what's happening here is that we are succesively looping through both of  #\n",
    "    # the strings and updating the kernel matrix accordingly while refering to previously #\n",
    "    # computed values. This will give us time complexity O(n|s||t|) in the end.           #\n",
    "    #-------------------------------------------------------------------------------------#\n",
    "    \n",
    "    \n",
    "    #Variables:\n",
    "    #\n",
    "    #s is a string\n",
    "    #t is a string\n",
    "    #n is the length of the substring\n",
    "    #l is the lambda value\n",
    "    #kp is refering to k'\n",
    "    #kpp is refering to k'' \n",
    "    \n",
    "    #start by creating the empty matrices.\n",
    "    kp = np.zeros([n,len(s)+1,len(t)+1]);\n",
    "    kpp = np.zeros([n,len(s)+1,len(t)+1]);\n",
    "    \n",
    "    #initialize\n",
    "    kp[0][:][:] = 1;\n",
    "#     print(str(n) + ' ' + str(len(s))+ ' ' +str(len(t)) + '\\n')\n",
    "    for i in range(1,n):\n",
    "        for j in range(i,len(s)):\n",
    "            for k in range(i,len(t)+1):\n",
    "\n",
    "                #check whether 'x occurs in u' as described in the paper\n",
    "                if(s[j-1]!=t[k-1]):\n",
    "                    kpp[i][j][k]=l*kpp[i][j][k-1];\n",
    "                #if not, do the other calcs.\n",
    "                else:\n",
    "                    kpp[i][j][k]=l*(kpp[i][j][k-1]+l*kp[i-1][j-1][k-1]);\n",
    "                \n",
    "                #finally calculate kp\n",
    "                kp[i][j][k-1]=l*kp[i][j-1][k-1]+kpp[i][j][k-1];\n",
    "                \n",
    "    return kp;\n",
    "\n",
    "\n",
    "def _k(s,t,n,l,kp):\n",
    "    \n",
    "    #--------------------------------------------------#\n",
    "    # This takes in an already computed k_prime kernel #\n",
    "    # and calculates the overall kernel as per the     #\n",
    "    # paper. The last part of Def. 2                   #\n",
    "    #--------------------------------------------------#\n",
    "\n",
    "    #Variables:\n",
    "    #\n",
    "    #s is a string\n",
    "    #t is a string\n",
    "    #n is the length of the substring\n",
    "    #l is the lambda value\n",
    "    #kp is refering to k'\n",
    "    #ksum is refering to the kernel value.\n",
    "    \n",
    "    ksum = 0;\n",
    "    \n",
    "    #Loop over all values in the computed k_prime matrix and \n",
    "    #pick out the values where x = j, as mentioned in the paper.\n",
    "    #\n",
    "    #There is no recursion necessary here since we already did it\n",
    "    #when computing k_prime, the last 'layer' of k_prime\n",
    "    #contains all the necessary values.\n",
    "\n",
    "    for i in range(kp.shape[1]-1):\n",
    "        for j in range(kp.shape[2]-1):\n",
    "            if s[i] == t[j] : \n",
    "                ksum += kp[n-1][i][j];\n",
    "                \n",
    "    return l**2*ksum;"
   ]
  },
  {
   "cell_type": "code",
   "execution_count": 392,
   "metadata": {},
   "outputs": [
    {
     "name": "stdout",
     "output_type": "stream",
     "text": [
      "0\n",
      "1\n",
      "2\n",
      "3\n"
     ]
    }
   ],
   "source": [
    "for i in range(5-1): print(i)"
   ]
  },
  {
   "cell_type": "code",
   "execution_count": null,
   "metadata": {},
   "outputs": [],
   "source": [
    "def _get_normed_kernel_values(s,t,n,l):\n",
    "    \n",
    "    #------------------------------------------------------#\n",
    "    # This returns the normalized values for the kernel    # \n",
    "    # using the normalization mentioned in the paper.      #\n",
    "    # s is a string.                                       #\n",
    "    # t is a string.                                       #\n",
    "    # n is the substring length                            #           \n",
    "    # l is the lambda value, the 'weight'                  #\n",
    "    #------------------------------------------------------#\n",
    "    \n",
    "    kstP = _k_prime(s,t,n,l);\n",
    "    kssP = _k_prime(s,s,n,l);\n",
    "    kttP = _k_prime(t,t,n,l);\n",
    "\n",
    "    kst = _k(s,t,n,l,kstP)\n",
    "    kss = _k(s,s,n,l,kssP);\n",
    "    ktt = _k(t,t,n,l,kttP);\n",
    "\n",
    "    return kst/sqrt(kss*ktt)\n",
    "\n",
    "def recursive_kernel(s,t,n,l):\n",
    "    if len(s) != len(t):\n",
    "        print('Number of strings are not equal, reverting to slower, non-square, computation of K')\n",
    "        K = np.zeros([len(s),len(t)])\n",
    "        kss = [ _k(i,i,n,l,_k_prime(i,i,n,l)) for i in s]\n",
    "        ktt = [ _k(i,i,n,l,_k_prime(i,i,n,l)) for i in t]\n",
    "        for i,ss in enumerate(tqdm(s)):\n",
    "            for j,tt in enumerate(tqdm(t)):\n",
    "                kst = _k(ss,tt,n,l,_k_prime(ss,tt,n,l))\n",
    "                #Compute Kernel matrix K, we need to precompute it for\n",
    "                K[i,j] = kst/sqrt(kss[i]*ktt[j])\n",
    "        return K\n",
    "\n",
    "    N = len(s)\n",
    "    K = np.identity(N)\n",
    "    \n",
    "    kss = [ _k(i,i,n,l,_k_prime(i,i,n,l)) for i in s]\n",
    "\n",
    "    for i in tqdm(range(N)):\n",
    "#         for j in tqdm(range(i+1,N)):\n",
    "        for j in range(i+1,N):\n",
    "            le_time = time.time()\n",
    "            kstP = _k_prime(s[i],t[j],n,l);\n",
    "#             print(time.time()-le_time)\n",
    "            le_time = time.time()\n",
    "            kst = _k(s[i],t[j],n,l,kstP)\n",
    "#             print(time.time()-le_time)\n",
    "            le_time = time.time()\n",
    "            #Compute Kernel matrix K, we need to precompute it for\n",
    "            k = kst/sqrt(kss[i]*kss[j])\n",
    "#             print(time.time()-le_time)\n",
    "            le_time = time.time()\n",
    "            K[i,j] = k\n",
    "            K[j,i] = k # Using this method to compute half of K and using that the matrix is semi definite\n",
    "\n",
    "    return K"
   ]
  },
  {
   "cell_type": "code",
   "execution_count": 420,
   "metadata": {},
   "outputs": [
    {
     "data": {
      "text/plain": [
       "0.5"
      ]
     },
     "execution_count": 420,
     "metadata": {},
     "output_type": "execute_result"
    }
   ],
   "source": []
  },
  {
   "cell_type": "code",
   "execution_count": 421,
   "metadata": {},
   "outputs": [
    {
     "name": "stderr",
     "output_type": "stream",
     "text": [
      "  0%|          | 0/1769 [00:00<?, ?it/s]\n",
      "  0%|          | 0/854 [00:00<?, ?it/s]\u001b[A\n",
      "\u001b[A"
     ]
    },
    {
     "name": "stdout",
     "output_type": "stream",
     "text": [
      "Number of strings are not equal, reverting to slower, non-square, computation of K\n"
     ]
    },
    {
     "name": "stderr",
     "output_type": "stream",
     "text": [
      "\n"
     ]
    },
    {
     "ename": "ZeroDivisionError",
     "evalue": "float division by zero",
     "output_type": "error",
     "traceback": [
      "\u001b[0;31m---------------------------------------------------------------------------\u001b[0m",
      "\u001b[0;31mZeroDivisionError\u001b[0m                         Traceback (most recent call last)",
      "\u001b[0;32m<ipython-input-421-0206a5ee03ea>\u001b[0m in \u001b[0;36m<module>\u001b[0;34m()\u001b[0m\n\u001b[0;32m----> 1\u001b[0;31m \u001b[0mrecursive_kernel\u001b[0m\u001b[0;34m(\u001b[0m\u001b[0ms\u001b[0m\u001b[0;34m,\u001b[0m\u001b[0mt\u001b[0m\u001b[0;34m,\u001b[0m\u001b[0mn\u001b[0m\u001b[0;34m,\u001b[0m\u001b[0ml\u001b[0m\u001b[0;34m)\u001b[0m\u001b[0;34m\u001b[0m\u001b[0m\n\u001b[0m",
      "\u001b[0;32m<ipython-input-26-dbd0edfab356>\u001b[0m in \u001b[0;36mrecursive_kernel\u001b[0;34m(s, t, n, l)\u001b[0m\n\u001b[1;32m    180\u001b[0m                 \u001b[0mkst\u001b[0m \u001b[0;34m=\u001b[0m \u001b[0m_k\u001b[0m\u001b[0;34m(\u001b[0m\u001b[0mss\u001b[0m\u001b[0;34m,\u001b[0m\u001b[0mtt\u001b[0m\u001b[0;34m,\u001b[0m\u001b[0mn\u001b[0m\u001b[0;34m,\u001b[0m\u001b[0ml\u001b[0m\u001b[0;34m,\u001b[0m\u001b[0m_k_prime\u001b[0m\u001b[0;34m(\u001b[0m\u001b[0mss\u001b[0m\u001b[0;34m,\u001b[0m\u001b[0mtt\u001b[0m\u001b[0;34m,\u001b[0m\u001b[0mn\u001b[0m\u001b[0;34m,\u001b[0m\u001b[0ml\u001b[0m\u001b[0;34m)\u001b[0m\u001b[0;34m)\u001b[0m\u001b[0;34m\u001b[0m\u001b[0m\n\u001b[1;32m    181\u001b[0m                 \u001b[0;31m#Compute Kernel matrix K, we need to precompute it for\u001b[0m\u001b[0;34m\u001b[0m\u001b[0;34m\u001b[0m\u001b[0m\n\u001b[0;32m--> 182\u001b[0;31m                 \u001b[0mK\u001b[0m\u001b[0;34m[\u001b[0m\u001b[0mi\u001b[0m\u001b[0;34m,\u001b[0m\u001b[0mj\u001b[0m\u001b[0;34m]\u001b[0m \u001b[0;34m=\u001b[0m \u001b[0mkst\u001b[0m\u001b[0;34m/\u001b[0m\u001b[0msqrt\u001b[0m\u001b[0;34m(\u001b[0m\u001b[0mkss\u001b[0m\u001b[0;34m[\u001b[0m\u001b[0mi\u001b[0m\u001b[0;34m]\u001b[0m\u001b[0;34m*\u001b[0m\u001b[0mktt\u001b[0m\u001b[0;34m[\u001b[0m\u001b[0mj\u001b[0m\u001b[0;34m]\u001b[0m\u001b[0;34m)\u001b[0m\u001b[0;34m\u001b[0m\u001b[0m\n\u001b[0m\u001b[1;32m    183\u001b[0m         \u001b[0;32mreturn\u001b[0m \u001b[0mK\u001b[0m\u001b[0;34m\u001b[0m\u001b[0m\n\u001b[1;32m    184\u001b[0m \u001b[0;34m\u001b[0m\u001b[0m\n",
      "\u001b[0;31mZeroDivisionError\u001b[0m: float division by zero"
     ]
    }
   ],
   "source": [
    "recursive_kernel(s,t,n,l)\n"
   ]
  },
  {
   "cell_type": "code",
   "execution_count": 26,
   "metadata": {},
   "outputs": [],
   "source": [
    "#### APPROXIMATIVE KERNEL IMPLEMENTATION #####\n",
    "\n",
    "def approximative_kernel(x,z,s,n,l):\n",
    "    N = len(x)\n",
    "    kss = [ _k(i,i,n,l,_k_prime(i,i,n,l)) for i in s]\n",
    "    kxx = [ _k(i,i,n,l,_k_prime(i,i,n,l)) for i in x]               \n",
    "    if N == len(z)+1:\n",
    "        K = np.identity(N)\n",
    "        print('Square kernel matrix generated')\n",
    "        for i,xx in enumerate(x):\n",
    "            for j in range(i+1,N):\n",
    "                for k,ss in enumerate(s):\n",
    "                    kxs = _k(xx,ss,n,l,_k_prime(xx,ss,n,l))\n",
    "                    kzs = _k(z[j],ss,n,l,_k_prime(z[j],ss,n,l)) \n",
    "                    k = (kzs*kxs)/(kss[k]*sqrt(kxx[j]*kxx[i]))\n",
    "                    K[i,j] += k\n",
    "                    K[j,i] += k\n",
    "        return K   \n",
    "\n",
    "    K = np.zeros([N,len(z)])\n",
    "    kzz = [ _k(i,i,n,l,_k_prime(i,i,n,l)) for i in z]\n",
    "    for i,xx in enumerate(tqdm(x)):\n",
    "        for j,zz in enumerate(tqdm(z)):\n",
    "            for k,ss in enumerate(tqdm(s)):\n",
    "                kxs = _k(xx,ss,n,l,_k_prime(xx,ss,n,l))\n",
    "                kzs = _k(zz,ss,n,l,_k_prime(zz,ss,n,l)) \n",
    "                K[i,j] += (kzs*kxs)/(kss[k]*sqrt(kzz[j]*kxx[i]))\n",
    "    return K"
   ]
  },
  {
   "cell_type": "code",
   "execution_count": 422,
   "metadata": {},
   "outputs": [],
   "source": [
    "import numpy as np\n",
    "from sklearn.svm import SVC\n",
    "from sklearn.preprocessing import MultiLabelBinarizer\n",
    "from sklearn.preprocessing import LabelEncoder\n",
    "from sklearn.multiclass import OneVsRestClassifier\n",
    "from sklearn.metrics import precision_recall_fscore_support\n",
    "\n",
    "# Takes set of all possible labels, and creates a sparse(?) matrix of 1/0 representations of class\t\n",
    "def _labelMaker(labels,categories):\n",
    "    return MultiLabelBinarizer(classes=categories).fit_transform(labels)\n",
    "\n",
    "def labelMaker(labels,categories):\n",
    "    return LabelEncoder().fit_transform(labels)\n",
    "\n",
    "    '''\n",
    "        This uses sklearn SVM kit using a one vs rest approach.\n",
    "        One-vs-one is more computationally intensive than One-vs-all (n(n-1)/2 vs n)\n",
    "        but less sensitive to imbalanced data (which we do have, big time). This might have to bee looked at\n",
    "    '''\n",
    "\n",
    "\n",
    "def generateClassifier(features, labels, n, l, cat):\n",
    "\n",
    "    ### Generate label representation from ex: 'corn' and 'earn'\n",
    "    Y = _labelMaker(labels,cat)\n",
    "#     print(Y)\n",
    "    ## Generate Kernel matrix module\n",
    "    print(type(features))\n",
    "    print(type(n))\n",
    "    print(type(l))\n",
    "    print(features)\n",
    "#     input()\n",
    "    K = recursive_kernel(features,features,n,l)\n",
    "#     print('finished recursive kernel')\n",
    "    clf = OneVsRestClassifier(SVC(kernel='precomputed',probability = True))\n",
    "\n",
    "    # Return the classifier, god I love how easy this is in python\n",
    "    return clf.fit(K,Y)\n",
    "\n",
    "def predict(features,control, classifier, n,l):\n",
    "    K = recursive_kernel(features,control,n,l)\n",
    "    return classifier.predict(K)\n",
    "\n",
    "\n",
    "def score(prediction,labels,categories):\n",
    "    print('Scores: ' + str(precision_recall_fscore_support(_labelMaker(labels,categories),prediction)))"
   ]
  },
  {
   "cell_type": "code",
   "execution_count": null,
   "metadata": {},
   "outputs": [],
   "source": []
  },
  {
   "cell_type": "code",
   "execution_count": 244,
   "metadata": {},
   "outputs": [],
   "source": [
    "%%cython\n",
    "import cython\n",
    "cimport cython\n",
    "\n",
    "import numpy as np\n",
    "cimport numpy as np\n",
    "\n",
    "DTYPE = np.float64\n",
    "ctypedef np.float64_t DTYPE_t\n",
    "\n",
    "@cython.boundscheck(False)\n",
    "@cython.wraparound(False)\n",
    "@cython.nonecheck(False)\n",
    "cdef _process(np.ndarray[DTYPE_t, ndim=2] array):\n",
    "\n",
    "    cdef unsigned int rows = array.shape[0]\n",
    "    cdef unsigned int cols = array.shape[1]\n",
    "    cdef unsigned int row\n",
    "    cdef np.ndarray[DTYPE_t, ndim=2] out = np.zeros((rows, cols))\n",
    "\n",
    "    for row in range(0, rows):\n",
    "        for col in range(0, cols):\n",
    "            for row2 in range(0, rows):\n",
    "                out[row, col] += array[row2, col] - array[row, col]\n",
    "\n",
    "    return out\n",
    "\n",
    "\n",
    "def process2(np.ndarray[DTYPE_t, ndim=2] array):\n",
    "\n",
    "    cdef unsigned int rows = array.shape[0]\n",
    "    cdef unsigned int cols = array.shape[1]\n",
    "    cdef unsigned int row, col, row2\n",
    "    cdef np.ndarray[DTYPE_t, ndim=2] out = np.empty((rows, cols))\n",
    "\n",
    "    for row in range(rows):\n",
    "        for row2 in range(rows):\n",
    "            for col in range(cols):\n",
    "                out[row, col] += array[row2, col] - array[row, col]\n",
    "\n",
    "    return out\n",
    "\n",
    "def main():\n",
    "    cdef np.ndarray[DTYPE_t, ndim=2] data\n",
    "    cdef np.ndarray[DTYPE_t, ndim=2] out\n",
    "    data = np.load('data.npy')\n",
    "    out = _process(data)\n",
    "    np.save('vialoop.npy', out)"
   ]
  },
  {
   "cell_type": "code",
   "execution_count": null,
   "metadata": {},
   "outputs": [],
   "source": []
  },
  {
   "cell_type": "code",
   "execution_count": null,
   "metadata": {},
   "outputs": [],
   "source": []
  },
  {
   "cell_type": "code",
   "execution_count": 349,
   "metadata": {},
   "outputs": [],
   "source": [
    "%%cython\n",
    "import cython\n",
    "cimport cython\n",
    "\n",
    "import numpy as np\n",
    "cimport numpy as np\n",
    "\n",
    "from libc.stdio cimport printf\n",
    "\n",
    "DTYPE = np.float64\n",
    "ctypedef np.float64_t DTYPE_t\n",
    "\n",
    "@cython.boundscheck(False)\n",
    "@cython.wraparound(False)\n",
    "@cython.nonecheck(False)\n",
    "\n",
    "\n",
    "\n",
    "cdef le_prime(char* s, char* t, int n, float l, int s_len, int t_len):\n",
    "#     cdef np.ndarray kp = np.zeros([n,len(s)+1,len(t)+1]);\n",
    "#     cdef unsigned int rows = array.shape[0]\n",
    "#     cdef unsigned int cols = array.shape[1]\n",
    "    cdef unsigned int i, j, k\n",
    "    \n",
    "    cdef np.ndarray[DTYPE_t, ndim=3] kp = np.zeros([n,s_len+1,t_len+1])\n",
    "    cdef np.ndarray[DTYPE_t, ndim=3] kpp = np.zeros([n,s_len+1,t_len+1])\n",
    "#     cdef int a = 0;\n",
    "    \n",
    "    kp[0][:][:] = 1\n",
    "\n",
    "                \n",
    "    for i in range(1,n):\n",
    "        for j in range(i,s_len):\n",
    "            for k in range(i,t_len+1):\n",
    "#                 a = a+1\n",
    "                #check whether 'x occurs in u' as described in the paper\n",
    "                if(s[j-1]!=t[k-1]):\n",
    "                    kpp[i][j][k]=l*kpp[i][j][k-1];\n",
    "                #if not, do the other calcs.\n",
    "                else:\n",
    "                    kpp[i][j][k]=l*(kpp[i][j][k-1]+l*kp[i-1][j-1][k-1]);\n",
    "                \n",
    "                #finally calculate kp\n",
    "                kp[i][j][k-1]=l*kp[i][j-1][k-1]+kpp[i][j][k-1];\n",
    "    \n",
    "#     print(s)\n",
    "    return kp\n",
    "def le_prime_helper(s, t, n, l):\n",
    "    return le_prime(bytes(s,  'ascii'), bytes(t,  'ascii'), n, l, len(s), len(t))"
   ]
  },
  {
   "cell_type": "code",
   "execution_count": 406,
   "metadata": {},
   "outputs": [
    {
     "data": {
      "text/plain": [
       "1769"
      ]
     },
     "execution_count": 406,
     "metadata": {},
     "output_type": "execute_result"
    }
   ],
   "source": [
    "s = 'det var en gang en apa och ha'\n",
    "t = 'jag var en apa'\n",
    "s = s+s+s+s+s+s+s+s+s+s+s+s+s+s+s+s+s+s+s+s+s+s+s+s+s+s+s+s+s+s+s+s+s+s+s+s+s+s+s+s+s+s+s+s+s+s+s+s+s+s+s+s+s+s+s+s+s+s+s+s+s\n",
    "t = t+t+t+t+t+t+t+t+t+t+t+t+t+t+t+t+t+t+t+t+t+t+t+t+t+t+t+t+t+t+t+t+t+t+t+t+t+t+t+t+t+t+t+t+t+t+t+t+t+t+t+t+t+t+t+t+t+t+t+t+t\n",
    "# s = s[0:200]\n",
    "# t = t[0:200]\n",
    "\n",
    "sb = bytes(s,  'ascii')\n",
    "tb = bytes(t,  'ascii')\n",
    "s_len = len(s)\n",
    "t_len = len(t)\n",
    "n = 10 # Length of subsequence\n",
    "l = 0.5 # Lambda value\n",
    "\n",
    "# le_prime(bytearray(s), t, n, l, s_len, t_len)\n",
    "out = le_prime_helper(s,t,n,l)\n",
    "s_len"
   ]
  },
  {
   "cell_type": "code",
   "execution_count": 366,
   "metadata": {},
   "outputs": [
    {
     "data": {
      "text/plain": [
       "(4, 1770, 855)"
      ]
     },
     "execution_count": 366,
     "metadata": {},
     "output_type": "execute_result"
    }
   ],
   "source": [
    "out.shape"
   ]
  },
  {
   "cell_type": "code",
   "execution_count": 397,
   "metadata": {},
   "outputs": [
    {
     "data": {
      "text/plain": [
       "1734160.6220209138"
      ]
     },
     "execution_count": 397,
     "metadata": {},
     "output_type": "execute_result"
    }
   ],
   "source": [
    "sum(sum(sum(out)))"
   ]
  },
  {
   "cell_type": "code",
   "execution_count": 407,
   "metadata": {},
   "outputs": [
    {
     "data": {
      "text/plain": [
       "0.0049909600548296053"
      ]
     },
     "execution_count": 407,
     "metadata": {},
     "output_type": "execute_result"
    }
   ],
   "source": [
    "_k(s,t,n,l,out)"
   ]
  },
  {
   "cell_type": "code",
   "execution_count": 405,
   "metadata": {},
   "outputs": [
    {
     "data": {
      "text/plain": [
       "0.5"
      ]
     },
     "execution_count": 405,
     "metadata": {},
     "output_type": "execute_result"
    }
   ],
   "source": [
    "l"
   ]
  },
  {
   "cell_type": "code",
   "execution_count": 364,
   "metadata": {},
   "outputs": [
    {
     "data": {
      "text/plain": [
       "array([ 0.        ,  0.        ,  0.        ,  0.        ,  0.        ,\n",
       "        0.        ,  0.00097656,  0.00341797,  0.00854492,  0.01831055,\n",
       "        0.03900146,  0.02035522,  0.01031494,  0.00515747,  0.00261307,\n",
       "        0.00130653,  0.00066185,  0.00033092,  0.00028634,  0.00014508,\n",
       "        0.00105923,  0.00348324,  0.00866874,  0.01849941,  0.03918937,\n",
       "        0.02046059,  0.0103678 ,  0.0051839 ,  0.00262633,  0.00131316,\n",
       "        0.00066518,  0.00033259,  0.00028727,  0.00014554,  0.00105947,\n",
       "        0.00348336,  0.00866881,  0.01849946,  0.03918941,  0.02046061,\n",
       "        0.01036781,  0.0051839 ,  0.00262633,  0.00131316,  0.00066518,\n",
       "        0.00033259,  0.00028727,  0.00014554,  0.00105947,  0.00348336,\n",
       "        0.00866881,  0.01849946,  0.03918941,  0.02046061,  0.01036781,\n",
       "        0.0051839 ,  0.00262633,  0.00131316,  0.00066518,  0.00033259,\n",
       "        0.00028727,  0.00014554,  0.00105947,  0.00348336,  0.00866881,\n",
       "        0.01849946,  0.03918941,  0.02046061,  0.01036781,  0.0051839 ,\n",
       "        0.00262633,  0.00131316,  0.00066518,  0.00033259,  0.00028727,\n",
       "        0.00014554,  0.00105947,  0.00348336,  0.00866881,  0.01849946,\n",
       "        0.03918941,  0.02046061,  0.01036781,  0.0051839 ,  0.00262633,\n",
       "        0.00131316,  0.00066518,  0.00033259,  0.00028727,  0.00014554,\n",
       "        0.00105947,  0.00348336,  0.00866881,  0.01849946,  0.03918941,\n",
       "        0.02046061,  0.01036781,  0.0051839 ,  0.00262633,  0.00131316,\n",
       "        0.00066518,  0.00033259,  0.00028727,  0.00014554,  0.00105947,\n",
       "        0.00348336,  0.00866881,  0.01849946,  0.03918941,  0.02046061,\n",
       "        0.01036781,  0.0051839 ,  0.00262633,  0.00131316,  0.00066518,\n",
       "        0.00033259,  0.00028727,  0.00014554,  0.00105947,  0.00348336,\n",
       "        0.00866881,  0.01849946,  0.03918941,  0.02046061,  0.01036781,\n",
       "        0.0051839 ,  0.00262633,  0.00131316,  0.00066518,  0.00033259,\n",
       "        0.00028727,  0.00014554,  0.00105947,  0.00348336,  0.00866881,\n",
       "        0.01849946,  0.03918941,  0.02046061,  0.01036781,  0.0051839 ,\n",
       "        0.00262633,  0.00131316,  0.00066518,  0.00033259,  0.00028727,\n",
       "        0.00014554,  0.00105947,  0.00348336,  0.00866881,  0.01849946,\n",
       "        0.03918941,  0.02046061,  0.01036781,  0.0051839 ,  0.00262633,\n",
       "        0.00131316,  0.00066518,  0.00033259,  0.00028727,  0.00014554,\n",
       "        0.00105947,  0.00348336,  0.00866881,  0.01849946,  0.03918941,\n",
       "        0.02046061,  0.01036781,  0.0051839 ,  0.00262633,  0.00131316,\n",
       "        0.00066518,  0.00033259,  0.00028727,  0.00014554,  0.00105947,\n",
       "        0.00348336,  0.00866881,  0.01849946,  0.03918941,  0.02046061,\n",
       "        0.01036781,  0.0051839 ,  0.00262633,  0.00131316,  0.00066518,\n",
       "        0.00033259,  0.00028727,  0.00014554,  0.00105947,  0.00348336,\n",
       "        0.00866881,  0.01849946,  0.03918941,  0.02046061,  0.01036781,\n",
       "        0.0051839 ,  0.00262633,  0.00131316,  0.00066518,  0.00033259,\n",
       "        0.00028727,  0.00014554,  0.00105947,  0.00348336,  0.00866881,\n",
       "        0.01849946,  0.03918941,  0.02046061,  0.01036781,  0.0051839 ,\n",
       "        0.00262633,  0.00131316,  0.00066518,  0.00033259,  0.00028727,\n",
       "        0.00014554,  0.00105947,  0.00348336,  0.00866881,  0.01849946,\n",
       "        0.03918941,  0.02046061,  0.01036781,  0.0051839 ,  0.00262633,\n",
       "        0.00131316,  0.00066518,  0.00033259,  0.00028727,  0.00014554,\n",
       "        0.00105947,  0.00348336,  0.00866881,  0.01849946,  0.03918941,\n",
       "        0.02046061,  0.01036781,  0.0051839 ,  0.00262633,  0.00131316,\n",
       "        0.00066518,  0.00033259,  0.00028727,  0.00014554,  0.00105947,\n",
       "        0.00348336,  0.00866881,  0.01849946,  0.03918941,  0.02046061,\n",
       "        0.01036781,  0.0051839 ,  0.00262633,  0.00131316,  0.00066518,\n",
       "        0.00033259,  0.00028727,  0.00014554,  0.00105947,  0.00348336,\n",
       "        0.00866881,  0.01849946,  0.03918941,  0.02046061,  0.01036781,\n",
       "        0.0051839 ,  0.00262633,  0.00131316,  0.00066518,  0.00033259,\n",
       "        0.00028727,  0.00014554,  0.00105947,  0.00348336,  0.00866881,\n",
       "        0.01849946,  0.03918941,  0.02046061,  0.01036781,  0.0051839 ,\n",
       "        0.00262633,  0.00131316,  0.00066518,  0.00033259,  0.00028727,\n",
       "        0.00014554,  0.00105947,  0.00348336,  0.00866881,  0.01849946,\n",
       "        0.03918941,  0.02046061,  0.01036781,  0.0051839 ,  0.00262633,\n",
       "        0.00131316,  0.00066518,  0.00033259,  0.00028727,  0.00014554,\n",
       "        0.00105947,  0.00348336,  0.00866881,  0.01849946,  0.03918941,\n",
       "        0.02046061,  0.01036781,  0.0051839 ,  0.00262633,  0.00131316,\n",
       "        0.00066518,  0.00033259,  0.00028727,  0.00014554,  0.00105947,\n",
       "        0.00348336,  0.00866881,  0.01849946,  0.03918941,  0.02046061,\n",
       "        0.01036781,  0.0051839 ,  0.00262633,  0.00131316,  0.00066518,\n",
       "        0.00033259,  0.00028727,  0.00014554,  0.00105947,  0.00348336,\n",
       "        0.00866881,  0.01849946,  0.03918941,  0.02046061,  0.01036781,\n",
       "        0.0051839 ,  0.00262633,  0.00131316,  0.00066518,  0.00033259,\n",
       "        0.00028727,  0.00014554,  0.00105947,  0.00348336,  0.00866881,\n",
       "        0.01849946,  0.03918941,  0.02046061,  0.01036781,  0.0051839 ,\n",
       "        0.00262633,  0.00131316,  0.00066518,  0.00033259,  0.00028727,\n",
       "        0.00014554,  0.00105947,  0.00348336,  0.00866881,  0.01849946,\n",
       "        0.03918941,  0.02046061,  0.01036781,  0.0051839 ,  0.00262633,\n",
       "        0.00131316,  0.00066518,  0.00033259,  0.00028727,  0.00014554,\n",
       "        0.00105947,  0.00348336,  0.00866881,  0.01849946,  0.03918941,\n",
       "        0.02046061,  0.01036781,  0.0051839 ,  0.00262633,  0.00131316,\n",
       "        0.00066518,  0.00033259,  0.00028727,  0.00014554,  0.00105947,\n",
       "        0.00348336,  0.00866881,  0.01849946,  0.03918941,  0.02046061,\n",
       "        0.01036781,  0.0051839 ,  0.00262633,  0.00131316,  0.00066518,\n",
       "        0.00033259,  0.00028727,  0.00014554,  0.00105947,  0.00348336,\n",
       "        0.00866881,  0.01849946,  0.03918941,  0.02046061,  0.01036781,\n",
       "        0.0051839 ,  0.00262633,  0.00131316,  0.00066518,  0.00033259,\n",
       "        0.00028727,  0.00014554,  0.00105947,  0.00348336,  0.00866881,\n",
       "        0.01849946,  0.03918941,  0.02046061,  0.01036781,  0.0051839 ,\n",
       "        0.00262633,  0.00131316,  0.00066518,  0.00033259,  0.00028727,\n",
       "        0.00014554,  0.00105947,  0.00348336,  0.00866881,  0.01849946,\n",
       "        0.03918941,  0.02046061,  0.01036781,  0.0051839 ,  0.00262633,\n",
       "        0.00131316,  0.00066518,  0.00033259,  0.00028727,  0.00014554,\n",
       "        0.00105947,  0.00348336,  0.00866881,  0.01849946,  0.03918941,\n",
       "        0.02046061,  0.01036781,  0.0051839 ,  0.00262633,  0.00131316,\n",
       "        0.00066518,  0.00033259,  0.00028727,  0.00014554,  0.00105947,\n",
       "        0.00348336,  0.00866881,  0.01849946,  0.03918941,  0.02046061,\n",
       "        0.01036781,  0.0051839 ,  0.00262633,  0.00131316,  0.00066518,\n",
       "        0.00033259,  0.00028727,  0.00014554,  0.00105947,  0.00348336,\n",
       "        0.00866881,  0.01849946,  0.03918941,  0.02046061,  0.01036781,\n",
       "        0.0051839 ,  0.00262633,  0.00131316,  0.00066518,  0.00033259,\n",
       "        0.00028727,  0.00014554,  0.00105947,  0.00348336,  0.00866881,\n",
       "        0.01849946,  0.03918941,  0.02046061,  0.01036781,  0.0051839 ,\n",
       "        0.00262633,  0.00131316,  0.00066518,  0.00033259,  0.00028727,\n",
       "        0.00014554,  0.00105947,  0.00348336,  0.00866881,  0.01849946,\n",
       "        0.03918941,  0.02046061,  0.01036781,  0.0051839 ,  0.00262633,\n",
       "        0.00131316,  0.00066518,  0.00033259,  0.00028727,  0.00014554,\n",
       "        0.00105947,  0.00348336,  0.00866881,  0.01849946,  0.03918941,\n",
       "        0.02046061,  0.01036781,  0.0051839 ,  0.00262633,  0.00131316,\n",
       "        0.00066518,  0.00033259,  0.00028727,  0.00014554,  0.00105947,\n",
       "        0.00348336,  0.00866881,  0.01849946,  0.03918941,  0.02046061,\n",
       "        0.01036781,  0.0051839 ,  0.00262633,  0.00131316,  0.00066518,\n",
       "        0.00033259,  0.00028727,  0.00014554,  0.00105947,  0.00348336,\n",
       "        0.00866881,  0.01849946,  0.03918941,  0.02046061,  0.01036781,\n",
       "        0.0051839 ,  0.00262633,  0.00131316,  0.00066518,  0.00033259,\n",
       "        0.00028727,  0.00014554,  0.00105947,  0.00348336,  0.00866881,\n",
       "        0.01849946,  0.03918941,  0.02046061,  0.01036781,  0.0051839 ,\n",
       "        0.00262633,  0.00131316,  0.00066518,  0.00033259,  0.00028727,\n",
       "        0.00014554,  0.00105947,  0.00348336,  0.00866881,  0.01849946,\n",
       "        0.03918941,  0.02046061,  0.01036781,  0.0051839 ,  0.00262633,\n",
       "        0.00131316,  0.00066518,  0.00033259,  0.00028727,  0.00014554,\n",
       "        0.00105947,  0.00348336,  0.00866881,  0.01849946,  0.03918941,\n",
       "        0.02046061,  0.01036781,  0.0051839 ,  0.00262633,  0.00131316,\n",
       "        0.00066518,  0.00033259,  0.00028727,  0.00014554,  0.00105947,\n",
       "        0.00348336,  0.00866881,  0.01849946,  0.03918941,  0.02046061,\n",
       "        0.01036781,  0.0051839 ,  0.00262633,  0.00131316,  0.00066518,\n",
       "        0.00033259,  0.00028727,  0.00014554,  0.00105947,  0.00348336,\n",
       "        0.00866881,  0.01849946,  0.03918941,  0.02046061,  0.01036781,\n",
       "        0.0051839 ,  0.00262633,  0.00131316,  0.00066518,  0.00033259,\n",
       "        0.00028727,  0.00014554,  0.00105947,  0.00348336,  0.00866881,\n",
       "        0.01849946,  0.03918941,  0.02046061,  0.01036781,  0.0051839 ,\n",
       "        0.00262633,  0.00131316,  0.00066518,  0.00033259,  0.00028727,\n",
       "        0.00014554,  0.00105947,  0.00348336,  0.00866881,  0.01849946,\n",
       "        0.03918941,  0.02046061,  0.01036781,  0.0051839 ,  0.00262633,\n",
       "        0.00131316,  0.00066518,  0.00033259,  0.00028727,  0.00014554,\n",
       "        0.00105947,  0.00348336,  0.00866881,  0.01849946,  0.03918941,\n",
       "        0.02046061,  0.01036781,  0.0051839 ,  0.00262633,  0.00131316,\n",
       "        0.00066518,  0.00033259,  0.00028727,  0.00014554,  0.00105947,\n",
       "        0.00348336,  0.00866881,  0.01849946,  0.03918941,  0.02046061,\n",
       "        0.01036781,  0.0051839 ,  0.00262633,  0.00131316,  0.00066518,\n",
       "        0.00033259,  0.00028727,  0.00014554,  0.00105947,  0.00348336,\n",
       "        0.00866881,  0.01849946,  0.03918941,  0.02046061,  0.01036781,\n",
       "        0.0051839 ,  0.00262633,  0.00131316,  0.00066518,  0.00033259,\n",
       "        0.00028727,  0.00014554,  0.00105947,  0.00348336,  0.00866881,\n",
       "        0.01849946,  0.03918941,  0.02046061,  0.01036781,  0.0051839 ,\n",
       "        0.00262633,  0.00131316,  0.00066518,  0.00033259,  0.00028727,\n",
       "        0.00014554,  0.00105947,  0.00348336,  0.00866881,  0.01849946,\n",
       "        0.03918941,  0.02046061,  0.01036781,  0.0051839 ,  0.00262633,\n",
       "        0.00131316,  0.00066518,  0.00033259,  0.00028727,  0.00014554,\n",
       "        0.00105947,  0.00348336,  0.00866881,  0.01849946,  0.03918941,\n",
       "        0.02046061,  0.01036781,  0.0051839 ,  0.00262633,  0.00131316,\n",
       "        0.00066518,  0.00033259,  0.00028727,  0.00014554,  0.00105947,\n",
       "        0.00348336,  0.00866881,  0.01849946,  0.03918941,  0.02046061,\n",
       "        0.01036781,  0.0051839 ,  0.00262633,  0.00131316,  0.00066518,\n",
       "        0.00033259,  0.00028727,  0.00014554,  0.00105947,  0.00348336,\n",
       "        0.00866881,  0.01849946,  0.03918941,  0.02046061,  0.01036781,\n",
       "        0.0051839 ,  0.00262633,  0.00131316,  0.00066518,  0.00033259,\n",
       "        0.00028727,  0.00014554,  0.00105947,  0.00348336,  0.00866881,\n",
       "        0.01849946,  0.03918941,  0.02046061,  0.01036781,  0.0051839 ,\n",
       "        0.00262633,  0.00131316,  0.00066518,  0.00033259,  0.00028727,\n",
       "        0.00014554,  0.00105947,  0.00348336,  0.00866881,  0.01849946,\n",
       "        0.03918941,  0.02046061,  0.01036781,  0.0051839 ,  0.00262633,\n",
       "        0.00131316,  0.00066518,  0.00033259,  0.00028727,  0.00014554,\n",
       "        0.00105947,  0.00348336,  0.00866881,  0.01849946,  0.03918941,\n",
       "        0.02046061,  0.01036781,  0.0051839 ,  0.00262633,  0.00131316,\n",
       "        0.00066518,  0.00033259,  0.00028727,  0.00014554,  0.00105947,\n",
       "        0.00348336,  0.00866881,  0.01849946,  0.03918941,  0.02046061,\n",
       "        0.01036781,  0.0051839 ,  0.00262633,  0.00131316,  0.00066518,\n",
       "        0.00033259,  0.00028727,  0.00014554,  0.00105947,  0.00348336,\n",
       "        0.00866881,  0.01849946,  0.03918941,  0.02046061,  0.01036781,\n",
       "        0.0051839 ,  0.00262633,  0.00131316,  0.00066518,  0.00033259,\n",
       "        0.00028727,  0.00014554,  0.00105947,  0.00348336,  0.00866881,\n",
       "        0.01849946,  0.03918941,  0.02046061,  0.01036781,  0.0051839 ,\n",
       "        0.00262633,  0.00131316,  0.00066518,  0.00033259,  0.00028727,\n",
       "        0.00014554,  0.00105947,  0.00348336,  0.00866881,  0.01849946,\n",
       "        0.03918941,  0.02046061,  0.01036781,  0.0051839 ,  0.        ])"
      ]
     },
     "execution_count": 364,
     "metadata": {},
     "output_type": "execute_result"
    }
   ],
   "source": [
    "out[3][10][:]\n"
   ]
  },
  {
   "cell_type": "code",
   "execution_count": 380,
   "metadata": {},
   "outputs": [
    {
     "name": "stdout",
     "output_type": "stream",
     "text": [
      "142 ms ± 2.28 ms per loop (mean ± std. dev. of 7 runs, 10 loops each)\n"
     ]
    }
   ],
   "source": [
    "%timeit le_prime_helper(s,t,n,l)\n",
    "# %timeit le_prime(sb,tb,n,l, s_len, t_len)\n",
    "# %timeit _k_prime(s,t,n,l)"
   ]
  },
  {
   "cell_type": "code",
   "execution_count": 303,
   "metadata": {},
   "outputs": [],
   "source": [
    "# %%cython\n",
    "# cpdef k_prime(char[] s,float t,n,l):\n",
    "def _k_prime(s,t,n,l):\n",
    "\n",
    "    #-------------------------------------------------------------------------------------#\n",
    "    # Basically what's happening here is that we are succesively looping through both of  #\n",
    "    # the strings and updating the kernel matrix accordingly while refering to previously #\n",
    "    # computed values. This will give us time complexity O(n|s||t|) in the end.           #\n",
    "    #-------------------------------------------------------------------------------------#\n",
    "    \n",
    "    \n",
    "    #Variables:\n",
    "    #\n",
    "    #s is a string\n",
    "    #t is a string\n",
    "    #n is the length of the substring\n",
    "    #l is the lambda value\n",
    "    #kp is refering to k'\n",
    "    #kpp is refering to k'' \n",
    "    \n",
    "    #start by creating the empty matrices.\n",
    "    kp = np.zeros([n,len(s)+1,len(t)+1]);\n",
    "    kpp = np.zeros([n,len(s)+1,len(t)+1]);\n",
    "    \n",
    "    #initialize\n",
    "    kp[0][:][:] = 1;\n",
    "#     print(str(n) + ' ' + str(len(s))+ ' ' +str(len(t)) + '\\n')\n",
    "    for i in range(1,n):\n",
    "        for j in range(i,len(s)):\n",
    "            for k in range(i,len(t)+1):\n",
    "\n",
    "                #check whether 'x occurs in u' as described in the paper\n",
    "                if(s[j-1]!=t[k-1]):\n",
    "                    kpp[i][j][k]=l*kpp[i][j][k-1];\n",
    "                #if not, do the other calcs.\n",
    "                else:\n",
    "                    kpp[i][j][k]=l*(kpp[i][j][k-1]+l*kp[i-1][j-1][k-1]);\n",
    "                \n",
    "                #finally calculate kp\n",
    "                kp[i][j][k-1]=l*kp[i][j-1][k-1]+kpp[i][j][k-1];\n",
    "#     print(type(l))\n",
    "#     print(len(s))\n",
    "#     print()\n",
    "#     print()\n",
    "    return kp;"
   ]
  },
  {
   "cell_type": "code",
   "execution_count": null,
   "metadata": {},
   "outputs": [],
   "source": []
  },
  {
   "cell_type": "code",
   "execution_count": null,
   "metadata": {},
   "outputs": [],
   "source": []
  },
  {
   "cell_type": "code",
   "execution_count": 434,
   "metadata": {},
   "outputs": [
    {
     "name": "stdout",
     "output_type": "stream",
     "text": [
      "20\n"
     ]
    }
   ],
   "source": [
    "print(len(trainLabels))"
   ]
  },
  {
   "cell_type": "code",
   "execution_count": 423,
   "metadata": {},
   "outputs": [
    {
     "name": "stdout",
     "output_type": "stream",
     "text": [
      "<class 'list'>\n",
      "<class 'int'>\n",
      "<class 'float'>\n",
      "['southern california edison co lt sce qtly div qtly div cts vs cts pay april record april ', 'auditors lift qualification brunswick lt bc auditors brunswick corp lifted four year qualification company financial statements vice president finance frederick florjancic told securities analysts financial results diversified leisure defense aerospace company qualifed arthur andersen co since qualification related certain tax liabilities amounting mln dlrs associated medical division sold brunswick said ', 'institute clinical pharm plc lt icpyy year shr ct vs cts net vs revs vs note dollar amounts converted irish pounds noon buying rate federal reserve bank new york dec dlr per one irish pound equivalent rate dec dlr equals one irsh pound full name company institute clinical pharmacology plc based dulbin ireland ', 'ionics inc lt ion th qtr net shr cts vs cts net vs revs mln vs mln year shr cts vs cts net vs revs mln vs mln backlog mln vs mln note net includes nonrecurring gain dlrs quarter charge dlrs year ', 'mcdonald lt mcd reaffirmed recommendation mcdonald corp rose sharply today receiving second recommendation many sessions traders said today analyst richard simon goldman sachs co reaffirmed recommendation stock put focus list traders familiar recommendation said simon unavailable comment stock jumped friday analyst daniel lee drexel burnham lambert inc reiterated recommendation stock focusing increased comparable store sales consistent annual earnings growth friday stock closed points higher wendy another operator fast food restaurants rose one active trading vague rumors wendy takeover candidate continued circulate wall street traders said ', 'beauticontrol cosmetics inc lt buti st qtr net qtr ends feb shr cts vs cts net vs revs vs ', 'general cinema corp st qtr oper shr cts vs cts general cinema corp st qtr oper shr cts vs cts ', 'booker says starts well booker plc lt bokl l said started well group resources invest growth business organically acquisition commenting figures showed pretax profits rising mln mln previously profits u accounted pct total results broadly line analysts forecasts company shares firmed morning trading p p friday close group ended year cash surplus higher mln stg compared mln previously capital expenditure rose mln mln statement company said u k agribusiness group reported excellent profits growth health products profits rose mln mln ', 'spi pharmaceuticals inc lt spip st qtr oper net qtr ended feb oper shr cts vs cts oper net vs revs mln vs mln note oper data include year ago extraordinary gain dlrs eight cts per shr ', 'japan business decline seen bottoming extended decline japan overall business performance likely bottom current january march quarter finance ministry said improved corporate earnings better prospects stability yen made companies optimistic said carrying quarterly survey survey conducted february based questionnaires returned large small firms sectors except finance insurance industries survey said overall corporate earnings expected turn positive estimated pct year year increase second half fiscal ending march pct decrease first half corporate earnings grow first half fiscal rising estimated pct added manufacturers earnings hit hard yen steady rise dollar rise pct first half fiscal falling pct second half fiscal said overall earnings non manufacturing companies rise pct year year first half fiscal growing pct second half fiscal survey said said figure bolstered profits firms electric power gas companies benefitted yen appreciation ', 'canterra energy drill well nova scotia lt canterra energy ltd said drill exploratory well scotian shelf kilometers east southeast halifax nova scotia drilling begin late april meters water drilled total depth meters canterra said canterra operate well pct interest lt petro canada inc pct lt trillium exploration corp pct lt nova scotia resources ventures ltd pct ', 'brazilian seafarers strike damages oil exports strike brazil seafarers want pay rises pct may cost state owned oil company petrobras mln dlrs lost export orders company commercial director arthur de carvalho quoted saying press reports ships brazil nine foreign ports halted strike began february marines began blockading ships friday strike ruled illegal strikers running short food national merchants marine union president edson areias said ', 'bp lt bp plan hike standard lt srd bid british petroleum co plc intend raise price planned dlr per share offer publicly held pct standard oil co bp managing director david simon said seen progressive bidding game told reporters news conference bp owns pct standard stock simon said bp carefully considered amount planned bid quoted oil analyst would identify saying bp careful evaluation means company going raise offer think increase would totally wrong think price fair much early speculate ligigation said let wait see offer runs another official declined speculate circumstances bp might raise bid bp official said dlrs share offer times standard cash flow pct independent evaluation company assets including value oil natural gas liquids natural gas reserves said price royal dutch shell group lt rd lt sc paid publicly held shell oil co shares times cash flow bp official also said dlr bid pct premium standard stock price past year bp group treasurer rodney chase said half much two third billion dlrs bp needs offer come existing sources rest financed new debt bp draw cash operating companies around world also arranging five billion dlr line credit explained company debt equity ratio rise percentage points current pct offer completed chase said ratio back pct within months added chase also said pct standard oil publicly held shares held financial institutions simon said standard board informed offer march nine considering since time said bp expect regulatory problems would delay completion acquisition informed washington intentions already integral part ownership u oil reserves pointed simon said good chance current world oil prices dlrs barrel could maintained stable market due mostly changes policy saudi arabia opec members control oil production think signals current conditions favorable sometime simon said hopes greater stability see prices going much higher added ', 'iran says intends threat gulf shipping iran said reports intended threaten shipping gulf baseless warned u countries interfere region tehran radio monitored bbc quoted foreign ministry spokesman saying attempt interference would met strong response iran moslems world u defence secretary caspar weinberger remarks apparently unrelated broadcast said u would whatever necessary keep shipping lanes open face new iranian anti ship missiles gulf u state department said two days ago tehran told u concern iranian anti ship missiles posed threat free flow oil gulf u officials said iran new chinese made anti ship silkworm missiles pose greater threat merchant ships missiles used iranian spokesman said reports iran intended attack ships misleading propaganda said iraq president saddam hussein main cause tension gulf said iran would continue use legitimate means stem cause tension weinberger said television interview u fully prepared necessary keep shipping going keep freedom navigation available vital waterway going disclosures discussions might happen certainly sympathetic listening carefully suggestions assistance keeping navigation free area said weinberger said u warship movements gulf area unusual u navy battle group led aircraft carrier kitty hawk currently northern arabian sea iranian spokesman quoted tehran radio saying u trying build military presence region ', 'saudi success seen curbing opec production saudi arabia succeed pressuring members organization petroleum exporting countries stay within production quotas said morgan stanley group managing director john wellemeyer wellemeyer speaking reporters offshore oil engineering conference also said expected opec nations attempt hold prices dlrs barrel several years keep industrial demand residual fuel oil strong next weeks think see concerted effort saudis get production wellemeyer said saudis committed price level dlrs barrel willing make happen said recent weeks oil prices fell dlrs barrel level market reports ope members producing quota pushing total opec production mln barrels per day prices rebounded today april u crude prices one dlr dlrs barrel belief saudi arabia attempting curb opec output wellemeyer said sharp declines u oil production could push demand opec oil mln barrels per day early mln barrels per day although projected increases demand opec oil strengthen world prices wellemeyer said believed organization would hold official price dlrs barrel time prevent residual fuel users switching natural gas supplies interfuel swing market accounts eight mln barrels day pct world demand oil ', 'usx lt x unit raise crude postings usx subsidiary marathon petroleum co said raise contract prices eleven grades crude oil cts barrel effective tomorrow increase brings marathon posted price west texas intermediate west texas sour grades dlrs barrel light louisiana grade also raised cts dlrs barrel ', 'report due oil imports national security presidential commission studying oil imports including effect national security make report soon white house said spokesman marlin fitzwater said panel set last october examine u oil import needs would make report soon probably within next weeks said national security adviser frank carlucci wait report see special action needed taken national security area implement ', 'oil tax break ridiculed u house taxwriter house taxwriter said energy secretary james herrington outrageous plan restore old tax break oil companies bad tax energy policy rep pete stark california democrat senior house ways means committee member said herrington plan pct depletion allowance effect special pct tax deduction would cost seven billion dlrs year must missed last two years federal tax reform sleeping soundly rip van winkle stark said said statement oil industry already pays effective lower rate u tax investment pct versus aggregate corporate tax investment pct according recent congressional research service study ', 'argentine oil production january argentine crude oil production pct january mln barrels mln barrels january yacimientos petroliferos fiscales said january natural gas output totalled billion cubic metrers pct higher billion cubic metres produced january yacimientos petroliferos fiscales added ', 'australia said rely much oil taxes government reliance revenue crude oil adversely affecting australia economic performance australian petroleum exploration association apea chairman dennis benbow said one third australia indirect tax income derived oil time falling domestic output weak crude prices told apea annual conference dependence oil generated revenue distorts country economic performance directly acting disincentive new exploration indirectly affecting trading competitiveness high energy costs said australia medium term liquid fuel self sufficiency position posing major economic threat yet government response load new tax burdens oil industry benbow said domestic oil output existing fields expected fall barrels per day bpd fiscal bpd reflecting mainly decline bass strait fields said bass strait reserves two thirds depleted three largest fields pct depleted said bass strait output expected half level assuming number far undeveloped fields brought stream enhanced recovery existing fields goes ahead benbow said government projections output yet undiscovered fields range bpd said australian liquid fuel demand forecast rise bpd implying crude oil gap bpd five years time said present world oil prices current value australian dollar annual oil imports would cost billion billion dlrs benbow said despite intensive exploration early addition reserves inadequate said example mln barrels discovered five years represent two years consumption said called government review tax policies restore incentive exploration ']\n"
     ]
    },
    {
     "name": "stderr",
     "output_type": "stream",
     "text": [
      " 10%|█         | 2/20 [00:17<02:38,  8.80s/it]"
     ]
    },
    {
     "ename": "KeyboardInterrupt",
     "evalue": "",
     "output_type": "error",
     "traceback": [
      "\u001b[0;31m---------------------------------------------------------------------------\u001b[0m",
      "\u001b[0;31mKeyboardInterrupt\u001b[0m                         Traceback (most recent call last)",
      "\u001b[0;32m<ipython-input-423-2c08bb177734>\u001b[0m in \u001b[0;36m<module>\u001b[0;34m()\u001b[0m\n\u001b[1;32m     11\u001b[0m \u001b[0mstart_generate\u001b[0m \u001b[0;34m=\u001b[0m \u001b[0mtime\u001b[0m\u001b[0;34m.\u001b[0m\u001b[0mtime\u001b[0m\u001b[0;34m(\u001b[0m\u001b[0;34m)\u001b[0m\u001b[0;34m\u001b[0m\u001b[0m\n\u001b[1;32m     12\u001b[0m  \u001b[0;31m# Generate a classifier that we can use for prediction.\u001b[0m\u001b[0;34m\u001b[0m\u001b[0;34m\u001b[0m\u001b[0m\n\u001b[0;32m---> 13\u001b[0;31m \u001b[0mclf\u001b[0m \u001b[0;34m=\u001b[0m \u001b[0mgenerateClassifier\u001b[0m\u001b[0;34m(\u001b[0m \u001b[0mtrainData\u001b[0m\u001b[0;34m,\u001b[0m \u001b[0mtrainLabels\u001b[0m\u001b[0;34m,\u001b[0m \u001b[0mn\u001b[0m\u001b[0;34m,\u001b[0m \u001b[0ml\u001b[0m\u001b[0;34m,\u001b[0m\u001b[0mcategories\u001b[0m\u001b[0;34m)\u001b[0m\u001b[0;34m\u001b[0m\u001b[0m\n\u001b[0m\u001b[1;32m     14\u001b[0m \u001b[0mprint\u001b[0m\u001b[0;34m(\u001b[0m\u001b[0;34m'\\n Classifier built'\u001b[0m\u001b[0;34m)\u001b[0m\u001b[0;34m\u001b[0m\u001b[0m\n\u001b[1;32m     15\u001b[0m \u001b[0;34m\u001b[0m\u001b[0m\n",
      "\u001b[0;32m<ipython-input-422-40ad9748fb4a>\u001b[0m in \u001b[0;36mgenerateClassifier\u001b[0;34m(features, labels, n, l, cat)\u001b[0m\n\u001b[1;32m     31\u001b[0m     \u001b[0mprint\u001b[0m\u001b[0;34m(\u001b[0m\u001b[0mfeatures\u001b[0m\u001b[0;34m)\u001b[0m\u001b[0;34m\u001b[0m\u001b[0m\n\u001b[1;32m     32\u001b[0m \u001b[0;31m#     input()\u001b[0m\u001b[0;34m\u001b[0m\u001b[0;34m\u001b[0m\u001b[0m\n\u001b[0;32m---> 33\u001b[0;31m     \u001b[0mK\u001b[0m \u001b[0;34m=\u001b[0m \u001b[0mrecursive_kernel\u001b[0m\u001b[0;34m(\u001b[0m\u001b[0mfeatures\u001b[0m\u001b[0;34m,\u001b[0m\u001b[0mfeatures\u001b[0m\u001b[0;34m,\u001b[0m\u001b[0mn\u001b[0m\u001b[0;34m,\u001b[0m\u001b[0ml\u001b[0m\u001b[0;34m)\u001b[0m\u001b[0;34m\u001b[0m\u001b[0m\n\u001b[0m\u001b[1;32m     34\u001b[0m \u001b[0;31m#     print('finished recursive kernel')\u001b[0m\u001b[0;34m\u001b[0m\u001b[0;34m\u001b[0m\u001b[0m\n\u001b[1;32m     35\u001b[0m     \u001b[0mclf\u001b[0m \u001b[0;34m=\u001b[0m \u001b[0mOneVsRestClassifier\u001b[0m\u001b[0;34m(\u001b[0m\u001b[0mSVC\u001b[0m\u001b[0;34m(\u001b[0m\u001b[0mkernel\u001b[0m\u001b[0;34m=\u001b[0m\u001b[0;34m'precomputed'\u001b[0m\u001b[0;34m,\u001b[0m\u001b[0mprobability\u001b[0m \u001b[0;34m=\u001b[0m \u001b[0;32mTrue\u001b[0m\u001b[0;34m)\u001b[0m\u001b[0;34m)\u001b[0m\u001b[0;34m\u001b[0m\u001b[0m\n",
      "\u001b[0;32m<ipython-input-26-dbd0edfab356>\u001b[0m in \u001b[0;36mrecursive_kernel\u001b[0;34m(s, t, n, l)\u001b[0m\n\u001b[1;32m    192\u001b[0m         \u001b[0;32mfor\u001b[0m \u001b[0mj\u001b[0m \u001b[0;32min\u001b[0m \u001b[0mrange\u001b[0m\u001b[0;34m(\u001b[0m\u001b[0mi\u001b[0m\u001b[0;34m+\u001b[0m\u001b[0;36m1\u001b[0m\u001b[0;34m,\u001b[0m\u001b[0mN\u001b[0m\u001b[0;34m)\u001b[0m\u001b[0;34m:\u001b[0m\u001b[0;34m\u001b[0m\u001b[0m\n\u001b[1;32m    193\u001b[0m             \u001b[0mle_time\u001b[0m \u001b[0;34m=\u001b[0m \u001b[0mtime\u001b[0m\u001b[0;34m.\u001b[0m\u001b[0mtime\u001b[0m\u001b[0;34m(\u001b[0m\u001b[0;34m)\u001b[0m\u001b[0;34m\u001b[0m\u001b[0m\n\u001b[0;32m--> 194\u001b[0;31m             \u001b[0mkstP\u001b[0m \u001b[0;34m=\u001b[0m \u001b[0m_k_prime\u001b[0m\u001b[0;34m(\u001b[0m\u001b[0ms\u001b[0m\u001b[0;34m[\u001b[0m\u001b[0mi\u001b[0m\u001b[0;34m]\u001b[0m\u001b[0;34m,\u001b[0m\u001b[0mt\u001b[0m\u001b[0;34m[\u001b[0m\u001b[0mj\u001b[0m\u001b[0;34m]\u001b[0m\u001b[0;34m,\u001b[0m\u001b[0mn\u001b[0m\u001b[0;34m,\u001b[0m\u001b[0ml\u001b[0m\u001b[0;34m)\u001b[0m\u001b[0;34m;\u001b[0m\u001b[0;34m\u001b[0m\u001b[0m\n\u001b[0m\u001b[1;32m    195\u001b[0m \u001b[0;31m#             print(time.time()-le_time)\u001b[0m\u001b[0;34m\u001b[0m\u001b[0;34m\u001b[0m\u001b[0m\n\u001b[1;32m    196\u001b[0m             \u001b[0mle_time\u001b[0m \u001b[0;34m=\u001b[0m \u001b[0mtime\u001b[0m\u001b[0;34m.\u001b[0m\u001b[0mtime\u001b[0m\u001b[0;34m(\u001b[0m\u001b[0;34m)\u001b[0m\u001b[0;34m\u001b[0m\u001b[0m\n",
      "\u001b[0;32m<ipython-input-303-0d10c6507c7e>\u001b[0m in \u001b[0;36m_k_prime\u001b[0;34m(s, t, n, l)\u001b[0m\n\u001b[1;32m     32\u001b[0m                 \u001b[0;31m#check whether 'x occurs in u' as described in the paper\u001b[0m\u001b[0;34m\u001b[0m\u001b[0;34m\u001b[0m\u001b[0m\n\u001b[1;32m     33\u001b[0m                 \u001b[0;32mif\u001b[0m\u001b[0;34m(\u001b[0m\u001b[0ms\u001b[0m\u001b[0;34m[\u001b[0m\u001b[0mj\u001b[0m\u001b[0;34m-\u001b[0m\u001b[0;36m1\u001b[0m\u001b[0;34m]\u001b[0m\u001b[0;34m!=\u001b[0m\u001b[0mt\u001b[0m\u001b[0;34m[\u001b[0m\u001b[0mk\u001b[0m\u001b[0;34m-\u001b[0m\u001b[0;36m1\u001b[0m\u001b[0;34m]\u001b[0m\u001b[0;34m)\u001b[0m\u001b[0;34m:\u001b[0m\u001b[0;34m\u001b[0m\u001b[0m\n\u001b[0;32m---> 34\u001b[0;31m                     \u001b[0mkpp\u001b[0m\u001b[0;34m[\u001b[0m\u001b[0mi\u001b[0m\u001b[0;34m]\u001b[0m\u001b[0;34m[\u001b[0m\u001b[0mj\u001b[0m\u001b[0;34m]\u001b[0m\u001b[0;34m[\u001b[0m\u001b[0mk\u001b[0m\u001b[0;34m]\u001b[0m\u001b[0;34m=\u001b[0m\u001b[0ml\u001b[0m\u001b[0;34m*\u001b[0m\u001b[0mkpp\u001b[0m\u001b[0;34m[\u001b[0m\u001b[0mi\u001b[0m\u001b[0;34m]\u001b[0m\u001b[0;34m[\u001b[0m\u001b[0mj\u001b[0m\u001b[0;34m]\u001b[0m\u001b[0;34m[\u001b[0m\u001b[0mk\u001b[0m\u001b[0;34m-\u001b[0m\u001b[0;36m1\u001b[0m\u001b[0;34m]\u001b[0m\u001b[0;34m;\u001b[0m\u001b[0;34m\u001b[0m\u001b[0m\n\u001b[0m\u001b[1;32m     35\u001b[0m                 \u001b[0;31m#if not, do the other calcs.\u001b[0m\u001b[0;34m\u001b[0m\u001b[0;34m\u001b[0m\u001b[0m\n\u001b[1;32m     36\u001b[0m                 \u001b[0;32melse\u001b[0m\u001b[0;34m:\u001b[0m\u001b[0;34m\u001b[0m\u001b[0m\n",
      "\u001b[0;31mKeyboardInterrupt\u001b[0m: "
     ]
    }
   ],
   "source": [
    "categories = ['earn','crude']\n",
    "numberOfTraining = [10,10]\n",
    "numberOfTesting = [7,2]\n",
    "\n",
    "\n",
    "trainData,trainLabels, testData,testLabel = fd.loadData(categories,numberOfTraining,numberOfTesting)\n",
    "\n",
    "n = 2 # Length of subsequence\n",
    "l = 0.5 # Lambda value\n",
    "\n",
    "start_generate = time.time()\n",
    " # Generate a classifier that we can use for prediction.\n",
    "clf = generateClassifier( trainData, trainLabels, n, l,categories)\n",
    "print('\\n Classifier built')\n",
    "\n",
    "start_pred = time.time()\n",
    "res = predict(testData,trainData,clf,n,l)\n",
    "end_pred = time.time()\n",
    "\n",
    "print('\\n Prediction done')\n",
    "print(res)\n",
    "\n",
    "score(res,testLabel,categories)\n",
    "\n",
    "print('\\nGenerate Total Time:'+str(start_pred-start_generate))\n",
    "print('Predict Total Time: '+str(end_pred-start_pred))\n"
   ]
  }
 ],
 "metadata": {
  "kernelspec": {
   "display_name": "Python 3",
   "language": "python",
   "name": "python3"
  },
  "language_info": {
   "codemirror_mode": {
    "name": "ipython",
    "version": 3
   },
   "file_extension": ".py",
   "mimetype": "text/x-python",
   "name": "python",
   "nbconvert_exporter": "python",
   "pygments_lexer": "ipython3",
   "version": "3.6.4"
  }
 },
 "nbformat": 4,
 "nbformat_minor": 2
}
