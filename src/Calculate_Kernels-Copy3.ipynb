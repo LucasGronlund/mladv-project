{
 "cells": [
  {
   "cell_type": "markdown",
   "metadata": {},
   "source": [
    "# The purpose of this notebook is to calculate and save the  recursive kernels using the set of ~300 training. Hopefully this won't take too long.\n",
    "\n",
    "* change the name of the imports when they are implemented."
   ]
  },
  {
   "cell_type": "code",
   "execution_count": 1,
   "metadata": {},
   "outputs": [],
   "source": [
    "#Impors\n",
    "import kernel\n",
    "import numpy as np\n",
    "import time\n",
    "import subprocess\n",
    "import os"
   ]
  },
  {
   "cell_type": "code",
   "execution_count": 2,
   "metadata": {},
   "outputs": [],
   "source": [
    "# Methods\n",
    "def parseMatrix(matrix):\n",
    "    num_rows = int(matrix[0])\n",
    "    num_cols = int(matrix[1])\n",
    "    K = np.zeros([num_rows,num_cols])\n",
    "    counter = 2\n",
    "    for i in range(num_rows):\n",
    "        for j in range(num_cols):\n",
    "            K[i,j] = float(matrix[counter])\n",
    "            counter = counter + 1\n",
    "    return K\n",
    "\n",
    "def marcus_recursive_kernel(s,t,n,l):\n",
    "    the_strings = b''\n",
    "    the_args = bytes(str(len(s)),'ascii')+ b' ' + bytes(str(len(t)),'ascii')+ b' '\n",
    "    for i in s:\n",
    "        the_strings = the_strings + bytes(i,'ascii')\n",
    "        the_args = the_args + bytes(str(len(i)),'ascii') + b' '\n",
    "    for i in t:\n",
    "        the_strings = the_strings + bytes(i,'ascii')\n",
    "        the_args = the_args + bytes(str(len(i)),'ascii') + b' '\n",
    "    the_args = the_args + bytes(str(n), 'ascii')+ b' ' + bytes(str(l), 'ascii')\n",
    "    fast_kernel = subprocess.Popen([\"./fast_recursive_kernel.out\"], stdin=subprocess.PIPE, stdout=subprocess.PIPE)\n",
    "    output_test = fast_kernel.communicate(input=b'1 '+the_args+the_strings)[0]\n",
    "    output_test_list = output_test.decode('utf-8').split()\n",
    "    K = parseMatrix(output_test_list)\n",
    "    return K\n"
   ]
  },
  {
   "cell_type": "markdown",
   "metadata": {},
   "source": [
    "### Load dataset\n"
   ]
  },
  {
   "cell_type": "code",
   "execution_count": 3,
   "metadata": {},
   "outputs": [],
   "source": [
    "#load data\n",
    "cwd = os.getcwd()+'\\..\\data\\clean_data';\n",
    "kerns = os.path.join(cwd,'trainData.npy')\n",
    "trainData = np.load(kerns)\n",
    "\n",
    "kerns = os.path.join(cwd,'testData.npy')\n",
    "testData = np.load(kerns)\n",
    "\n",
    "kerns = os.path.join(cwd,'trainLabels.npy')\n",
    "trainLabels = np.load(kerns)\n",
    "\n",
    "kerns = os.path.join(cwd,'testLabels.npy')\n",
    "testLabels = np.load(kerns)"
   ]
  },
  {
   "cell_type": "markdown",
   "metadata": {},
   "source": [
    "### Set paramters"
   ]
  },
  {
   "cell_type": "code",
   "execution_count": 4,
   "metadata": {},
   "outputs": [],
   "source": [
    "n = 7;  #how long the substrings should be.\n",
    "l = 0.5; #The penalty (weight) paramter"
   ]
  },
  {
   "cell_type": "markdown",
   "metadata": {},
   "source": [
    "### Compute kernels using dynamic programming"
   ]
  },
  {
   "cell_type": "code",
   "execution_count": 5,
   "metadata": {},
   "outputs": [
    {
     "name": "stdout",
     "output_type": "stream",
     "text": [
      "marcus: 2665.4096446037292\n"
     ]
    }
   ],
   "source": [
    "t1=time.time()\n",
    "K = marcus_recursive_kernel(trainData,trainData,n,l)\n",
    "t2=time.time()\n",
    "\n",
    "print(\"marcus: \"+repr(t2-t1))"
   ]
  },
  {
   "cell_type": "markdown",
   "metadata": {},
   "source": [
    "### Save kernel"
   ]
  },
  {
   "cell_type": "code",
   "execution_count": 6,
   "metadata": {},
   "outputs": [],
   "source": [
    "cwd = os.getcwd()+'\\..\\data\\precomp_recursive_kernels';\n",
    "kerns = os.path.join(cwd,'n7l05Train.npy')\n",
    "np.save(kerns,K)"
   ]
  }
 ],
 "metadata": {
  "kernelspec": {
   "display_name": "Python 3",
   "language": "python",
   "name": "python3"
  },
  "language_info": {
   "codemirror_mode": {
    "name": "ipython",
    "version": 3
   },
   "file_extension": ".py",
   "mimetype": "text/x-python",
   "name": "python",
   "nbconvert_exporter": "python",
   "pygments_lexer": "ipython3",
   "version": "3.5.4"
  }
 },
 "nbformat": 4,
 "nbformat_minor": 2
}
