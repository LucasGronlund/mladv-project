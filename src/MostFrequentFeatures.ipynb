{
 "cells": [
  {
   "cell_type": "code",
   "execution_count": 16,
   "metadata": {},
   "outputs": [],
   "source": [
    "import itertools as it\n",
    "import numpy as np\n",
    "\n",
    "#generate all contigious k-grams\n",
    "#import dataset\n",
    "def findMostFrequent(dataset, k, numbTop):\n",
    "    alphabet = 'abcdefghijklmnopqrstuvwxyz '\n",
    "    collection = it.product(alphabet,repeat = k)\n",
    "    indexArray = np.zeros(len(alphabet)**k)\n",
    "    topFeatures = []\n",
    "    \n",
    "    for document in dataset:    \n",
    "        for index, ngram in enumerate(collection):\n",
    "            indexArray[index] += document.count(ngram)\n",
    "            \n",
    "    for i in range(numpTop):\n",
    "        temp = np.argmax(indexArray)\n",
    "        topFeatures.append(collection[temp])\n",
    "        indexArray[temp] = 0\n",
    "    \n",
    "    return topFeatures"
   ]
  }
 ],
 "metadata": {
  "kernelspec": {
   "display_name": "Python 3",
   "language": "python",
   "name": "python3"
  },
  "language_info": {
   "codemirror_mode": {
    "name": "ipython",
    "version": 3
   },
   "file_extension": ".py",
   "mimetype": "text/x-python",
   "name": "python",
   "nbconvert_exporter": "python",
   "pygments_lexer": "ipython3",
   "version": "3.6.3"
  }
 },
 "nbformat": 4,
 "nbformat_minor": 2
}
