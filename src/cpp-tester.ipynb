{
 "cells": [
  {
   "cell_type": "code",
   "execution_count": 55,
   "metadata": {},
   "outputs": [],
   "source": [
    "import subprocess\n",
    "import io\n",
    "import fetch_data as fd\n",
    "import numpy as np\n",
    "\n",
    "\n",
    "categories = ['earn','crude']\n",
    "numberOfTraining = [10,10]\n",
    "numberOfTesting = [7,2]\n",
    "\n",
    "\n",
    "trainData,trainLabels, testData,testLabel = fd.loadData(categories,numberOfTraining,numberOfTesting)\n",
    "# from subprocess import Popen, PIPE, STDOUT\n",
    "\n",
    "# Compile the fast_recursive_kernel\n",
    "test = subprocess.Popen([\"g++\",\"fast_recursive_kernel.cpp\",\"-o\",\"fast_recursive_kernel.out\"], stdout=subprocess.PIPE)\n",
    "output_compile = test.communicate()[0]\n",
    "# print(output_compile.decode('ascii'))\n",
    "\n",
    "\n",
    "def parseMatrix(matrix):\n",
    "    num_rows = int(matrix[0])\n",
    "    num_cols = int(matrix[1])\n",
    "    K = np.zeros([num_rows,num_cols])\n",
    "    counter = 2\n",
    "    for i in range(num_rows):\n",
    "        for j in range(num_cols):\n",
    "            K[i,j] = float(matrix[counter])\n",
    "            counter = counter + 1\n",
    "    return K"
   ]
  },
  {
   "cell_type": "code",
   "execution_count": 67,
   "metadata": {},
   "outputs": [
    {
     "name": "stdout",
     "output_type": "stream",
     "text": [
      "2871\n",
      "HHHHHEEEELLLLOOOOO\n",
      "\n",
      "0 143 20\n",
      "0 143 20\n",
      "0 143 20\n",
      "0 143 20\n",
      "1 2871 20\n",
      "1 2871 20\n",
      "1 2871 20\n",
      "1 2871 20\n",
      "2 123 20\n",
      "2 123 20\n",
      "2 123 20\n",
      "2 123 20\n",
      "3 849 20\n",
      "3 849 20\n",
      "3 849 20\n",
      "3 849 20\n",
      "4 837 20\n",
      "4 837 20\n",
      "4 837 20\n",
      "4 837 20\n",
      "5 89 20\n",
      "5 89 20\n",
      "5 89 20\n",
      "5 89 20\n",
      "6 104 20\n",
      "6 104 20\n",
      "6 104 20\n",
      "6 104 20\n",
      "7 925 20\n",
      "7 925 20\n",
      "7 925 20\n",
      "7 925 20\n",
      "8 201 20\n",
      "8 201 20\n",
      "8 201 20\n",
      "8 201 20\n",
      "9 440 20\n",
      "9 440 20\n",
      "9 440 20\n",
      "9 440 20\n",
      "10 1459 20\n",
      "10 1459 20\n",
      "10 1459 20\n",
      "10 1459 20\n",
      "11 368 20\n",
      "11 368 20\n",
      "11 368 20\n",
      "11 368 20\n",
      "12 352 20\n",
      "12 352 20\n",
      "12 352 20\n",
      "12 352 20\n",
      "13 310 20\n",
      "13 310 20\n",
      "13 310 20\n",
      "13 310 20\n",
      "14 174 20\n",
      "14 174 20\n",
      "14 174 20\n",
      "14 174 20\n",
      "15 448 20\n",
      "15 448 20\n",
      "15 448 20\n",
      "15 448 20\n",
      "16 1089 20\n",
      "16 1089 20\n",
      "16 1089 20\n",
      "16 1089 20\n",
      "17 1161 20\n",
      "17 1161 20\n",
      "17 1161 20\n",
      "17 1161 20\n",
      "18 146 20\n",
      "18 146 20\n",
      "18 146 20\n",
      "18 146 20\n",
      "19 508 20\n",
      "19 508 20\n",
      "19 508 20\n",
      "19 508 20\n",
      "HHHHHEEEELLLLOOOOO\n",
      "\n",
      "20 9 0.7730406729655087 0.7065003044281508 0.7709364950459572 0.9590795029369392 0.7251109795076011 0.7441680218985288 0.5255587303535245 0.07373937008352371 0.5410510033566484 0.568589733851588 0.7599622261714408 0.6219068611225304 0.5533517219480648 0.8419557348809542 0.6852886396199523 0.899045093780059 0.255198921863046 0.8526142224317043 0.8861298926347725 0.7769741472986864 0.8861827103606483 0.8540131505623091 0.7734278587981865 0.8380075618391254 0.560191530330487 0.1291056129646524 0.5527363788403489 0.5456344288422607 0.7107246716646263 0.6276215056892165 0.4819000108398807 0.7562371044058085 0.6965687659124707 0.9028045782204728 0.3178608170860416 0.7497279140783027 0.5704192026346074 0.7798367668988727 0.6329784996635637 0.5390883782815011 0.8271606101187118 0.6816030791156484 0.8508416146448183 0.1590831068638788 0.7976617919044546 0.8733327975440323 0.7805128205186004 0.888821143973353 0.8033733407738243 0.7865101040309889 0.8103124145904321 0.5574002094942629 0.1227473704073161 0.5573830583259911 0.5480697960127788 0.6215831841709057 0.5885860905188242 0.5306017592816417 0.680273674153528 0.6288721758564644 0.6811226678394753 0.4004181059518727 0.646821891598419 0.7273504351290301 0.8761734916984782 0.78227537429922 0.7781259507942965 0.9276285782646102 0.7929902469624716 0.8038751189411958 0.2587537832376541 0.7159940668030752 0.7401295946185098 0.8269212212151467 0.8019762114359852 0.727460982041307 0.8573237443112905 0.8798936869431052 0.7736633363176951 0.2048947296898639 0.6987266523740278 0.706524752601119 0.826854409145404 0.779073824537558 0.7475156350400026 0.8747496256458454 0.817942903841466 0.8271982914002808 0.2672971821949527 0.7106219030750388 0.4965683213680061 0.7174198810698031 0.5632481348518157 0.5107939932582787 0.7792194037574682 0.669998723661717 0.8449550455920319 0.2231645498830326 0.8521271687462423 0.5971194424182987 0.7398743265997523 0.6503989791235224 0.6145541557616088 0.8064021802489149 0.7184442631630703 0.8010789999622479 0.243973653769539 0.8099703534623958 0.447042177134844 0.6610643583980094 0.4908186734180381 0.4211919968719315 0.6905842608974671 0.615276237893209 0.782428694433179 0.2017016940305126 0.7757071514031847 0.5014664895848113 0.689911733346694 0.5833126765194514 0.5136974614844978 0.7048586600218848 0.7005518721624591 0.8372156055875734 0.2879067276269393 0.8253166963014298 0.5431659033546768 0.6127397379973935 0.5915799937117634 0.5098867784826557 0.7527385143227886 0.5888422583570349 0.6975993724066399 0.1883838415681344 0.6849411660684762 0.5615512277215819 0.6765453055124004 0.6028459864052728 0.4621577623765832 0.7403505923018356 0.6105815901416187 0.7669268190229858 0.2830435156080916 0.7837618204458662 0.6023404767171648 0.7645232604917277 0.6281602443148813 0.5861293469532796 0.8019266183534105 0.7289387070887657 0.8399000629910385 0.2347160630188539 0.9001472111937817 0.5411207178671513 0.7045834759391717 0.5961981941523662 0.5664206681771243 0.826799811657559 0.6525762018692784 0.8455017732091283 0.3021351906226063 0.8241081001299405 0.3983211194932431 0.5062308067782989 0.4862841418657316 0.3682195390290955 0.5261786047001094 0.5025203233729751 0.607110680711519 0.2626500522542169 0.5490607962699977 0.5677191500686803 0.6621250191579164 0.6045613655316598 0.5262512841089855 0.7689597483991526 0.6149577649852046 0.7399661394926831 0.225196175475813 0.7742384533299698\n",
      "Total time: 1296 ms\n",
      "Time difference = 1296215056 ns\n",
      "\n"
     ]
    }
   ],
   "source": [
    "# Test fast_recursive_kernel\n",
    "n = 2\n",
    "l = 0.5\n",
    "s = trainData\n",
    "# t = trainData + trainData\n",
    "t = testData\n",
    "# def marcus_recursive_kernel(s,t,n,l):\n",
    "the_strings = b''\n",
    "the_args = bytes(str(len(s)),'ascii')+ b' ' + bytes(str(len(t)),'ascii')+ b' '\n",
    "for i in s:\n",
    "    the_strings = the_strings + bytes(i,'ascii')\n",
    "    the_args = the_args + bytes(str(len(i)),'ascii') + b' '\n",
    "for i in t:\n",
    "    the_strings = the_strings + bytes(i,'ascii')\n",
    "    the_args = the_args + bytes(str(len(i)),'ascii') + b' '\n",
    "the_args = the_args + bytes(str(n), 'ascii')+ b' ' + bytes(str(l), 'ascii')\n",
    "fast_kernel = subprocess.Popen([\"./fast_recursive_kernel.out\"], stdin=subprocess.PIPE, stdout=subprocess.PIPE, stderr=subprocess.STDOUT)\n",
    "output_test = fast_kernel.communicate(input=b'1 '+the_args+the_strings)[0]\n",
    "print(output_test.decode('utf-8'), flush=True)\n",
    "\n",
    "output_test_list = output_test.decode('utf-8').split()\n",
    "#     K = parseMatrix(output_test_list)\n",
    "#     return K\n",
    "\n",
    "# K = marcus_recursive_kernel(trainData,testData,n,l)\n"
   ]
  },
  {
   "cell_type": "code",
   "execution_count": 41,
   "metadata": {},
   "outputs": [
    {
     "data": {
      "text/plain": [
       "[263, 236, 130, 299, 92, 147, 148, 919, 472]"
      ]
     },
     "execution_count": 41,
     "metadata": {},
     "output_type": "execute_result"
    }
   ],
   "source": [
    "[len(i) for i in testData]"
   ]
  },
  {
   "cell_type": "code",
   "execution_count": 66,
   "metadata": {},
   "outputs": [
    {
     "data": {
      "text/plain": [
       "2871"
      ]
     },
     "execution_count": 66,
     "metadata": {},
     "output_type": "execute_result"
    }
   ],
   "source": [
    "len(trainData[1])"
   ]
  },
  {
   "cell_type": "code",
   "execution_count": null,
   "metadata": {},
   "outputs": [],
   "source": []
  },
  {
   "cell_type": "code",
   "execution_count": null,
   "metadata": {},
   "outputs": [],
   "source": []
  },
  {
   "cell_type": "code",
   "execution_count": 10,
   "metadata": {},
   "outputs": [
    {
     "name": "stdout",
     "output_type": "stream",
     "text": [
      "7.6 s ± 115 ms per loop (mean ± std. dev. of 7 runs, 1 loop each)\n"
     ]
    }
   ],
   "source": [
    "%timeit marcus_recursive_kernel(trainData,trainData,5,l)"
   ]
  },
  {
   "cell_type": "code",
   "execution_count": 3,
   "metadata": {},
   "outputs": [
    {
     "ename": "IndexError",
     "evalue": "list index out of range",
     "output_type": "error",
     "traceback": [
      "\u001b[0;31m---------------------------------------------------------------------------\u001b[0m",
      "\u001b[0;31mIndexError\u001b[0m                                Traceback (most recent call last)",
      "\u001b[0;32m<ipython-input-3-f240d5536d0d>\u001b[0m in \u001b[0;36m<module>\u001b[0;34m()\u001b[0m\n\u001b[0;32m----> 1\u001b[0;31m \u001b[0mmarcus_recursive_kernel\u001b[0m\u001b[0;34m(\u001b[0m\u001b[0mtrainData\u001b[0m\u001b[0;34m,\u001b[0m\u001b[0mtestData\u001b[0m\u001b[0;34m,\u001b[0m\u001b[0;36m5\u001b[0m\u001b[0;34m,\u001b[0m\u001b[0ml\u001b[0m\u001b[0;34m)\u001b[0m\u001b[0;34m\u001b[0m\u001b[0m\n\u001b[0m",
      "\u001b[0;32m<ipython-input-2-ffb44d0b2e21>\u001b[0m in \u001b[0;36mmarcus_recursive_kernel\u001b[0;34m(s, t, n, l)\u001b[0m\n\u001b[1;32m     16\u001b[0m     \u001b[0moutput_test\u001b[0m \u001b[0;34m=\u001b[0m \u001b[0mfast_kernel\u001b[0m\u001b[0;34m.\u001b[0m\u001b[0mcommunicate\u001b[0m\u001b[0;34m(\u001b[0m\u001b[0minput\u001b[0m\u001b[0;34m=\u001b[0m\u001b[0;34mb'1 '\u001b[0m\u001b[0;34m+\u001b[0m\u001b[0mthe_args\u001b[0m\u001b[0;34m+\u001b[0m\u001b[0mthe_strings\u001b[0m\u001b[0;34m)\u001b[0m\u001b[0;34m[\u001b[0m\u001b[0;36m0\u001b[0m\u001b[0;34m]\u001b[0m\u001b[0;34m\u001b[0m\u001b[0m\n\u001b[1;32m     17\u001b[0m     \u001b[0moutput_test_list\u001b[0m \u001b[0;34m=\u001b[0m \u001b[0moutput_test\u001b[0m\u001b[0;34m.\u001b[0m\u001b[0mdecode\u001b[0m\u001b[0;34m(\u001b[0m\u001b[0;34m'utf-8'\u001b[0m\u001b[0;34m)\u001b[0m\u001b[0;34m.\u001b[0m\u001b[0msplit\u001b[0m\u001b[0;34m(\u001b[0m\u001b[0;34m)\u001b[0m\u001b[0;34m\u001b[0m\u001b[0m\n\u001b[0;32m---> 18\u001b[0;31m     \u001b[0mK\u001b[0m \u001b[0;34m=\u001b[0m \u001b[0mparseMatrix\u001b[0m\u001b[0;34m(\u001b[0m\u001b[0moutput_test_list\u001b[0m\u001b[0;34m)\u001b[0m\u001b[0;34m\u001b[0m\u001b[0m\n\u001b[0m\u001b[1;32m     19\u001b[0m     \u001b[0;32mreturn\u001b[0m \u001b[0mK\u001b[0m\u001b[0;34m\u001b[0m\u001b[0m\n\u001b[1;32m     20\u001b[0m \u001b[0;34m\u001b[0m\u001b[0m\n",
      "\u001b[0;32m<ipython-input-1-5120f7a9dc59>\u001b[0m in \u001b[0;36mparseMatrix\u001b[0;34m(matrix)\u001b[0m\n\u001b[1;32m     20\u001b[0m \u001b[0;34m\u001b[0m\u001b[0m\n\u001b[1;32m     21\u001b[0m \u001b[0;32mdef\u001b[0m \u001b[0mparseMatrix\u001b[0m\u001b[0;34m(\u001b[0m\u001b[0mmatrix\u001b[0m\u001b[0;34m)\u001b[0m\u001b[0;34m:\u001b[0m\u001b[0;34m\u001b[0m\u001b[0m\n\u001b[0;32m---> 22\u001b[0;31m     \u001b[0mnum_rows\u001b[0m \u001b[0;34m=\u001b[0m \u001b[0mint\u001b[0m\u001b[0;34m(\u001b[0m\u001b[0mmatrix\u001b[0m\u001b[0;34m[\u001b[0m\u001b[0;36m0\u001b[0m\u001b[0;34m]\u001b[0m\u001b[0;34m)\u001b[0m\u001b[0;34m\u001b[0m\u001b[0m\n\u001b[0m\u001b[1;32m     23\u001b[0m     \u001b[0mnum_cols\u001b[0m \u001b[0;34m=\u001b[0m \u001b[0mint\u001b[0m\u001b[0;34m(\u001b[0m\u001b[0mmatrix\u001b[0m\u001b[0;34m[\u001b[0m\u001b[0;36m1\u001b[0m\u001b[0;34m]\u001b[0m\u001b[0;34m)\u001b[0m\u001b[0;34m\u001b[0m\u001b[0m\n\u001b[1;32m     24\u001b[0m     \u001b[0mK\u001b[0m \u001b[0;34m=\u001b[0m \u001b[0mnp\u001b[0m\u001b[0;34m.\u001b[0m\u001b[0mzeros\u001b[0m\u001b[0;34m(\u001b[0m\u001b[0;34m[\u001b[0m\u001b[0mnum_rows\u001b[0m\u001b[0;34m,\u001b[0m\u001b[0mnum_cols\u001b[0m\u001b[0;34m]\u001b[0m\u001b[0;34m)\u001b[0m\u001b[0;34m\u001b[0m\u001b[0m\n",
      "\u001b[0;31mIndexError\u001b[0m: list index out of range"
     ]
    }
   ],
   "source": [
    "marcus_recursive_kernel(trainData,testData,5,l)"
   ]
  },
  {
   "cell_type": "code",
   "execution_count": 12,
   "metadata": {},
   "outputs": [
    {
     "data": {
      "text/plain": [
       "['pall corp lt pll sets quarterly dividend qtly div cts vs cts prior pay may one record april ',\n",
       " 'rjr nabisco first quarter net include mln dlr gain mln dlr charge rjr nabisco first quarter net include mln dlr gain mln dlr charge ',\n",
       " 'cleopatra kohlique inc lt cleo year net year ended march shr three cts vs cts net vs revs mln vs mln ',\n",
       " 'fleet financial group st qtr shr cts vs cts fleet financial group st qtr shr cts vs cts ',\n",
       " 'global natural resources inc lt gnr th qtr loss oper shr loss five cts vs loss nil ope net loss vs loss revs vs mln avg shrs mln vs mln year oper shr profit cts vs loss one ct oper net profit vs loss revs mln vs mln avg shrs mln vs mln note net excludes extraordinary tax charges dlrs vs dlrs quarter credits dlrs vs dlrs year ',\n",
       " 'qms inc lt aqm th qtr oct net shr cts vs cts net vs revs mln vs mln avg shrs vs year shr cts vs cts net vs revs mln vs mln avg shrs vs ',\n",
       " 'hartmarx corp lt hmx nd qtr may net shr cts vs cts net vs sales mln vs mln six mths shr cts vs cts net mln vs mln sales mln vs mln ',\n",
       " 'coastal raises crude oil postings cts bbl yesterday wti dlrs coastal raises crude oil postings cts bbl yesterday wti dlrs ',\n",
       " 'ec watching gulf war developments european community ec watch carefully developments gulf war consequences oil market ec energy commissioner nicolas mosar said today speaking two weeks u warship attacked gulf mosar warned escalation gulf would increase tensions oil market want alarmist told news conference ec energy ministers meeting luxembourg said volume ec oil imports gulf declined around pct total oil imports first three months pct period last year also potential sources supplies world added issue gulf oil imports discussed ministers meeting added ec committee national experts called oil supply group would discuss gulf oil supplies bi annual meeting june said major decisions would reserved ec foreign ministers diplomats said west european nations far shown little enthusiasm backing u plan give military protection merchant ships gulf could help insure safety oil supplies ']"
      ]
     },
     "execution_count": 12,
     "metadata": {},
     "output_type": "execute_result"
    }
   ],
   "source": [
    "testData"
   ]
  },
  {
   "cell_type": "code",
   "execution_count": null,
   "metadata": {},
   "outputs": [],
   "source": []
  }
 ],
 "metadata": {
  "kernelspec": {
   "display_name": "Python 3",
   "language": "python",
   "name": "python3"
  },
  "language_info": {
   "codemirror_mode": {
    "name": "ipython",
    "version": 3
   },
   "file_extension": ".py",
   "mimetype": "text/x-python",
   "name": "python",
   "nbconvert_exporter": "python",
   "pygments_lexer": "ipython3",
   "version": "3.6.4"
  }
 },
 "nbformat": 4,
 "nbformat_minor": 2
}
