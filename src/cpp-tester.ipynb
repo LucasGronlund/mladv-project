{
 "cells": [
  {
   "cell_type": "code",
   "execution_count": 5,
   "metadata": {},
   "outputs": [],
   "source": [
    "import subprocess\n",
    "import io\n",
    "import fetch_data as fd\n",
    "import numpy as np\n",
    "\n",
    "\n",
    "categories = ['earn','crude']\n",
    "numberOfTraining = [10,10]\n",
    "numberOfTesting = [7,2]\n",
    "\n",
    "\n",
    "trainData,trainLabels, testData,testLabel = fd.loadData(categories,numberOfTraining,numberOfTesting)\n",
    "# from subprocess import Popen, PIPE, STDOUT\n",
    "\n",
    "# Compile the fast_recursive_kernel\n",
    "test = subprocess.Popen([\"g++\",\"fast_recursive_kernel.cpp\",\"-o\",\"fast_recursive_kernel.out\"], stdout=subprocess.PIPE)\n",
    "output_compile = test.communicate()[0]\n",
    "# print(output_compile.decode('ascii'))\n",
    "\n",
    "\n",
    "def parseMatrix(matrix):\n",
    "    num_rows = int(matrix[0])\n",
    "    num_cols = int(matrix[1])\n",
    "    K = np.zeros([num_rows,num_cols])\n",
    "    counter = 2\n",
    "    for i in range(num_rows):\n",
    "        for j in range(num_cols):\n",
    "            K[i,j] = float(matrix[counter])\n",
    "            counter = counter + 1\n",
    "    return K"
   ]
  },
  {
   "cell_type": "code",
   "execution_count": 6,
   "metadata": {},
   "outputs": [],
   "source": [
    "# Test fast_recursive_kernel\n",
    "n = 2\n",
    "l = 0.5\n",
    "\n",
    "def marcus_recursive_kernel(s,t,n,l):\n",
    "    the_strings = b''\n",
    "    the_args = bytes(str(len(s)),'ascii')+ b' ' + bytes(str(len(t)),'ascii')+ b' '\n",
    "    for i in s:\n",
    "        the_strings = the_strings + bytes(i,'ascii')\n",
    "        the_args = the_args + bytes(str(len(i)),'ascii') + b' '\n",
    "    for i in t:\n",
    "        the_strings = the_strings + bytes(i,'ascii')\n",
    "        the_args = the_args + bytes(str(len(i)),'ascii') + b' '\n",
    "    the_args = the_args + bytes(str(n), 'ascii')+ b' ' + bytes(str(l), 'ascii')\n",
    "    fast_kernel = subprocess.Popen([\"./fast_recursive_kernel.out\"], stdin=subprocess.PIPE, stdout=subprocess.PIPE)\n",
    "    output_test = fast_kernel.communicate(input=b'1 '+the_args+the_strings)[0]\n",
    "    output_test_list = output_test.decode('utf-8').split()\n",
    "    K = parseMatrix(output_test_list)\n",
    "    return K\n",
    "\n",
    "K = marcus_recursive_kernel(trainData,trainData,n,l)\n"
   ]
  },
  {
   "cell_type": "code",
   "execution_count": 10,
   "metadata": {},
   "outputs": [
    {
     "name": "stdout",
     "output_type": "stream",
     "text": [
      "7.6 s ± 115 ms per loop (mean ± std. dev. of 7 runs, 1 loop each)\n"
     ]
    }
   ],
   "source": [
    "%timeit marcus_recursive_kernel(trainData,trainData,5,l)"
   ]
  },
  {
   "cell_type": "code",
   "execution_count": null,
   "metadata": {},
   "outputs": [],
   "source": []
  },
  {
   "cell_type": "code",
   "execution_count": null,
   "metadata": {},
   "outputs": [],
   "source": []
  },
  {
   "cell_type": "code",
   "execution_count": null,
   "metadata": {},
   "outputs": [],
   "source": []
  }
 ],
 "metadata": {
  "kernelspec": {
   "display_name": "Python 3",
   "language": "python",
   "name": "python3"
  },
  "language_info": {
   "codemirror_mode": {
    "name": "ipython",
    "version": 3
   },
   "file_extension": ".py",
   "mimetype": "text/x-python",
   "name": "python",
   "nbconvert_exporter": "python",
   "pygments_lexer": "ipython3",
   "version": "3.6.4"
  }
 },
 "nbformat": 4,
 "nbformat_minor": 2
}
