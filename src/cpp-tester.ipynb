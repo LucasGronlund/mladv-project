{
 "cells": [
  {
   "cell_type": "code",
   "execution_count": 160,
   "metadata": {},
   "outputs": [],
   "source": [
    "import subprocess\n",
    "import io\n",
    "import fetch_data as fd\n",
    "\n",
    "\n",
    "categories = ['earn','crude']\n",
    "numberOfTraining = [10,10]\n",
    "numberOfTesting = [7,2]\n",
    "\n",
    "\n",
    "trainData,trainLabels, testData,testLabel = fd.loadData(categories,numberOfTraining,numberOfTesting)\n",
    "# from subprocess import Popen, PIPE, STDOUT"
   ]
  },
  {
   "cell_type": "code",
   "execution_count": 80,
   "metadata": {},
   "outputs": [],
   "source": [
    "s = b'det var en gang en apa och hadet var en gang en apa och hadet var en gang en apa och hadet var en gang en apa och hadet var en gang en apa och hadet var en gang en apa och hadet var en gang en apa och hadet var en gang en apa och hadet var en gang en apa och hadet var en gang en apa och hadet var en gang en apa och hadet var en gang en apa och hadet var en gang en apa och hadet var en gang en apa och hadet var en gang en apa och hadet var en gang en apa och hadet var en gang en apa och hadet var en gang en apa och hadet var en gang en apa och hadet var en gang en apa och hadet var en gang en apa och hadet var en gang en apa och hadet var en gang en apa och hadet var en gang en apa och hadet var en gang en apa och hadet var en gang en apa och hadet var en gang en apa och hadet var en gang en apa och hadet var en gang en apa och hadet var en gang en apa och hadet var en gang en apa och hadet var en gang en apa och hadet var en gang en apa och hadet var en gang en apa och hadet var en gang en apa och hadet var en gang en apa och hadet var en gang en apa och hadet var en gang en apa och hadet var en gang en apa och hadet var en gang en apa och hadet var en gang en apa och hadet var en gang en apa och hadet var en gang en apa och hadet var en gang en apa och hadet var en gang en apa och hadet var en gang en apa och hadet var en gang en apa och hadet var en gang en apa och hadet var en gang en apa och hadet var en gang en apa och hadet var en gang en apa och hadet var en gang en apa och hadet var en gang en apa och hadet var en gang en apa och hadet var en gang en apa och hadet var en gang en apa och hadet var en gang en apa och hadet var en gang en apa och hadet var en gang en apa och hadet var en gang en apa och hadet var en gang en apa och ha'\n",
    "t = b'jag var en apajag var en apajag var en apajag var en apajag var en apajag var en apajag var en apajag var en apajag var en apajag var en apajag var en apajag var en apajag var en apajag var en apajag var en apajag var en apajag var en apajag var en apajag var en apajag var en apajag var en apajag var en apajag var en apajag var en apajag var en apajag var en apajag var en apajag var en apajag var en apajag var en apajag var en apajag var en apajag var en apajag var en apajag var en apajag var en apajag var en apajag var en apajag var en apajag var en apajag var en apajag var en apajag var en apajag var en apajag var en apajag var en apajag var en apajag var en apajag var en apajag var en apajag var en apajag var en apajag var en apajag var en apajag var en apajag var en apajag var en apajag var en apajag var en apajag var en apajag var en apa'"
   ]
  },
  {
   "cell_type": "code",
   "execution_count": null,
   "metadata": {},
   "outputs": [],
   "source": []
  },
  {
   "cell_type": "code",
   "execution_count": 243,
   "metadata": {},
   "outputs": [
    {
     "name": "stdout",
     "output_type": "stream",
     "text": [
      "\n"
     ]
    }
   ],
   "source": [
    "# Compile the fast_recursive_kernel\n",
    "test = subprocess.Popen([\"g++\",\"fast_recursive_kernel.cpp\",\"-o\",\"fast_recursive_kernel.out\"], stdout=subprocess.PIPE)\n",
    "output_compile = test.communicate()[0]\n",
    "print(output_compile.decode('ascii'))\n"
   ]
  },
  {
   "cell_type": "code",
   "execution_count": 245,
   "metadata": {},
   "outputs": [
    {
     "name": "stdout",
     "output_type": "stream",
     "text": [
      "20\n",
      "20\n",
      "10\n",
      "0.5\n",
      "Total time: 1 ms\n",
      "Time difference = 1139242 ns\n",
      "\n"
     ]
    }
   ],
   "source": [
    "# Test fast_recursive_kernel\n",
    "n = 10\n",
    "l = 0.5\n",
    "\n",
    "# def marcus_recursive_kernel(s,t,n,l):\n",
    "s = trainData\n",
    "t = trainData\n",
    "\n",
    "\n",
    "the_strings = b''\n",
    "the_args = bytes(str(len(s)),'ascii')+ b' ' + bytes(str(len(t)),'ascii')+ b' '\n",
    "for i in s:\n",
    "    the_strings = the_strings + bytes(i,'ascii')\n",
    "    the_args = the_args + bytes(str(len(i)),'ascii') + b' '\n",
    "for i in t:\n",
    "    the_strings = the_strings + bytes(i,'ascii')\n",
    "    the_args = the_args + bytes(str(len(i)),'ascii') + b' '\n",
    "\n",
    "the_args = the_args + bytes(str(n), 'ascii')+ b' ' + bytes(str(l), 'ascii')\n",
    "################ the_args = bytes(str(len(s)), 'ascii') + b' ' + bytes(str(len(t)), 'ascii') + b' ' + bytes(str(n), 'ascii')+ b' ' + bytes(str(l), 'ascii')\n",
    "fast_kernel = subprocess.Popen([\"./fast_recursive_kernel.out\"], stdin=subprocess.PIPE, stdout=subprocess.PIPE)\n",
    "output_test = fast_kernel.communicate(input=the_args+the_strings)[0]\n",
    "print(output_test.decode('utf-8'))\n",
    "#### output_test = fast_kernel.communicate(input=the_args+s+t)[0]\n",
    "#### print(output_test.decode('utf-8'))\n",
    "\n",
    "# marcus_recursive_kernel(trainData,trainData,n,l)"
   ]
  },
  {
   "cell_type": "code",
   "execution_count": null,
   "metadata": {},
   "outputs": [],
   "source": []
  },
  {
   "cell_type": "code",
   "execution_count": null,
   "metadata": {},
   "outputs": [],
   "source": []
  },
  {
   "cell_type": "code",
   "execution_count": 223,
   "metadata": {},
   "outputs": [
    {
     "data": {
      "text/plain": [
       "'ecuador deputy minister seeks oil aid venezuela ecuador deputy energy minister fernando santos alvite arrived last night talks venezuelan assistance country oil industry following last week earthquake officials said ecuador obliged suspend crude oil exports expected five months result damage miles pipeline linking jungle oil fields pacific port balao oil normally accounts pct exports fellow opec member venezuela already agreed lend ecuador five mln barrels crude repaid kind days help meet domestic consumption needs officials could neither confirm deny reports venezuela temporarily produce ecuador entire opec quota set barrels per day first half options open moment context cooperation oil production venezuelan energy mines ministry source said discussions also way arrive formula compensate ecuador loss oil export revenue pipeline repaired officials said santos alvite last night met venezuelan energy mines minister arturo hernandez grisanti today hold talks technical level officials said industry sources said among options venezuela produce ecuador entire quota venezuela non opec mexico share latter supply ecuador far eastern clients ministry source said decision yet reached matter announcement would made due course santos alvite said earlier quito ecuador would import six seven mln barrels crude oil meet needs line repaired ecuador energy mines minister javier espinosa teran said last night country needs mln dlrs repair damage export pipeline caused earthquake '"
      ]
     },
     "execution_count": 223,
     "metadata": {},
     "output_type": "execute_result"
    }
   ],
   "source": [
    "trainData[10]"
   ]
  },
  {
   "cell_type": "code",
   "execution_count": null,
   "metadata": {},
   "outputs": [],
   "source": []
  },
  {
   "cell_type": "code",
   "execution_count": null,
   "metadata": {},
   "outputs": [],
   "source": []
  }
 ],
 "metadata": {
  "kernelspec": {
   "display_name": "Python 3",
   "language": "python",
   "name": "python3"
  },
  "language_info": {
   "codemirror_mode": {
    "name": "ipython",
    "version": 3
   },
   "file_extension": ".py",
   "mimetype": "text/x-python",
   "name": "python",
   "nbconvert_exporter": "python",
   "pygments_lexer": "ipython3",
   "version": "3.6.4"
  }
 },
 "nbformat": 4,
 "nbformat_minor": 2
}
